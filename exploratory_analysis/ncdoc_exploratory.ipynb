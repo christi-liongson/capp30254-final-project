{
 "cells": [
  {
   "cell_type": "code",
   "execution_count": 67,
   "metadata": {},
   "outputs": [],
   "source": [
    "# Import libraries\n",
    "import numpy as np\n",
    "import matplotlib.pyplot as plt\n",
    "import pandas as pd\n",
    "import seaborn as sns"
   ]
  },
  {
   "cell_type": "code",
   "execution_count": 68,
   "metadata": {},
   "outputs": [
    {
     "name": "stderr",
     "output_type": "stream",
     "text": [
      "//anaconda3/lib/python3.7/site-packages/IPython/core/interactiveshell.py:3057: DtypeWarning: Columns (0,25,26,53,62,64) have mixed types. Specify dtype option on import or set low_memory=False.\n",
      "  interactivity=interactivity, compiler=compiler, result=result)\n"
     ]
    }
   ],
   "source": [
    "# Import csv\n",
    "inmate = pd.read_csv(\"../data/INMT4AA1.csv\")"
   ]
  },
  {
   "cell_type": "code",
   "execution_count": 69,
   "metadata": {},
   "outputs": [
    {
     "name": "stdout",
     "output_type": "stream",
     "text": [
      "Number of observations: 468172\n",
      "Number of columns: 67\n"
     ]
    }
   ],
   "source": [
    "# Check number of observations, columns\n",
    "print(\"Number of observations:\", inmate.shape[0])\n",
    "print(\"Number of columns:\", inmate.shape[1])"
   ]
  },
  {
   "cell_type": "code",
   "execution_count": 70,
   "metadata": {},
   "outputs": [
    {
     "data": {
      "text/plain": [
       "Index(['INMATE_DOC_NUMBER', 'INMATE_LAST_NAME', 'INMATE_FIRST_NAME',\n",
       "       'INMATE_MIDDLE_INITIAL', 'INMATE_NAME_SUFFIX',\n",
       "       'INMATE_NAME_SOUNDEX_CODE', 'INMATE_GENDER_CODE', 'INMATE_RACE_CODE',\n",
       "       'INMATE_BIRTH_DATE', 'INMATE_ETHNIC_AFFILIATION',\n",
       "       'INMATE_RECORD_STATUS_CODE', 'INMATE_ADMIN._STATUS_CODE',\n",
       "       'CUSTODY_CLASS_CODE', 'NEXT_CUSTODY_REVIEW_DATE',\n",
       "       'INMATE_CONTROL_STATUS_CODE', 'NEXT_SECURITY_REVIEW_DATE',\n",
       "       'INMATE_SPECIAL_CHARACTERISTICS', 'PAROLE_CASE_ANALYST',\n",
       "       'NEXT_PAROLE_COMM._REVIEW_DATE', 'INMATE_PRIMARY_ASSIGNMENT',\n",
       "       'INMATE_ADMISSION_DATE', 'ADMITTING_DIAGNOSTIC_CENTER',\n",
       "       'DATE_OF_LAST_INMATE_MOVEMENT', 'TYPE_OF_LAST_INMATE_MOVEMENT',\n",
       "       'OTHER_FACILITY_CODE', 'CURRENT_DOP_COMMAND_CODE',\n",
       "       'CURRENT_DOP_AREA_CODE', 'INMATE_FACILITY_CODE',\n",
       "       'INMATE_TIME_COMP_STATUS_CODE', 'OLDEST_COMMIT.OF_CURRENT_INCAR',\n",
       "       'OLDEST_SNT.CMP._OF_CURR.INCAR.', 'OLDEST_CONVICTION_DATE',\n",
       "       'TOTAL_SENTENCE_COUNT', 'MOST_SERIOUS_OFFNSE_CURR_INCAR',\n",
       "       'INMATE_IS_FELON/MISDEMEANANT', 'CURRENT_COMMITMENT_PREFIX',\n",
       "       'CURRENT_SENTENCE_COMPONENT', 'TOTAL_SENTENCE_LENGTH(IN_DAYS)',\n",
       "       'LENGTH_OF_CURRENT_INCARCERATN.', 'TERM_OF_INCARCERATION(IN_DAYS)',\n",
       "       'LENGTH_OF_RULING_SENTENCES', 'LAST_RULING_PRD_COMMITMENT',\n",
       "       'LAST_RULING_PRD_COMPONENT', 'FINAL_RULING_PED', 'FINAL_RULING_TRD',\n",
       "       'FINAL_RULING_PRD', 'FINAL_RULING_MAX_RELEASE_DATE',\n",
       "       'LAW_FOR_FINAL_RULING_DATES', 'DAYS_SERVED_IN_DOC_CUSTODY',\n",
       "       'DATE_TRD_&_PRD_LAST_COMPUTED', 'ON/OFF_GAIN_TIME_CODE',\n",
       "       'GT_RATE_/_ET_LEVEL_CODE', 'LAST_DATE_ON/OFF_GAIN_TIME',\n",
       "       'TOTAL_DISCIPLINE_INFRACTIONS', 'LATEST_DISCIPLINE_INFRACTION',\n",
       "       'LAST_DISCIPLINE_INFRACTION_DT.', 'DATE_OF_LAST_ARREST_ON_PAROLE',\n",
       "       'CURRENT_PENDING_REVIEWS_FLAG', 'ESCAPE_HISTORY_FLAG',\n",
       "       'PRIOR_INCARCERATIONS_FLAG', 'NEXT_PAROLE_REVIEW_TYPE_CODE',\n",
       "       'TIME_OF_LAST_MOVEMENT', 'POPULATION/MANAGEMENT_UNIT',\n",
       "       'INMATE_POSITIVELY_IDENTIFIED', 'PAROLE_AND_TERMINATE_STATUS',\n",
       "       'INMATE_LABEL_STATUS_CODE', 'PRIMARY_OFFENSE_QUALIFIER'],\n",
       "      dtype='object')"
      ]
     },
     "execution_count": 70,
     "metadata": {},
     "output_type": "execute_result"
    }
   ],
   "source": [
    "# List all variables\n",
    "inmate.columns"
   ]
  },
  {
   "cell_type": "code",
   "execution_count": 84,
   "metadata": {},
   "outputs": [
    {
     "data": {
      "text/plain": [
       "True"
      ]
     },
     "execution_count": 84,
     "metadata": {},
     "output_type": "execute_result"
    }
   ],
   "source": [
    "# Check if the DOC ID number is unique\n",
    "inmate['INMATE_DOC_NUMBER'].is_unique"
   ]
  },
  {
   "cell_type": "code",
   "execution_count": 71,
   "metadata": {},
   "outputs": [],
   "source": [
    "# For project proposal, only want:\n",
    "#  - Age: INMATE_BIRTH_DATE\n",
    "#  - Gender: INMATE_GENDER_CODE\n",
    "#  - Race: INMATE_RACE_CODE\n",
    "#  - Active (or not): INMATE_RECORD_STATUS_CODE\n",
    "#  - Felony or misdemeanor: INMATE_IS_FELON/MISDEMEANANT\n",
    "\n",
    "inmate_explore = inmate[['INMATE_BIRTH_DATE', 'INMATE_GENDER_CODE', 'INMATE_RACE_CODE', 'INMATE_RECORD_STATUS_CODE', 'INMATE_IS_FELON/MISDEMEANANT']]"
   ]
  },
  {
   "cell_type": "code",
   "execution_count": 72,
   "metadata": {},
   "outputs": [
    {
     "data": {
      "text/html": [
       "<div>\n",
       "<style scoped>\n",
       "    .dataframe tbody tr th:only-of-type {\n",
       "        vertical-align: middle;\n",
       "    }\n",
       "\n",
       "    .dataframe tbody tr th {\n",
       "        vertical-align: top;\n",
       "    }\n",
       "\n",
       "    .dataframe thead th {\n",
       "        text-align: right;\n",
       "    }\n",
       "</style>\n",
       "<table border=\"1\" class=\"dataframe\">\n",
       "  <thead>\n",
       "    <tr style=\"text-align: right;\">\n",
       "      <th></th>\n",
       "      <th>INMATE_BIRTH_DATE</th>\n",
       "      <th>INMATE_GENDER_CODE</th>\n",
       "      <th>INMATE_RACE_CODE</th>\n",
       "      <th>INMATE_RECORD_STATUS_CODE</th>\n",
       "      <th>INMATE_IS_FELON/MISDEMEANANT</th>\n",
       "    </tr>\n",
       "  </thead>\n",
       "  <tbody>\n",
       "    <tr>\n",
       "      <th>0</th>\n",
       "      <td>1961-10-15</td>\n",
       "      <td>MALE</td>\n",
       "      <td>WHITE</td>\n",
       "      <td>INACTIVE</td>\n",
       "      <td>FELON</td>\n",
       "    </tr>\n",
       "    <tr>\n",
       "      <th>1</th>\n",
       "      <td>1951-07-17</td>\n",
       "      <td>MALE</td>\n",
       "      <td>WHITE</td>\n",
       "      <td>INACTIVE</td>\n",
       "      <td>MISD.</td>\n",
       "    </tr>\n",
       "    <tr>\n",
       "      <th>2</th>\n",
       "      <td>1963-12-29</td>\n",
       "      <td>MALE</td>\n",
       "      <td>WHITE</td>\n",
       "      <td>INACTIVE</td>\n",
       "      <td>FELON</td>\n",
       "    </tr>\n",
       "    <tr>\n",
       "      <th>3</th>\n",
       "      <td>1953-05-18</td>\n",
       "      <td>MALE</td>\n",
       "      <td>BLACK</td>\n",
       "      <td>INACTIVE</td>\n",
       "      <td>FELON</td>\n",
       "    </tr>\n",
       "    <tr>\n",
       "      <th>4</th>\n",
       "      <td>1921-08-26</td>\n",
       "      <td>MALE</td>\n",
       "      <td>WHITE</td>\n",
       "      <td>INACTIVE</td>\n",
       "      <td>MISD.</td>\n",
       "    </tr>\n",
       "  </tbody>\n",
       "</table>\n",
       "</div>"
      ],
      "text/plain": [
       "  INMATE_BIRTH_DATE INMATE_GENDER_CODE INMATE_RACE_CODE  \\\n",
       "0        1961-10-15               MALE            WHITE   \n",
       "1        1951-07-17               MALE            WHITE   \n",
       "2        1963-12-29               MALE            WHITE   \n",
       "3        1953-05-18               MALE            BLACK   \n",
       "4        1921-08-26               MALE            WHITE   \n",
       "\n",
       "  INMATE_RECORD_STATUS_CODE INMATE_IS_FELON/MISDEMEANANT  \n",
       "0                  INACTIVE                        FELON  \n",
       "1                  INACTIVE                        MISD.  \n",
       "2                  INACTIVE                        FELON  \n",
       "3                  INACTIVE                        FELON  \n",
       "4                  INACTIVE                        MISD.  "
      ]
     },
     "execution_count": 72,
     "metadata": {},
     "output_type": "execute_result"
    }
   ],
   "source": [
    "# Sanity check: headers\n",
    "inmate_explore.head()"
   ]
  },
  {
   "cell_type": "code",
   "execution_count": 73,
   "metadata": {},
   "outputs": [
    {
     "data": {
      "text/plain": [
       "(468172, 5)"
      ]
     },
     "execution_count": 73,
     "metadata": {},
     "output_type": "execute_result"
    }
   ],
   "source": [
    "# Sanity check: number of observations\n",
    "inmate_explore.shape"
   ]
  },
  {
   "cell_type": "code",
   "execution_count": null,
   "metadata": {},
   "outputs": [],
   "source": [
    "# Define a function to help calculate percentages\n",
    "def calc_pct(df):\n",
    "    total_count = sum(df['count'])\n",
    "    df['pct'] = df['count'] * 100 / total_count\n",
    "    return df.sort_values(['pct'], ascending=False)"
   ]
  },
  {
   "cell_type": "code",
   "execution_count": 85,
   "metadata": {},
   "outputs": [
    {
     "data": {
      "text/html": [
       "<div>\n",
       "<style scoped>\n",
       "    .dataframe tbody tr th:only-of-type {\n",
       "        vertical-align: middle;\n",
       "    }\n",
       "\n",
       "    .dataframe tbody tr th {\n",
       "        vertical-align: top;\n",
       "    }\n",
       "\n",
       "    .dataframe thead th {\n",
       "        text-align: right;\n",
       "    }\n",
       "</style>\n",
       "<table border=\"1\" class=\"dataframe\">\n",
       "  <thead>\n",
       "    <tr style=\"text-align: right;\">\n",
       "      <th></th>\n",
       "      <th>INMATE_GENDER_CODE</th>\n",
       "      <th>count</th>\n",
       "      <th>pct</th>\n",
       "    </tr>\n",
       "  </thead>\n",
       "  <tbody>\n",
       "    <tr>\n",
       "      <th>1</th>\n",
       "      <td>MALE</td>\n",
       "      <td>408537</td>\n",
       "      <td>87.26216</td>\n",
       "    </tr>\n",
       "    <tr>\n",
       "      <th>0</th>\n",
       "      <td>FEMALE</td>\n",
       "      <td>59635</td>\n",
       "      <td>12.73784</td>\n",
       "    </tr>\n",
       "  </tbody>\n",
       "</table>\n",
       "</div>"
      ],
      "text/plain": [
       "  INMATE_GENDER_CODE   count       pct\n",
       "1               MALE  408537  87.26216\n",
       "0             FEMALE   59635  12.73784"
      ]
     },
     "execution_count": 85,
     "metadata": {},
     "output_type": "execute_result"
    }
   ],
   "source": [
    "# Summarize gender\n",
    "by_gender = pd.DataFrame(inmate_explore.groupby(['INMATE_GENDER_CODE']).size().reset_index(name='count'))\n",
    "calc_pct(by_gender)"
   ]
  },
  {
   "cell_type": "code",
   "execution_count": 86,
   "metadata": {},
   "outputs": [
    {
     "data": {
      "text/html": [
       "<div>\n",
       "<style scoped>\n",
       "    .dataframe tbody tr th:only-of-type {\n",
       "        vertical-align: middle;\n",
       "    }\n",
       "\n",
       "    .dataframe tbody tr th {\n",
       "        vertical-align: top;\n",
       "    }\n",
       "\n",
       "    .dataframe thead th {\n",
       "        text-align: right;\n",
       "    }\n",
       "</style>\n",
       "<table border=\"1\" class=\"dataframe\">\n",
       "  <thead>\n",
       "    <tr style=\"text-align: right;\">\n",
       "      <th></th>\n",
       "      <th>INMATE_RACE_CODE</th>\n",
       "      <th>count</th>\n",
       "      <th>pct</th>\n",
       "    </tr>\n",
       "  </thead>\n",
       "  <tbody>\n",
       "    <tr>\n",
       "      <th>1</th>\n",
       "      <td>BLACK</td>\n",
       "      <td>231567</td>\n",
       "      <td>49.462056</td>\n",
       "    </tr>\n",
       "    <tr>\n",
       "      <th>5</th>\n",
       "      <td>WHITE</td>\n",
       "      <td>207389</td>\n",
       "      <td>44.297703</td>\n",
       "    </tr>\n",
       "    <tr>\n",
       "      <th>3</th>\n",
       "      <td>OTHER</td>\n",
       "      <td>17297</td>\n",
       "      <td>3.694590</td>\n",
       "    </tr>\n",
       "    <tr>\n",
       "      <th>2</th>\n",
       "      <td>INDIAN</td>\n",
       "      <td>9395</td>\n",
       "      <td>2.006745</td>\n",
       "    </tr>\n",
       "    <tr>\n",
       "      <th>4</th>\n",
       "      <td>UNKNOWN</td>\n",
       "      <td>1602</td>\n",
       "      <td>0.342183</td>\n",
       "    </tr>\n",
       "    <tr>\n",
       "      <th>0</th>\n",
       "      <td>ASIAN/ORTL</td>\n",
       "      <td>921</td>\n",
       "      <td>0.196723</td>\n",
       "    </tr>\n",
       "  </tbody>\n",
       "</table>\n",
       "</div>"
      ],
      "text/plain": [
       "  INMATE_RACE_CODE   count        pct\n",
       "1            BLACK  231567  49.462056\n",
       "5            WHITE  207389  44.297703\n",
       "3            OTHER   17297   3.694590\n",
       "2           INDIAN    9395   2.006745\n",
       "4          UNKNOWN    1602   0.342183\n",
       "0       ASIAN/ORTL     921   0.196723"
      ]
     },
     "execution_count": 86,
     "metadata": {},
     "output_type": "execute_result"
    }
   ],
   "source": [
    "# Summarize race\n",
    "by_race = pd.DataFrame(inmate_explore.groupby(['INMATE_RACE_CODE']).size().reset_index(name='count'))\n",
    "calc_pct(by_race)"
   ]
  },
  {
   "cell_type": "code",
   "execution_count": 77,
   "metadata": {},
   "outputs": [
    {
     "data": {
      "text/html": [
       "<div>\n",
       "<style scoped>\n",
       "    .dataframe tbody tr th:only-of-type {\n",
       "        vertical-align: middle;\n",
       "    }\n",
       "\n",
       "    .dataframe tbody tr th {\n",
       "        vertical-align: top;\n",
       "    }\n",
       "\n",
       "    .dataframe thead th {\n",
       "        text-align: right;\n",
       "    }\n",
       "</style>\n",
       "<table border=\"1\" class=\"dataframe\">\n",
       "  <thead>\n",
       "    <tr style=\"text-align: right;\">\n",
       "      <th></th>\n",
       "      <th>INMATE_RECORD_STATUS_CODE</th>\n",
       "      <th>count</th>\n",
       "      <th>pct</th>\n",
       "    </tr>\n",
       "  </thead>\n",
       "  <tbody>\n",
       "    <tr>\n",
       "      <th>1</th>\n",
       "      <td>INACTIVE</td>\n",
       "      <td>421662</td>\n",
       "      <td>90.065617</td>\n",
       "    </tr>\n",
       "    <tr>\n",
       "      <th>0</th>\n",
       "      <td>ACTIVE</td>\n",
       "      <td>33566</td>\n",
       "      <td>7.169587</td>\n",
       "    </tr>\n",
       "    <tr>\n",
       "      <th>2</th>\n",
       "      <td>PAROLED</td>\n",
       "      <td>12944</td>\n",
       "      <td>2.764796</td>\n",
       "    </tr>\n",
       "  </tbody>\n",
       "</table>\n",
       "</div>"
      ],
      "text/plain": [
       "  INMATE_RECORD_STATUS_CODE   count        pct\n",
       "1                  INACTIVE  421662  90.065617\n",
       "0                    ACTIVE   33566   7.169587\n",
       "2                   PAROLED   12944   2.764796"
      ]
     },
     "execution_count": 77,
     "metadata": {},
     "output_type": "execute_result"
    }
   ],
   "source": [
    "# Summarize by active or not\n",
    "by_status = pd.DataFrame(inmate_explore.groupby(['INMATE_RECORD_STATUS_CODE']).size().reset_index(name='count'))\n",
    "calc_pct(by_status)"
   ]
  },
  {
   "cell_type": "code",
   "execution_count": 78,
   "metadata": {},
   "outputs": [
    {
     "data": {
      "text/html": [
       "<div>\n",
       "<style scoped>\n",
       "    .dataframe tbody tr th:only-of-type {\n",
       "        vertical-align: middle;\n",
       "    }\n",
       "\n",
       "    .dataframe tbody tr th {\n",
       "        vertical-align: top;\n",
       "    }\n",
       "\n",
       "    .dataframe thead th {\n",
       "        text-align: right;\n",
       "    }\n",
       "</style>\n",
       "<table border=\"1\" class=\"dataframe\">\n",
       "  <thead>\n",
       "    <tr style=\"text-align: right;\">\n",
       "      <th></th>\n",
       "      <th>INMATE_IS_FELON/MISDEMEANANT</th>\n",
       "      <th>count</th>\n",
       "      <th>pct</th>\n",
       "    </tr>\n",
       "  </thead>\n",
       "  <tbody>\n",
       "    <tr>\n",
       "      <th>0</th>\n",
       "      <td>FELON</td>\n",
       "      <td>303536</td>\n",
       "      <td>69.983515</td>\n",
       "    </tr>\n",
       "    <tr>\n",
       "      <th>1</th>\n",
       "      <td>MISD.</td>\n",
       "      <td>130189</td>\n",
       "      <td>30.016485</td>\n",
       "    </tr>\n",
       "  </tbody>\n",
       "</table>\n",
       "</div>"
      ],
      "text/plain": [
       "  INMATE_IS_FELON/MISDEMEANANT   count        pct\n",
       "0                        FELON  303536  69.983515\n",
       "1                        MISD.  130189  30.016485"
      ]
     },
     "execution_count": 78,
     "metadata": {},
     "output_type": "execute_result"
    }
   ],
   "source": [
    "# Summarize by felony/misdemeanor\n",
    "by_felon = pd.DataFrame(inmate_explore.groupby(['INMATE_IS_FELON/MISDEMEANANT']).size().reset_index(name='count'))\n",
    "calc_pct(by_felon)"
   ]
  },
  {
   "cell_type": "code",
   "execution_count": 79,
   "metadata": {},
   "outputs": [
    {
     "name": "stderr",
     "output_type": "stream",
     "text": [
      "//anaconda3/lib/python3.7/site-packages/ipykernel_launcher.py:3: SettingWithCopyWarning: \n",
      "A value is trying to be set on a copy of a slice from a DataFrame.\n",
      "Try using .loc[row_indexer,col_indexer] = value instead\n",
      "\n",
      "See the caveats in the documentation: http://pandas.pydata.org/pandas-docs/stable/indexing.html#indexing-view-versus-copy\n",
      "  This is separate from the ipykernel package so we can avoid doing imports until\n"
     ]
    }
   ],
   "source": [
    "# Convert DOB to age\n",
    "now = pd.Timestamp('now')\n",
    "inmate_explore['dob'] = pd.to_datetime(inmate_explore['INMATE_BIRTH_DATE'], errors='coerce')"
   ]
  },
  {
   "cell_type": "code",
   "execution_count": 80,
   "metadata": {},
   "outputs": [
    {
     "data": {
      "text/plain": [
       "0   1961-10-15\n",
       "1   1951-07-17\n",
       "2   1963-12-29\n",
       "3   1953-05-18\n",
       "4   1921-08-26\n",
       "Name: dob, dtype: datetime64[ns]"
      ]
     },
     "execution_count": 80,
     "metadata": {},
     "output_type": "execute_result"
    }
   ],
   "source": [
    "inmate_explore['dob'].head()"
   ]
  },
  {
   "cell_type": "code",
   "execution_count": 81,
   "metadata": {},
   "outputs": [
    {
     "name": "stderr",
     "output_type": "stream",
     "text": [
      "//anaconda3/lib/python3.7/site-packages/ipykernel_launcher.py:1: SettingWithCopyWarning: \n",
      "A value is trying to be set on a copy of a slice from a DataFrame.\n",
      "Try using .loc[row_indexer,col_indexer] = value instead\n",
      "\n",
      "See the caveats in the documentation: http://pandas.pydata.org/pandas-docs/stable/indexing.html#indexing-view-versus-copy\n",
      "  \"\"\"Entry point for launching an IPython kernel.\n"
     ]
    }
   ],
   "source": [
    "inmate_explore['age'] = (now - inmate_explore['dob']).astype('<m8[Y]')"
   ]
  },
  {
   "cell_type": "code",
   "execution_count": 82,
   "metadata": {},
   "outputs": [
    {
     "data": {
      "text/plain": [
       "0    58.0\n",
       "1    68.0\n",
       "2    56.0\n",
       "3    66.0\n",
       "4    98.0\n",
       "Name: age, dtype: float64"
      ]
     },
     "execution_count": 82,
     "metadata": {},
     "output_type": "execute_result"
    }
   ],
   "source": [
    "inmate_explore['age'].head()"
   ]
  },
  {
   "cell_type": "code",
   "execution_count": 83,
   "metadata": {},
   "outputs": [
    {
     "data": {
      "text/plain": [
       "count    467954.000000\n",
       "mean         52.290370\n",
       "std          16.072996\n",
       "min          15.000000\n",
       "25%          40.000000\n",
       "50%          52.000000\n",
       "75%          63.000000\n",
       "max         120.000000\n",
       "Name: age, dtype: float64"
      ]
     },
     "execution_count": 83,
     "metadata": {},
     "output_type": "execute_result"
    }
   ],
   "source": [
    "# Summary statistics for age\n",
    "inmate_explore['age'].describe()"
   ]
  }
 ],
 "metadata": {
  "kernelspec": {
   "display_name": "Python 3",
   "language": "python",
   "name": "python3"
  },
  "language_info": {
   "codemirror_mode": {
    "name": "ipython",
    "version": 3
   },
   "file_extension": ".py",
   "mimetype": "text/x-python",
   "name": "python",
   "nbconvert_exporter": "python",
   "pygments_lexer": "ipython3",
   "version": "3.7.3"
  }
 },
 "nbformat": 4,
 "nbformat_minor": 2
}
