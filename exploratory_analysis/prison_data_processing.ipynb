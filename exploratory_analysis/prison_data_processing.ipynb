{
 "cells": [
  {
   "cell_type": "markdown",
   "metadata": {},
   "source": [
    "# Identifying Prison Conditions, by State\n",
    "\n",
    "### From the UCLA COVID-19 Behind Bars dataset, identifying and cleaning the policies prisons have put in place to align with social distance recommendations, and support prisoner mental health as a result of the isolation. \n",
    "### From the same dataset, identifying the pre-COVID-19 incarcerated population. \n",
    "### From the Bureau of Justice Statistics, identifying prison capacity (as of 2018) and incarcerated population (as of 2018). "
   ]
  },
  {
   "cell_type": "code",
   "execution_count": 3,
   "metadata": {},
   "outputs": [],
   "source": [
    "%load_ext autoreload\n",
    "%autoreload 2"
   ]
  },
  {
   "cell_type": "code",
   "execution_count": 2,
   "metadata": {},
   "outputs": [],
   "source": [
    "import numpy as np\n",
    "import pandas as pd\n",
    "import re\n",
    "import distance_policy_wrangle as dpw"
   ]
  },
  {
   "cell_type": "markdown",
   "metadata": {},
   "source": [
    "### First, extracting the prison population of each state prior to any COVID-19 releases."
   ]
  },
  {
   "cell_type": "code",
   "execution_count": 7,
   "metadata": {},
   "outputs": [
    {
     "ename": "FileNotFoundError",
     "evalue": "[Errno 2] File ../data/ucla_0519_COVID19_related_prison_releases.csv does not exist: '../data/ucla_0519_COVID19_related_prison_releases.csv'",
     "output_type": "error",
     "traceback": [
      "\u001b[1;31m---------------------------------------------------------------------------\u001b[0m",
      "\u001b[1;31mFileNotFoundError\u001b[0m                         Traceback (most recent call last)",
      "\u001b[1;32m<ipython-input-7-d5a99c0749db>\u001b[0m in \u001b[0;36m<module>\u001b[1;34m\u001b[0m\n\u001b[1;32m----> 1\u001b[1;33m \u001b[0mpopulation\u001b[0m \u001b[1;33m=\u001b[0m \u001b[0mdpw\u001b[0m\u001b[1;33m.\u001b[0m\u001b[0mimport_clean_data\u001b[0m\u001b[1;33m(\u001b[0m\u001b[1;34m'../data/ucla_0519_COVID19_related_prison_releases.csv'\u001b[0m\u001b[1;33m)\u001b[0m\u001b[1;33m\u001b[0m\u001b[1;33m\u001b[0m\u001b[0m\n\u001b[0m\u001b[0;32m      2\u001b[0m \u001b[1;33m\u001b[0m\u001b[0m\n\u001b[0;32m      3\u001b[0m \u001b[0mpopulation\u001b[0m\u001b[1;33m.\u001b[0m\u001b[0mhead\u001b[0m\u001b[1;33m(\u001b[0m\u001b[1;36m5\u001b[0m\u001b[1;33m)\u001b[0m\u001b[1;33m\u001b[0m\u001b[1;33m\u001b[0m\u001b[0m\n",
      "\u001b[1;32m~\\Documents\\Harris\\yr1_q3\\ml\\project\\covid_decarceration\\exploratory_analysis\\distance_policy_wrangle.py\u001b[0m in \u001b[0;36mimport_clean_data\u001b[1;34m(filepath)\u001b[0m\n\u001b[0;32m     32\u001b[0m                \u001b[0mnames\u001b[0m\u001b[1;33m\u001b[0m\u001b[1;33m\u001b[0m\u001b[0m\n\u001b[0;32m     33\u001b[0m     '''\n\u001b[1;32m---> 34\u001b[1;33m     \u001b[0mdf\u001b[0m \u001b[1;33m=\u001b[0m \u001b[0mpd\u001b[0m\u001b[1;33m.\u001b[0m\u001b[0mread_csv\u001b[0m\u001b[1;33m(\u001b[0m\u001b[0mfilepath\u001b[0m\u001b[1;33m)\u001b[0m\u001b[1;33m\u001b[0m\u001b[1;33m\u001b[0m\u001b[0m\n\u001b[0m\u001b[0;32m     35\u001b[0m     \u001b[0mdf\u001b[0m\u001b[1;33m.\u001b[0m\u001b[0mcolumns\u001b[0m \u001b[1;33m=\u001b[0m \u001b[0mdf\u001b[0m\u001b[1;33m.\u001b[0m\u001b[0mcolumns\u001b[0m\u001b[1;33m.\u001b[0m\u001b[0mstr\u001b[0m\u001b[1;33m.\u001b[0m\u001b[0mlower\u001b[0m\u001b[1;33m(\u001b[0m\u001b[1;33m)\u001b[0m\u001b[1;33m\u001b[0m\u001b[1;33m\u001b[0m\u001b[0m\n\u001b[0;32m     36\u001b[0m     \u001b[0mdf\u001b[0m\u001b[1;33m.\u001b[0m\u001b[0mcolumns\u001b[0m \u001b[1;33m=\u001b[0m \u001b[0mdf\u001b[0m\u001b[1;33m.\u001b[0m\u001b[0mcolumns\u001b[0m\u001b[1;33m.\u001b[0m\u001b[0mstr\u001b[0m\u001b[1;33m.\u001b[0m\u001b[0mstrip\u001b[0m\u001b[1;33m(\u001b[0m\u001b[1;34m\"?\"\u001b[0m\u001b[1;33m)\u001b[0m\u001b[1;33m\u001b[0m\u001b[1;33m\u001b[0m\u001b[0m\n",
      "\u001b[1;32m~\\Anaconda3\\lib\\site-packages\\pandas\\io\\parsers.py\u001b[0m in \u001b[0;36mparser_f\u001b[1;34m(filepath_or_buffer, sep, delimiter, header, names, index_col, usecols, squeeze, prefix, mangle_dupe_cols, dtype, engine, converters, true_values, false_values, skipinitialspace, skiprows, skipfooter, nrows, na_values, keep_default_na, na_filter, verbose, skip_blank_lines, parse_dates, infer_datetime_format, keep_date_col, date_parser, dayfirst, cache_dates, iterator, chunksize, compression, thousands, decimal, lineterminator, quotechar, quoting, doublequote, escapechar, comment, encoding, dialect, error_bad_lines, warn_bad_lines, delim_whitespace, low_memory, memory_map, float_precision)\u001b[0m\n\u001b[0;32m    674\u001b[0m         )\n\u001b[0;32m    675\u001b[0m \u001b[1;33m\u001b[0m\u001b[0m\n\u001b[1;32m--> 676\u001b[1;33m         \u001b[1;32mreturn\u001b[0m \u001b[0m_read\u001b[0m\u001b[1;33m(\u001b[0m\u001b[0mfilepath_or_buffer\u001b[0m\u001b[1;33m,\u001b[0m \u001b[0mkwds\u001b[0m\u001b[1;33m)\u001b[0m\u001b[1;33m\u001b[0m\u001b[1;33m\u001b[0m\u001b[0m\n\u001b[0m\u001b[0;32m    677\u001b[0m \u001b[1;33m\u001b[0m\u001b[0m\n\u001b[0;32m    678\u001b[0m     \u001b[0mparser_f\u001b[0m\u001b[1;33m.\u001b[0m\u001b[0m__name__\u001b[0m \u001b[1;33m=\u001b[0m \u001b[0mname\u001b[0m\u001b[1;33m\u001b[0m\u001b[1;33m\u001b[0m\u001b[0m\n",
      "\u001b[1;32m~\\Anaconda3\\lib\\site-packages\\pandas\\io\\parsers.py\u001b[0m in \u001b[0;36m_read\u001b[1;34m(filepath_or_buffer, kwds)\u001b[0m\n\u001b[0;32m    446\u001b[0m \u001b[1;33m\u001b[0m\u001b[0m\n\u001b[0;32m    447\u001b[0m     \u001b[1;31m# Create the parser.\u001b[0m\u001b[1;33m\u001b[0m\u001b[1;33m\u001b[0m\u001b[1;33m\u001b[0m\u001b[0m\n\u001b[1;32m--> 448\u001b[1;33m     \u001b[0mparser\u001b[0m \u001b[1;33m=\u001b[0m \u001b[0mTextFileReader\u001b[0m\u001b[1;33m(\u001b[0m\u001b[0mfp_or_buf\u001b[0m\u001b[1;33m,\u001b[0m \u001b[1;33m**\u001b[0m\u001b[0mkwds\u001b[0m\u001b[1;33m)\u001b[0m\u001b[1;33m\u001b[0m\u001b[1;33m\u001b[0m\u001b[0m\n\u001b[0m\u001b[0;32m    449\u001b[0m \u001b[1;33m\u001b[0m\u001b[0m\n\u001b[0;32m    450\u001b[0m     \u001b[1;32mif\u001b[0m \u001b[0mchunksize\u001b[0m \u001b[1;32mor\u001b[0m \u001b[0miterator\u001b[0m\u001b[1;33m:\u001b[0m\u001b[1;33m\u001b[0m\u001b[1;33m\u001b[0m\u001b[0m\n",
      "\u001b[1;32m~\\Anaconda3\\lib\\site-packages\\pandas\\io\\parsers.py\u001b[0m in \u001b[0;36m__init__\u001b[1;34m(self, f, engine, **kwds)\u001b[0m\n\u001b[0;32m    878\u001b[0m             \u001b[0mself\u001b[0m\u001b[1;33m.\u001b[0m\u001b[0moptions\u001b[0m\u001b[1;33m[\u001b[0m\u001b[1;34m\"has_index_names\"\u001b[0m\u001b[1;33m]\u001b[0m \u001b[1;33m=\u001b[0m \u001b[0mkwds\u001b[0m\u001b[1;33m[\u001b[0m\u001b[1;34m\"has_index_names\"\u001b[0m\u001b[1;33m]\u001b[0m\u001b[1;33m\u001b[0m\u001b[1;33m\u001b[0m\u001b[0m\n\u001b[0;32m    879\u001b[0m \u001b[1;33m\u001b[0m\u001b[0m\n\u001b[1;32m--> 880\u001b[1;33m         \u001b[0mself\u001b[0m\u001b[1;33m.\u001b[0m\u001b[0m_make_engine\u001b[0m\u001b[1;33m(\u001b[0m\u001b[0mself\u001b[0m\u001b[1;33m.\u001b[0m\u001b[0mengine\u001b[0m\u001b[1;33m)\u001b[0m\u001b[1;33m\u001b[0m\u001b[1;33m\u001b[0m\u001b[0m\n\u001b[0m\u001b[0;32m    881\u001b[0m \u001b[1;33m\u001b[0m\u001b[0m\n\u001b[0;32m    882\u001b[0m     \u001b[1;32mdef\u001b[0m \u001b[0mclose\u001b[0m\u001b[1;33m(\u001b[0m\u001b[0mself\u001b[0m\u001b[1;33m)\u001b[0m\u001b[1;33m:\u001b[0m\u001b[1;33m\u001b[0m\u001b[1;33m\u001b[0m\u001b[0m\n",
      "\u001b[1;32m~\\Anaconda3\\lib\\site-packages\\pandas\\io\\parsers.py\u001b[0m in \u001b[0;36m_make_engine\u001b[1;34m(self, engine)\u001b[0m\n\u001b[0;32m   1112\u001b[0m     \u001b[1;32mdef\u001b[0m \u001b[0m_make_engine\u001b[0m\u001b[1;33m(\u001b[0m\u001b[0mself\u001b[0m\u001b[1;33m,\u001b[0m \u001b[0mengine\u001b[0m\u001b[1;33m=\u001b[0m\u001b[1;34m\"c\"\u001b[0m\u001b[1;33m)\u001b[0m\u001b[1;33m:\u001b[0m\u001b[1;33m\u001b[0m\u001b[1;33m\u001b[0m\u001b[0m\n\u001b[0;32m   1113\u001b[0m         \u001b[1;32mif\u001b[0m \u001b[0mengine\u001b[0m \u001b[1;33m==\u001b[0m \u001b[1;34m\"c\"\u001b[0m\u001b[1;33m:\u001b[0m\u001b[1;33m\u001b[0m\u001b[1;33m\u001b[0m\u001b[0m\n\u001b[1;32m-> 1114\u001b[1;33m             \u001b[0mself\u001b[0m\u001b[1;33m.\u001b[0m\u001b[0m_engine\u001b[0m \u001b[1;33m=\u001b[0m \u001b[0mCParserWrapper\u001b[0m\u001b[1;33m(\u001b[0m\u001b[0mself\u001b[0m\u001b[1;33m.\u001b[0m\u001b[0mf\u001b[0m\u001b[1;33m,\u001b[0m \u001b[1;33m**\u001b[0m\u001b[0mself\u001b[0m\u001b[1;33m.\u001b[0m\u001b[0moptions\u001b[0m\u001b[1;33m)\u001b[0m\u001b[1;33m\u001b[0m\u001b[1;33m\u001b[0m\u001b[0m\n\u001b[0m\u001b[0;32m   1115\u001b[0m         \u001b[1;32melse\u001b[0m\u001b[1;33m:\u001b[0m\u001b[1;33m\u001b[0m\u001b[1;33m\u001b[0m\u001b[0m\n\u001b[0;32m   1116\u001b[0m             \u001b[1;32mif\u001b[0m \u001b[0mengine\u001b[0m \u001b[1;33m==\u001b[0m \u001b[1;34m\"python\"\u001b[0m\u001b[1;33m:\u001b[0m\u001b[1;33m\u001b[0m\u001b[1;33m\u001b[0m\u001b[0m\n",
      "\u001b[1;32m~\\Anaconda3\\lib\\site-packages\\pandas\\io\\parsers.py\u001b[0m in \u001b[0;36m__init__\u001b[1;34m(self, src, **kwds)\u001b[0m\n\u001b[0;32m   1889\u001b[0m         \u001b[0mkwds\u001b[0m\u001b[1;33m[\u001b[0m\u001b[1;34m\"usecols\"\u001b[0m\u001b[1;33m]\u001b[0m \u001b[1;33m=\u001b[0m \u001b[0mself\u001b[0m\u001b[1;33m.\u001b[0m\u001b[0musecols\u001b[0m\u001b[1;33m\u001b[0m\u001b[1;33m\u001b[0m\u001b[0m\n\u001b[0;32m   1890\u001b[0m \u001b[1;33m\u001b[0m\u001b[0m\n\u001b[1;32m-> 1891\u001b[1;33m         \u001b[0mself\u001b[0m\u001b[1;33m.\u001b[0m\u001b[0m_reader\u001b[0m \u001b[1;33m=\u001b[0m \u001b[0mparsers\u001b[0m\u001b[1;33m.\u001b[0m\u001b[0mTextReader\u001b[0m\u001b[1;33m(\u001b[0m\u001b[0msrc\u001b[0m\u001b[1;33m,\u001b[0m \u001b[1;33m**\u001b[0m\u001b[0mkwds\u001b[0m\u001b[1;33m)\u001b[0m\u001b[1;33m\u001b[0m\u001b[1;33m\u001b[0m\u001b[0m\n\u001b[0m\u001b[0;32m   1892\u001b[0m         \u001b[0mself\u001b[0m\u001b[1;33m.\u001b[0m\u001b[0munnamed_cols\u001b[0m \u001b[1;33m=\u001b[0m \u001b[0mself\u001b[0m\u001b[1;33m.\u001b[0m\u001b[0m_reader\u001b[0m\u001b[1;33m.\u001b[0m\u001b[0munnamed_cols\u001b[0m\u001b[1;33m\u001b[0m\u001b[1;33m\u001b[0m\u001b[0m\n\u001b[0;32m   1893\u001b[0m \u001b[1;33m\u001b[0m\u001b[0m\n",
      "\u001b[1;32mpandas\\_libs\\parsers.pyx\u001b[0m in \u001b[0;36mpandas._libs.parsers.TextReader.__cinit__\u001b[1;34m()\u001b[0m\n",
      "\u001b[1;32mpandas\\_libs\\parsers.pyx\u001b[0m in \u001b[0;36mpandas._libs.parsers.TextReader._setup_parser_source\u001b[1;34m()\u001b[0m\n",
      "\u001b[1;31mFileNotFoundError\u001b[0m: [Errno 2] File ../data/ucla_0519_COVID19_related_prison_releases.csv does not exist: '../data/ucla_0519_COVID19_related_prison_releases.csv'"
     ]
    }
   ],
   "source": [
    "population = dpw.import_clean_data('../data/ucla_0519_COVID19_related_prison_releases.csv')\n",
    "\n",
    "population.head(5)"
   ]
  },
  {
   "cell_type": "code",
   "execution_count": null,
   "metadata": {},
   "outputs": [],
   "source": []
  },
  {
   "cell_type": "code",
   "execution_count": null,
   "metadata": {},
   "outputs": [],
   "source": []
  },
  {
   "cell_type": "code",
   "execution_count": null,
   "metadata": {},
   "outputs": [],
   "source": []
  },
  {
   "cell_type": "code",
   "execution_count": null,
   "metadata": {},
   "outputs": [],
   "source": []
  },
  {
   "cell_type": "code",
   "execution_count": null,
   "metadata": {},
   "outputs": [],
   "source": []
  },
  {
   "cell_type": "markdown",
   "metadata": {},
   "source": [
    "### Second, extracting any social distance policies in place in prisons, as well as mitigation policies to attempt to alleviate the effects of isolation on prisoners."
   ]
  },
  {
   "cell_type": "code",
   "execution_count": 5,
   "metadata": {
    "scrolled": true
   },
   "outputs": [
    {
     "data": {
      "text/html": [
       "<div>\n",
       "<style scoped>\n",
       "    .dataframe tbody tr th:only-of-type {\n",
       "        vertical-align: middle;\n",
       "    }\n",
       "\n",
       "    .dataframe tbody tr th {\n",
       "        vertical-align: top;\n",
       "    }\n",
       "\n",
       "    .dataframe thead th {\n",
       "        text-align: right;\n",
       "    }\n",
       "</style>\n",
       "<table border=\"1\" class=\"dataframe\">\n",
       "  <thead>\n",
       "    <tr style=\"text-align: right;\">\n",
       "      <th></th>\n",
       "      <th>state</th>\n",
       "      <th>suspended_visitations</th>\n",
       "      <th>explicitly_allows_lawyer_access</th>\n",
       "      <th>compensatory_remote_access_(phone)</th>\n",
       "      <th>compensatory_remote_access_(video)</th>\n",
       "      <th>effective_date</th>\n",
       "      <th>length</th>\n",
       "      <th>source(s)</th>\n",
       "      <th>additional_notes_(related_activity_suspensions,_explanation_of_compensatory_access,_waivers,_etc.)</th>\n",
       "    </tr>\n",
       "  </thead>\n",
       "  <tbody>\n",
       "    <tr>\n",
       "      <th>0</th>\n",
       "      <td>Alabama</td>\n",
       "      <td>X</td>\n",
       "      <td>NaN</td>\n",
       "      <td>x</td>\n",
       "      <td>NaN</td>\n",
       "      <td>2020-03-13</td>\n",
       "      <td>30 days</td>\n",
       "      <td>https://www.waaytv.com/content/coronavirus-con...</td>\n",
       "      <td>also suspended volunteer entry, medical co-pay...</td>\n",
       "    </tr>\n",
       "    <tr>\n",
       "      <th>1</th>\n",
       "      <td>Alaska</td>\n",
       "      <td>X</td>\n",
       "      <td>NaN</td>\n",
       "      <td>X</td>\n",
       "      <td>NaN</td>\n",
       "      <td>2020-03-13</td>\n",
       "      <td>NaN</td>\n",
       "      <td>https://doc.alaska.gov/covid-19</td>\n",
       "      <td>2 free 15-minute calls/week (effective 3/19/20...</td>\n",
       "    </tr>\n",
       "    <tr>\n",
       "      <th>2</th>\n",
       "      <td>Arizona</td>\n",
       "      <td>X</td>\n",
       "      <td>NaN</td>\n",
       "      <td>X</td>\n",
       "      <td>NaN</td>\n",
       "      <td>2020-03-13</td>\n",
       "      <td>30 days</td>\n",
       "      <td>https://corrections.az.gov/sites/default/files...</td>\n",
       "      <td>2 x 15 min. calls/wk in addition to normal pho...</td>\n",
       "    </tr>\n",
       "    <tr>\n",
       "      <th>3</th>\n",
       "      <td>Arkansas</td>\n",
       "      <td>X</td>\n",
       "      <td>NaN</td>\n",
       "      <td>X</td>\n",
       "      <td>X</td>\n",
       "      <td>2020-03-16</td>\n",
       "      <td>21 days</td>\n",
       "      <td>https://adc.arkansas.gov/images/uploads/COVID_...</td>\n",
       "      <td>Price of phone calls reduced; no connect fee o...</td>\n",
       "    </tr>\n",
       "    <tr>\n",
       "      <th>4</th>\n",
       "      <td>California</td>\n",
       "      <td>X</td>\n",
       "      <td>X</td>\n",
       "      <td>X</td>\n",
       "      <td>NaN</td>\n",
       "      <td>2020-03-14</td>\n",
       "      <td>NaN</td>\n",
       "      <td>https://www.cdcr.ca.gov/covid19/</td>\n",
       "      <td>Beginning March 27, staff and visitors enteri...</td>\n",
       "    </tr>\n",
       "  </tbody>\n",
       "</table>\n",
       "</div>"
      ],
      "text/plain": [
       "        state suspended_visitations explicitly_allows_lawyer_access  \\\n",
       "0     Alabama                     X                             NaN   \n",
       "1      Alaska                     X                             NaN   \n",
       "2     Arizona                     X                             NaN   \n",
       "3    Arkansas                     X                             NaN   \n",
       "4  California                     X                               X   \n",
       "\n",
       "  compensatory_remote_access_(phone) compensatory_remote_access_(video)  \\\n",
       "0                                  x                                NaN   \n",
       "1                                  X                                NaN   \n",
       "2                                  X                                NaN   \n",
       "3                                  X                                  X   \n",
       "4                                  X                                NaN   \n",
       "\n",
       "  effective_date   length                                          source(s)  \\\n",
       "0     2020-03-13  30 days  https://www.waaytv.com/content/coronavirus-con...   \n",
       "1     2020-03-13      NaN                    https://doc.alaska.gov/covid-19   \n",
       "2     2020-03-13  30 days  https://corrections.az.gov/sites/default/files...   \n",
       "3     2020-03-16  21 days  https://adc.arkansas.gov/images/uploads/COVID_...   \n",
       "4     2020-03-14      NaN                   https://www.cdcr.ca.gov/covid19/   \n",
       "\n",
       "  additional_notes_(related_activity_suspensions,_explanation_of_compensatory_access,_waivers,_etc.)  \n",
       "0  also suspended volunteer entry, medical co-pay...                                                  \n",
       "1  2 free 15-minute calls/week (effective 3/19/20...                                                  \n",
       "2  2 x 15 min. calls/wk in addition to normal pho...                                                  \n",
       "3  Price of phone calls reduced; no connect fee o...                                                  \n",
       "4   Beginning March 27, staff and visitors enteri...                                                  "
      ]
     },
     "execution_count": 5,
     "metadata": {},
     "output_type": "execute_result"
    }
   ],
   "source": [
    "policies = dpw.import_clean_data('../data/may_19/ucla_0519_visitation_policy_by_state.csv')\n",
    "\n",
    "policies.head(5)"
   ]
  },
  {
   "cell_type": "code",
   "execution_count": 4,
   "metadata": {
    "scrolled": false
   },
   "outputs": [],
   "source": [
    "preset_dummies = [\"suspended_visitations\", \"explicitly_allows_lawyer_access\", \"compensatory_remote_access_(phone)\", \n",
    "                \"compensatory_remote_access_(video)\"]\n",
    "new_cols = [\"no_visits\", \"lawyer_access\", \"phone_access\", \"video_access\"]\n",
    "\n",
    "policies = dpw.transform_easy_cols(policies, preset_dummies, new_cols)"
   ]
  },
  {
   "cell_type": "code",
   "execution_count": 5,
   "metadata": {
    "scrolled": false
   },
   "outputs": [
    {
     "name": "stdout",
     "output_type": "stream",
     "text": [
      "also suspended volunteer entry, medical co-pays; 3/18: announced compensatory free 15 min phone call once per week \n",
      "2 free 15-minute calls/week (effective 3/19/2020). \n",
      "2 x 15 min. calls/wk in addition to normal phone call policies/written letter policies. However, all legal and non-legal visitation is suspended (as of 3/18)\n",
      "Price of phone calls reduced; no connect fee on telephone calls: 15 cents per minute (Div. of Correction & Div. of Community Correction facilities). Video visitation: $2.50 for 30-min visit (state prisons); 15 cents/min for video visits at community correction centers. Rates take effect 03/20/20 (until further notice). Marshall Project: \"Legal visits may be granted on a case-by-case basis.\"\n",
      " Beginning March 27, staff and visitors entering CDCR state prisons and community correctional facilities will undergo an additional touchless temperature screening before entering the facility in addition to the ongoing verbal symptom screening put in place on March 14th. Any non-CDCR/CCHCS/CALPIA staff are not permitted to enter until further notice.  CDCR is limiting transfers of incarcerated people between CDCR facilities and has suspended large-scale construction projects within the perimeter of facilities. CDCR is tracking cases of individuals tested, confirmed, recovered and deceased from COVID-19 via a web tracker.\n",
      "Volunteer services suspended, public tours and family reunification postponed, inter-facility travel limited, compromised parolees not required to come into parole office\n",
      "2 calls per week (Securus)\n",
      "Programming/volunteer activities also suspended; \"department will provide video visitation\"\n",
      "2 free five-minute phone calls per week (effective 3/16/2020), https://doc.delaware.gov/assets/documents/newsroom/2020/20press0316.pdf \n",
      "Legal visits suspended subject to case-by-case accommodation, telphone minutes per month increased to 500, facility transfers suspended (since publicly critcized for not actually following this -- https://papost.org/2020/03/23/federal-government-said-it-halted-prison-transfers-theyre-still-happening/), volunteers and tours suspended for 30 days\n",
      "One free video visitation, two free 15-minute phone calls a week, cost of outbound videograms reduced by 50%, four free \"Jpay Stamps\" per week\n",
      "One phone call per week at no cost, suspended tours\n",
      "X\n",
      "Co-payment for people in custody has been suspended, all volunteer programs suspended\n",
      "Provided funds for two 20-minute phone calls and one 15-minute video visit NOTE: While this is the stated policy, to date prisoners know nothing about it, and the actual impact has been to shorten calls from 30 minutes to 15 minutes. Update as of 3/19/20 - in some facilities people are able to make more than 2 calls for free, limit is 20 minutes instead of 30 and people report seeing phone disinfected.  Other facilities are already on lockdown for influenza and this is not happening.  A lot of inconsistency across 26 facilities.\n",
      "Had initially suspended only volunteer visits, waited until community spread in Iowa to suspend all visits\n",
      "2 free 15-min phone visits & 3 free 30-min video visits per week (effective 3/18/2020; https://www.doc.ks.gov/visitation-update); Marshall project: \"Legal visits are allowed, but officials strongly recommend communicating by phone or in writing.\"\n",
      "1 free phone call per week. Marshall Project: \"Legal visits are allowed, but non-contact visits are strongly encouraged and attorneys may be screened upon arrival.\"\n",
      "2 free phone calls per week; 2 free emails (j-pay stamps) per week. Visitation/volunteers/Spring Rodeo Cancelled. Medical co-pays waived for next 30 days. Savings account minimum reduced from $250 to $150.\n",
      "nan\n",
      "Programming/volunteer activities suspended for two weeks\n",
      "Suspended volunteers, other tours and routine groups\n",
      "2 free 5-minute phone calls per week (week runs Tuesday to Monday - so calls are reset Monday night/Tuesday morning); 1 free 15-minute video visit per week. https://mn.gov/doc/about/covid-19-updates/updates-for-inmate-families/\n",
      "\"Essential visitors\" will be allowed. As of March 17, two free 5-minute calls provided per week. No video visitation sysytem in place.\n",
      "2 free 10-minute calls/week (Securus)\n",
      "One free phone call/week; One free video call/week\n",
      "2 free 5-min phone calls per week beginning 3/2/2020: https://corrections.nebraska.gov/gtl-phone-call-guidelines; telephone call time extended to 2 hours per day: https://corrections.nebraska.gov/ndcs-frequently-asked-questions.  Marshall Project: Legal visits allowed, but attorneys will be screened upon entry.\n",
      "\"Eligible inmates\" get 2 free phone calls per week during visitation shutdown per NDOC's Facebook page.\n",
      "Free postage for letter writing and free access to phones in the prisons.  Haven't received a similar press release from the county jails, but sent letter with recommendations and six counties have all responded noting that they were either in the process of or implementing the recommendations we laid out in the letter.\n",
      "1 free phone call per week; phone call access increased; all inmates provided with additional materials to communicate with family by mail: https://cd.nm.gov/covid-19-updates/\n",
      "Five free stamps per week, two free secure messages per week, one free phone call per week\n",
      "Inmates were still working outside prisons thorugh prison work-release program until Department suspended program 3/24/2020: https://www.themarshallproject.org/2020/03/19/north-carolina-prisoners-still-working-in-chicken-plants-despite-coronavirus-fears \n",
      "Marshall Project: Legal visits suspended, but can be arranged with warden on case-by-case basis\n",
      "2 x 5 min calls/wk (GTL); 1 free 15-min video visit/week; all other video visits are limited to 15 mins, at $3.50/visit while visitation is suspended. Additional contact via phone or video being arranged for non-legal visits.  Free access to e-books through GTL.  Non-monitored legal phone calls are still permitted/still being arranged. Screening process effective 3/16/2020 includes 14-day ban on those who have traveled outside the U.S., and on anyone with fever, cough, or shortness of breath\n",
      "2 x 5 min calls/wk (GTL)\n",
      "2 x 5 min calls/wk (from Telmate)\n",
      "Volunteers cancelled, attorney-client visits only canceled for March 13, waiving co-pay charges for complaints of flu-like symptoms. 5 free phone calls and a 45-min video call by Zoom / week.\n",
      "lockdown in Medium Security. No legal visitation as of 3/17\n",
      "March 12 press release: originally suspended visitation for 30 days; March 31 update: extended suspension until April 30; inmates receive 2 free 5-min phone calls per week\n",
      "March 18 press release: 2 free 5-min phone calls per week, 3/17/20 - 3/13/20; April 1 press release: 2 free 5-min phone calls per week and 1 free video visit per week, through 4/30/2020.\n",
      "2 free 5-min phone calls per week through 4/13/2020.  Dept. of Corrections FAQs page says legal visits suspended also.\n",
      "Marshall Project: \"Legal visits are also suspended, though some exceptions are made on a case-by-case basis for Death Row prisoners with execution dates set.\"\n",
      "10 free 15 min phone calls/week, atty barrier visits only\n",
      "2 x 5 min calls a week (GTL); 1 free video visit/week, length unknown; staff screening by temperature and questionnaire effective 3/18;  Attorneys can call their incarcerated clients 24/7 on an unmonitored phone.\n",
      "2 free 5-min calls/week; Reduced cost for inbound VideoGrams; One free video visit credit per JPay account;Two free stamps (or credits) each week; legal visitation allowed as of 3/20\n",
      "No official announcement, policy based on statement by WV DMAPS Secretary Jeff Sandy\n",
      "\"Attorney/legal visitation will be restricted to non-contact or video/phone conference.\" (From Department of Corrections website.)\n"
     ]
    }
   ],
   "source": [
    "#Show the wide variety of policies in place.\n",
    "\n",
    "for val in policies[\"additional_notes_(related_activity_suspensions,_explanation_of_compensatory_access,_waivers,_etc.)\"].unique():\n",
    "    print(val)"
   ]
  },
  {
   "cell_type": "code",
   "execution_count": 6,
   "metadata": {
    "scrolled": true
   },
   "outputs": [],
   "source": [
    "policies = dpw.encode_policies_str(policies, \n",
    "                      \"additional_notes_(related_activity_suspensions,_explanation_of_compensatory_access,_waivers,_etc.)\")"
   ]
  },
  {
   "cell_type": "code",
   "execution_count": 7,
   "metadata": {},
   "outputs": [],
   "source": [
    "distance_policies = dpw.select_columns(policies)"
   ]
  },
  {
   "cell_type": "code",
   "execution_count": 8,
   "metadata": {},
   "outputs": [
    {
     "data": {
      "text/html": [
       "<div>\n",
       "<style scoped>\n",
       "    .dataframe tbody tr th:only-of-type {\n",
       "        vertical-align: middle;\n",
       "    }\n",
       "\n",
       "    .dataframe tbody tr th {\n",
       "        vertical-align: top;\n",
       "    }\n",
       "\n",
       "    .dataframe thead th {\n",
       "        text-align: right;\n",
       "    }\n",
       "</style>\n",
       "<table border=\"1\" class=\"dataframe\">\n",
       "  <thead>\n",
       "    <tr style=\"text-align: right;\">\n",
       "      <th></th>\n",
       "      <th>state</th>\n",
       "      <th>effective_date</th>\n",
       "      <th>no_visits</th>\n",
       "      <th>lawyer_access</th>\n",
       "      <th>phone_access</th>\n",
       "      <th>video_access</th>\n",
       "      <th>no_volunteers</th>\n",
       "      <th>limiting_movement</th>\n",
       "      <th>screening</th>\n",
       "      <th>healthcare_support</th>\n",
       "    </tr>\n",
       "  </thead>\n",
       "  <tbody>\n",
       "    <tr>\n",
       "      <th>0</th>\n",
       "      <td>Alabama</td>\n",
       "      <td>2020-03-13</td>\n",
       "      <td>1</td>\n",
       "      <td>0</td>\n",
       "      <td>1</td>\n",
       "      <td>0</td>\n",
       "      <td>1</td>\n",
       "      <td>0</td>\n",
       "      <td>0</td>\n",
       "      <td>1</td>\n",
       "    </tr>\n",
       "    <tr>\n",
       "      <th>1</th>\n",
       "      <td>Alaska</td>\n",
       "      <td>2020-03-13</td>\n",
       "      <td>1</td>\n",
       "      <td>0</td>\n",
       "      <td>1</td>\n",
       "      <td>0</td>\n",
       "      <td>0</td>\n",
       "      <td>0</td>\n",
       "      <td>0</td>\n",
       "      <td>0</td>\n",
       "    </tr>\n",
       "    <tr>\n",
       "      <th>2</th>\n",
       "      <td>Arizona</td>\n",
       "      <td>2020-03-13</td>\n",
       "      <td>1</td>\n",
       "      <td>0</td>\n",
       "      <td>1</td>\n",
       "      <td>0</td>\n",
       "      <td>0</td>\n",
       "      <td>0</td>\n",
       "      <td>0</td>\n",
       "      <td>0</td>\n",
       "    </tr>\n",
       "    <tr>\n",
       "      <th>3</th>\n",
       "      <td>Arkansas</td>\n",
       "      <td>2020-03-16</td>\n",
       "      <td>1</td>\n",
       "      <td>0</td>\n",
       "      <td>1</td>\n",
       "      <td>1</td>\n",
       "      <td>0</td>\n",
       "      <td>0</td>\n",
       "      <td>0</td>\n",
       "      <td>0</td>\n",
       "    </tr>\n",
       "    <tr>\n",
       "      <th>4</th>\n",
       "      <td>California</td>\n",
       "      <td>2020-03-14</td>\n",
       "      <td>1</td>\n",
       "      <td>1</td>\n",
       "      <td>1</td>\n",
       "      <td>0</td>\n",
       "      <td>0</td>\n",
       "      <td>1</td>\n",
       "      <td>1</td>\n",
       "      <td>0</td>\n",
       "    </tr>\n",
       "  </tbody>\n",
       "</table>\n",
       "</div>"
      ],
      "text/plain": [
       "        state effective_date  no_visits  lawyer_access  phone_access  \\\n",
       "0     Alabama     2020-03-13          1              0             1   \n",
       "1      Alaska     2020-03-13          1              0             1   \n",
       "2     Arizona     2020-03-13          1              0             1   \n",
       "3    Arkansas     2020-03-16          1              0             1   \n",
       "4  California     2020-03-14          1              1             1   \n",
       "\n",
       "   video_access  no_volunteers  limiting_movement  screening  \\\n",
       "0             0              1                  0          0   \n",
       "1             0              0                  0          0   \n",
       "2             0              0                  0          0   \n",
       "3             1              0                  0          0   \n",
       "4             0              0                  1          1   \n",
       "\n",
       "   healthcare_support  \n",
       "0                   1  \n",
       "1                   0  \n",
       "2                   0  \n",
       "3                   0  \n",
       "4                   0  "
      ]
     },
     "execution_count": 8,
     "metadata": {},
     "output_type": "execute_result"
    }
   ],
   "source": [
    "distance_policies.head(5)"
   ]
  },
  {
   "cell_type": "markdown",
   "metadata": {},
   "source": [
    "### The final dataframe above shows the policies in place in a given state, and the effective date of those policies, based on the UCLA dataset. "
   ]
  },
  {
   "cell_type": "code",
   "execution_count": null,
   "metadata": {},
   "outputs": [],
   "source": []
  },
  {
   "cell_type": "code",
   "execution_count": null,
   "metadata": {},
   "outputs": [],
   "source": []
  },
  {
   "cell_type": "code",
   "execution_count": null,
   "metadata": {},
   "outputs": [],
   "source": []
  },
  {
   "cell_type": "code",
   "execution_count": null,
   "metadata": {},
   "outputs": [],
   "source": []
  },
  {
   "cell_type": "code",
   "execution_count": null,
   "metadata": {},
   "outputs": [],
   "source": []
  },
  {
   "cell_type": "code",
   "execution_count": null,
   "metadata": {},
   "outputs": [],
   "source": []
  },
  {
   "cell_type": "code",
   "execution_count": null,
   "metadata": {},
   "outputs": [],
   "source": []
  },
  {
   "cell_type": "code",
   "execution_count": null,
   "metadata": {},
   "outputs": [],
   "source": []
  },
  {
   "cell_type": "code",
   "execution_count": null,
   "metadata": {},
   "outputs": [],
   "source": []
  },
  {
   "cell_type": "code",
   "execution_count": null,
   "metadata": {},
   "outputs": [],
   "source": []
  },
  {
   "cell_type": "code",
   "execution_count": null,
   "metadata": {},
   "outputs": [],
   "source": []
  }
 ],
 "metadata": {
  "kernelspec": {
   "display_name": "Python 3",
   "language": "python",
   "name": "python3"
  },
  "language_info": {
   "codemirror_mode": {
    "name": "ipython",
    "version": 3
   },
   "file_extension": ".py",
   "mimetype": "text/x-python",
   "name": "python",
   "nbconvert_exporter": "python",
   "pygments_lexer": "ipython3",
   "version": "3.7.6"
  }
 },
 "nbformat": 4,
 "nbformat_minor": 4
}
