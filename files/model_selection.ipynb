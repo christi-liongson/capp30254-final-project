{
 "cells": [
  {
   "cell_type": "code",
   "execution_count": 1,
   "metadata": {},
   "outputs": [],
   "source": [
    "import sqlite3\n",
    "from sqlite3 import Error\n",
    "import os.path\n",
    "from os import path\n",
    "\n",
    "#from create_db import create_connection, create_table, clean_column_names\n",
    "#from populate_db import extract_data, insert_records\n",
    "#import query_db as qd\n",
    "import config\n",
    "import build_dataset as build\n",
    "import pipeline\n",
    "import classification\n",
    "\n",
    "import importlib\n",
    "import datetime\n",
    "import re\n",
    "import numpy as np\n",
    "import pandas as pd\n",
    "\n",
    "from sklearn.preprocessing import StandardScaler\n",
    "from sklearn.preprocessing import PolynomialFeatures\n",
    "from sklearn.linear_model import Ridge\n",
    "from sklearn.model_selection import KFold, cross_val_score, PredefinedSplit\n",
    "from sklearn.pipeline import Pipeline\n",
    "from sklearn.model_selection import GridSearchCV\n",
    "from sklearn.metrics import make_scorer\n",
    "from sklearn.metrics import accuracy_score\n",
    "from sklearn.metrics import accuracy_score\n",
    "from sklearn.metrics import plot_confusion_matrix, classification_report, plot_roc_curve, plot_precision_recall_curve \n",
    "\n",
    "# Decision Tree\n",
    "from sklearn.tree import DecisionTreeClassifier\n",
    "\n",
    "from sklearn.model_selection import ParameterGrid\n",
    "from sklearn.linear_model import LogisticRegression\n",
    "from sklearn.svm import LinearSVC\n",
    "from sklearn.naive_bayes import GaussianNB\n",
    "from sklearn.metrics import accuracy_score, precision_score, recall_score, f1_score\n",
    "from sklearn.model_selection import ParameterGrid\n",
    "from sklearn.tree import DecisionTreeClassifier\n",
    "from sklearn.ensemble import RandomForestClassifier\n",
    "\n",
    "import matplotlib.pyplot as plt\n",
    "import seaborn as sns\n",
    "import numpy as np\n",
    "import re\n",
    "%matplotlib inline"
   ]
  },
  {
   "cell_type": "code",
   "execution_count": 21,
   "metadata": {},
   "outputs": [
    {
     "data": {
      "text/plain": [
       "<module 'classification' from '/Users/charmainerunes/git/covid_decarceration/files/classification.py'>"
      ]
     },
     "execution_count": 21,
     "metadata": {},
     "output_type": "execute_result"
    }
   ],
   "source": [
    "importlib.reload(build)\n",
    "importlib.reload(config)\n",
    "importlib.reload(pipeline)\n",
    "importlib.reload(classification)"
   ]
  },
  {
   "cell_type": "markdown",
   "metadata": {},
   "source": [
    "# Notebook table of contents:\n",
    "1. Run all models for binary outcome variable. Run the best model according to F1 score and precision, predict on test data, calculate evaluation metrics\n",
    "2. Repeat 1 without using demographic features\n",
    "3. Repeat 1-2 on three-class outcome variable\n",
    "4. Repeat 1-2 on 6-class outcome variable"
   ]
  },
  {
   "cell_type": "code",
   "execution_count": 3,
   "metadata": {},
   "outputs": [
    {
     "name": "stderr",
     "output_type": "stream",
     "text": [
      "//anaconda3/lib/python3.7/site-packages/IPython/core/interactiveshell.py:3063: DtypeWarning: Columns (21,22,29,30,32) have mixed types.Specify dtype option on import or set low_memory=False.\n",
      "  interactivity=interactivity, compiler=compiler, result=result)\n"
     ]
    }
   ],
   "source": [
    "# Import data\n",
    "dataset_3 = pd.read_csv('../data/dataset_main_active3.csv')"
   ]
  },
  {
   "cell_type": "code",
   "execution_count": 4,
   "metadata": {},
   "outputs": [],
   "source": [
    "# Set target\n",
    "target = config.target_vars[0]"
   ]
  },
  {
   "cell_type": "code",
   "execution_count": 22,
   "metadata": {},
   "outputs": [
    {
     "name": "stdout",
     "output_type": "stream",
     "text": [
      "248\n",
      "Size of active sentences dataset:  31360\n",
      "Dataset size:  527096\n"
     ]
    },
    {
     "name": "stderr",
     "output_type": "stream",
     "text": [
      "//anaconda3/lib/python3.7/site-packages/pandas/core/indexing.py:845: SettingWithCopyWarning: \n",
      "A value is trying to be set on a copy of a slice from a DataFrame.\n",
      "Try using .loc[row_indexer,col_indexer] = value instead\n",
      "\n",
      "See the caveats in the documentation: https://pandas.pydata.org/pandas-docs/stable/user_guide/indexing.html#returning-a-view-versus-a-copy\n",
      "  self.obj[key] = _infer_fill_value(value)\n",
      "//anaconda3/lib/python3.7/site-packages/pandas/core/indexing.py:966: SettingWithCopyWarning: \n",
      "A value is trying to be set on a copy of a slice from a DataFrame.\n",
      "Try using .loc[row_indexer,col_indexer] = value instead\n",
      "\n",
      "See the caveats in the documentation: https://pandas.pydata.org/pandas-docs/stable/user_guide/indexing.html#returning-a-view-versus-a-copy\n",
      "  self.obj[item] = s\n",
      "//anaconda3/lib/python3.7/site-packages/pandas/core/frame.py:3997: SettingWithCopyWarning: \n",
      "A value is trying to be set on a copy of a slice from a DataFrame\n",
      "\n",
      "See the caveats in the documentation: https://pandas.pydata.org/pandas-docs/stable/user_guide/indexing.html#returning-a-view-versus-a-copy\n",
      "  errors=errors,\n",
      "/Users/charmainerunes/git/covid_decarceration/files/build_dataset.py:608: SettingWithCopyWarning: \n",
      "A value is trying to be set on a copy of a slice from a DataFrame.\n",
      "Try using .loc[row_indexer,col_indexer] = value instead\n",
      "\n",
      "See the caveats in the documentation: https://pandas.pydata.org/pandas-docs/stable/user_guide/indexing.html#returning-a-view-versus-a-copy\n",
      "  dataset_no_active[target_label] = dataset_no_active['label']\n"
     ]
    },
    {
     "name": "stdout",
     "output_type": "stream",
     "text": [
      "Total Number of Unique IDs: 304786\n",
      "Total Number of IDs in Test Data: 60957\n",
      "Total Number of IDs in Train Data: 195063\n",
      "Total Number of IDs in Validate Data: 48766\n",
      "Do the IDs add up? True\n",
      "Does Test Represent 20% of the data? False\n",
      "Test Represents X% of the data: 0.19999934380188067\n",
      "Does Train+Validate Represent 80% of the data? False\n",
      "Train+Validate Represents X% of the data: 0.8000006561981193\n",
      "Does Validate Represent 20% of the Train+Validate Data?: 0.20000082024697635\n",
      "Does Train Represent 80% of the Train+Validate Data?: 0.7999991797530236\n"
     ]
    },
    {
     "name": "stderr",
     "output_type": "stream",
     "text": [
      "/Users/charmainerunes/git/covid_decarceration/files/build_dataset.py:693: SettingWithCopyWarning: \n",
      "A value is trying to be set on a copy of a slice from a DataFrame\n",
      "\n",
      "See the caveats in the documentation: https://pandas.pydata.org/pandas-docs/stable/user_guide/indexing.html#returning-a-view-versus-a-copy\n",
      "  age_first_offense.drop_duplicates(inplace=True)\n",
      "/Users/charmainerunes/git/covid_decarceration/files/build_dataset.py:693: SettingWithCopyWarning: \n",
      "A value is trying to be set on a copy of a slice from a DataFrame\n",
      "\n",
      "See the caveats in the documentation: https://pandas.pydata.org/pandas-docs/stable/user_guide/indexing.html#returning-a-view-versus-a-copy\n",
      "  age_first_offense.drop_duplicates(inplace=True)\n",
      "/Users/charmainerunes/git/covid_decarceration/files/build_dataset.py:693: SettingWithCopyWarning: \n",
      "A value is trying to be set on a copy of a slice from a DataFrame\n",
      "\n",
      "See the caveats in the documentation: https://pandas.pydata.org/pandas-docs/stable/user_guide/indexing.html#returning-a-view-versus-a-copy\n",
      "  age_first_offense.drop_duplicates(inplace=True)\n"
     ]
    },
    {
     "name": "stdout",
     "output_type": "stream",
     "text": [
      "Index(['CONTROL_STATUS', 'OFFENSE_CLEAN', 'Current_Offense_Risk_Level',\n",
      "       'year_month', 'INFRACTION_PER_SENT', 'misd_count', 'felon_count',\n",
      "       'sentence_count', 'age_at_sentence', 'unemp_rate', 'ID',\n",
      "       'COMMITMENT_PREFIX', 'BIRTH_DATE', 'EARLIEST_SENTENCE_EFFECTIVE_DT',\n",
      "       'END_DATE', 'INMATE_ADMIN_STATUS_CODE', 'NextPrefix',\n",
      "       'Recidivate_Risk_Level', 'age_cat', 'age_first_offense',\n",
      "       'juv_first_offense', 'current_crime_violent'],\n",
      "      dtype='object')\n"
     ]
    },
    {
     "name": "stderr",
     "output_type": "stream",
     "text": [
      "//anaconda3/lib/python3.7/site-packages/pandas/core/frame.py:3997: SettingWithCopyWarning: \n",
      "A value is trying to be set on a copy of a slice from a DataFrame\n",
      "\n",
      "See the caveats in the documentation: https://pandas.pydata.org/pandas-docs/stable/user_guide/indexing.html#returning-a-view-versus-a-copy\n",
      "  errors=errors,\n"
     ]
    },
    {
     "name": "stdout",
     "output_type": "stream",
     "text": [
      "Train and Test Check:\n",
      "Success: Features match\n",
      "Success: No NAs remain\n",
      "Train and Validate Check:\n",
      "Success: Features match\n",
      "Success: No NAs remain\n",
      "Train and Active Check:\n",
      "Success: Features match\n",
      "Train and Active Almost Complete Check:\n",
      "Success: Features match\n"
     ]
    }
   ],
   "source": [
    "# Step 1\n",
    "target_type = \"binary\"\n",
    "features = \"No Demographics\"\n",
    "\n",
    "#print(features)\n",
    "#train_data, test_data, validate_data, active_sentences = build.split_and_process(dataset_1,config,grouping_target)\n",
    "train_data, test_data, validate_data, active_sentences, active_almost_complete = build.split_and_process(dataset_3,config,target_type,features)\n",
    "\n",
    "# Sanity Check\n",
    "print('Train and Test Check:')\n",
    "build.sanity_check(train_data,test_data)\n",
    "\n",
    "print('Train and Validate Check:')\n",
    "build.sanity_check(train_data,validate_data)\n",
    "\n",
    "print('Train and Active Check:')\n",
    "build.sanity_check(train_data,active_sentences)\n",
    "\n",
    "print('Train and Active Almost Complete Check:')\n",
    "build.sanity_check(train_data,active_almost_complete)\n",
    "\n"
   ]
  },
  {
   "cell_type": "code",
   "execution_count": 23,
   "metadata": {},
   "outputs": [
    {
     "data": {
      "text/html": [
       "<div>\n",
       "<style scoped>\n",
       "    .dataframe tbody tr th:only-of-type {\n",
       "        vertical-align: middle;\n",
       "    }\n",
       "\n",
       "    .dataframe tbody tr th {\n",
       "        vertical-align: top;\n",
       "    }\n",
       "\n",
       "    .dataframe thead th {\n",
       "        text-align: right;\n",
       "    }\n",
       "</style>\n",
       "<table border=\"1\" class=\"dataframe\">\n",
       "  <thead>\n",
       "    <tr style=\"text-align: right;\">\n",
       "      <th></th>\n",
       "      <th>INFRACTION_PER_SENT</th>\n",
       "      <th>misd_count</th>\n",
       "      <th>felon_count</th>\n",
       "      <th>sentence_count</th>\n",
       "      <th>age_at_sentence</th>\n",
       "      <th>unemp_rate</th>\n",
       "      <th>age_first_offense</th>\n",
       "      <th>juv_first_offense</th>\n",
       "      <th>current_crime_violent</th>\n",
       "      <th>CONTROL_STATUS_HIGH SECURITY/MAX CONTROL HCON</th>\n",
       "      <th>...</th>\n",
       "      <th>age_cat_25-29</th>\n",
       "      <th>age_cat_30-34</th>\n",
       "      <th>age_cat_35-39</th>\n",
       "      <th>age_cat_40-44</th>\n",
       "      <th>age_cat_45-49</th>\n",
       "      <th>age_cat_50-54</th>\n",
       "      <th>age_cat_55-59</th>\n",
       "      <th>age_cat_60-64</th>\n",
       "      <th>age_cat_65 and older</th>\n",
       "      <th>CONTROL_STATUS_OUT OF CELL RESTRICTION   OUTC</th>\n",
       "    </tr>\n",
       "    <tr>\n",
       "      <th>Recidivate_Risk_Level</th>\n",
       "      <th></th>\n",
       "      <th></th>\n",
       "      <th></th>\n",
       "      <th></th>\n",
       "      <th></th>\n",
       "      <th></th>\n",
       "      <th></th>\n",
       "      <th></th>\n",
       "      <th></th>\n",
       "      <th></th>\n",
       "      <th></th>\n",
       "      <th></th>\n",
       "      <th></th>\n",
       "      <th></th>\n",
       "      <th></th>\n",
       "      <th></th>\n",
       "      <th></th>\n",
       "      <th></th>\n",
       "      <th></th>\n",
       "      <th></th>\n",
       "      <th></th>\n",
       "    </tr>\n",
       "  </thead>\n",
       "  <tbody>\n",
       "    <tr>\n",
       "      <th>0.0</th>\n",
       "      <td>58575</td>\n",
       "      <td>58575</td>\n",
       "      <td>58575</td>\n",
       "      <td>58575</td>\n",
       "      <td>58575</td>\n",
       "      <td>58575</td>\n",
       "      <td>58575</td>\n",
       "      <td>58575</td>\n",
       "      <td>58575</td>\n",
       "      <td>58575</td>\n",
       "      <td>...</td>\n",
       "      <td>58575</td>\n",
       "      <td>58575</td>\n",
       "      <td>58575</td>\n",
       "      <td>58575</td>\n",
       "      <td>58575</td>\n",
       "      <td>58575</td>\n",
       "      <td>58575</td>\n",
       "      <td>58575</td>\n",
       "      <td>58575</td>\n",
       "      <td>58575</td>\n",
       "    </tr>\n",
       "    <tr>\n",
       "      <th>1.0</th>\n",
       "      <td>25542</td>\n",
       "      <td>25542</td>\n",
       "      <td>25542</td>\n",
       "      <td>25542</td>\n",
       "      <td>25542</td>\n",
       "      <td>25542</td>\n",
       "      <td>25542</td>\n",
       "      <td>25542</td>\n",
       "      <td>25542</td>\n",
       "      <td>25542</td>\n",
       "      <td>...</td>\n",
       "      <td>25542</td>\n",
       "      <td>25542</td>\n",
       "      <td>25542</td>\n",
       "      <td>25542</td>\n",
       "      <td>25542</td>\n",
       "      <td>25542</td>\n",
       "      <td>25542</td>\n",
       "      <td>25542</td>\n",
       "      <td>25542</td>\n",
       "      <td>25542</td>\n",
       "    </tr>\n",
       "  </tbody>\n",
       "</table>\n",
       "<p>2 rows × 434 columns</p>\n",
       "</div>"
      ],
      "text/plain": [
       "                       INFRACTION_PER_SENT  misd_count  felon_count  \\\n",
       "Recidivate_Risk_Level                                                 \n",
       "0.0                                  58575       58575        58575   \n",
       "1.0                                  25542       25542        25542   \n",
       "\n",
       "                       sentence_count  age_at_sentence  unemp_rate  \\\n",
       "Recidivate_Risk_Level                                                \n",
       "0.0                             58575            58575       58575   \n",
       "1.0                             25542            25542       25542   \n",
       "\n",
       "                       age_first_offense  juv_first_offense  \\\n",
       "Recidivate_Risk_Level                                         \n",
       "0.0                                58575              58575   \n",
       "1.0                                25542              25542   \n",
       "\n",
       "                       current_crime_violent  \\\n",
       "Recidivate_Risk_Level                          \n",
       "0.0                                    58575   \n",
       "1.0                                    25542   \n",
       "\n",
       "                       CONTROL_STATUS_HIGH SECURITY/MAX CONTROL HCON  ...  \\\n",
       "Recidivate_Risk_Level                                                 ...   \n",
       "0.0                                                            58575  ...   \n",
       "1.0                                                            25542  ...   \n",
       "\n",
       "                       age_cat_25-29  age_cat_30-34  age_cat_35-39  \\\n",
       "Recidivate_Risk_Level                                                \n",
       "0.0                            58575          58575          58575   \n",
       "1.0                            25542          25542          25542   \n",
       "\n",
       "                       age_cat_40-44  age_cat_45-49  age_cat_50-54  \\\n",
       "Recidivate_Risk_Level                                                \n",
       "0.0                            58575          58575          58575   \n",
       "1.0                            25542          25542          25542   \n",
       "\n",
       "                       age_cat_55-59  age_cat_60-64  age_cat_65 and older  \\\n",
       "Recidivate_Risk_Level                                                       \n",
       "0.0                            58575          58575                 58575   \n",
       "1.0                            25542          25542                 25542   \n",
       "\n",
       "                       CONTROL_STATUS_OUT OF CELL RESTRICTION   OUTC  \n",
       "Recidivate_Risk_Level                                                 \n",
       "0.0                                                            58575  \n",
       "1.0                                                            25542  \n",
       "\n",
       "[2 rows x 434 columns]"
      ]
     },
     "execution_count": 23,
     "metadata": {},
     "output_type": "execute_result"
    }
   ],
   "source": [
    "#target = config.target_vars[0]\n",
    "validate_data.groupby(target).count()\n"
   ]
  },
  {
   "cell_type": "code",
   "execution_count": 53,
   "metadata": {},
   "outputs": [],
   "source": [
    "# train_backup = train_data.copy()\n",
    "# validate_backup = validate_data.copy()\n",
    "# test_backup = test_data.copy()\n"
   ]
  },
  {
   "cell_type": "code",
   "execution_count": 54,
   "metadata": {},
   "outputs": [],
   "source": [
    "# train_data = train_data.sample(10000)\n",
    "# validate_data = validate_data.sample(5000)\n",
    "# test_data = test_data.sample(3000)"
   ]
  },
  {
   "cell_type": "code",
   "execution_count": 24,
   "metadata": {},
   "outputs": [
    {
     "name": "stdout",
     "output_type": "stream",
     "text": [
      "Recidivate_Risk_Level\n",
      "{'penalty': ['l2', 'none'], 'C': [0.01], 'max_iter': [1000]}\n",
      "Running:  LogisticRegression(C=1.0, class_weight=None, dual=False, fit_intercept=True,\n",
      "                   intercept_scaling=1, l1_ratio=None, max_iter=100,\n",
      "                   multi_class='auto', n_jobs=None, penalty='l2',\n",
      "                   random_state=1234, solver='lbfgs', tol=0.0001, verbose=0,\n",
      "                   warm_start=False)\n"
     ]
    },
    {
     "name": "stderr",
     "output_type": "stream",
     "text": [
      "//anaconda3/lib/python3.7/site-packages/sklearn/linear_model/_logistic.py:1505: UserWarning: Setting penalty='none' will ignore the C and l1_ratio parameters\n",
      "  \"Setting penalty='none' will ignore the C and l1_ratio \"\n",
      "//anaconda3/lib/python3.7/site-packages/sklearn/linear_model/_logistic.py:940: ConvergenceWarning: lbfgs failed to converge (status=1):\n",
      "STOP: TOTAL NO. of ITERATIONS REACHED LIMIT.\n",
      "\n",
      "Increase the number of iterations (max_iter) or scale the data as shown in:\n",
      "    https://scikit-learn.org/stable/modules/preprocessing.html\n",
      "Please also refer to the documentation for alternative solver options:\n",
      "    https://scikit-learn.org/stable/modules/linear_model.html#logistic-regression\n",
      "  extra_warning_msg=_LOGISTIC_SOLVER_CONVERGENCE_MSG)\n",
      "//anaconda3/lib/python3.7/site-packages/sklearn/linear_model/_logistic.py:1505: UserWarning: Setting penalty='none' will ignore the C and l1_ratio parameters\n",
      "  \"Setting penalty='none' will ignore the C and l1_ratio \"\n",
      "//anaconda3/lib/python3.7/site-packages/sklearn/linear_model/_logistic.py:940: ConvergenceWarning: lbfgs failed to converge (status=1):\n",
      "STOP: TOTAL NO. of ITERATIONS REACHED LIMIT.\n",
      "\n",
      "Increase the number of iterations (max_iter) or scale the data as shown in:\n",
      "    https://scikit-learn.org/stable/modules/preprocessing.html\n",
      "Please also refer to the documentation for alternative solver options:\n",
      "    https://scikit-learn.org/stable/modules/linear_model.html#logistic-regression\n",
      "  extra_warning_msg=_LOGISTIC_SOLVER_CONVERGENCE_MSG)\n"
     ]
    },
    {
     "name": "stdout",
     "output_type": "stream",
     "text": [
      "{'C': 0.01, 'max_iter': 1000, 'penalty': 'none'}\n",
      "LogisticRegression(C=0.01, class_weight=None, dual=False, fit_intercept=True,\n",
      "                   intercept_scaling=1, l1_ratio=None, max_iter=1000,\n",
      "                   multi_class='auto', n_jobs=None, penalty='none',\n",
      "                   random_state=1234, solver='lbfgs', tol=0.0001, verbose=0,\n",
      "                   warm_start=False)\n",
      "Recidivate_Risk_Level\n",
      "Fitting best model\n"
     ]
    },
    {
     "name": "stderr",
     "output_type": "stream",
     "text": [
      "//anaconda3/lib/python3.7/site-packages/sklearn/linear_model/_logistic.py:1505: UserWarning: Setting penalty='none' will ignore the C and l1_ratio parameters\n",
      "  \"Setting penalty='none' will ignore the C and l1_ratio \"\n",
      "//anaconda3/lib/python3.7/site-packages/sklearn/linear_model/_logistic.py:940: ConvergenceWarning: lbfgs failed to converge (status=1):\n",
      "STOP: TOTAL NO. of ITERATIONS REACHED LIMIT.\n",
      "\n",
      "Increase the number of iterations (max_iter) or scale the data as shown in:\n",
      "    https://scikit-learn.org/stable/modules/preprocessing.html\n",
      "Please also refer to the documentation for alternative solver options:\n",
      "    https://scikit-learn.org/stable/modules/linear_model.html#logistic-regression\n",
      "  extra_warning_msg=_LOGISTIC_SOLVER_CONVERGENCE_MSG)\n"
     ]
    },
    {
     "name": "stdout",
     "output_type": "stream",
     "text": [
      "Feature Importance\n"
     ]
    },
    {
     "data": {
      "image/png": "[encoded data removed]",
      "text/plain": [
       "<Figure size 432x288 with 1 Axes>"
      ]
     },
     "metadata": {
      "needs_background": "light"
     },
     "output_type": "display_data"
    },
    {
     "name": "stdout",
     "output_type": "stream",
     "text": [
      "Confusion Matrix\n",
      "LogisticRegression(C=0.01, class_weight=None, dual=False, fit_intercept=True,\n",
      "                   intercept_scaling=1, l1_ratio=None, max_iter=1000,\n",
      "                   multi_class='auto', n_jobs=None, penalty='none',\n",
      "                   random_state=1234, solver='lbfgs', tol=0.0001, verbose=0,\n",
      "                   warm_start=False)\n",
      "[[68489  4967]\n",
      " [25169  6998]]\n",
      "Accuracy:\t0.7146833549510997\n",
      "Precision:\t0.5848725449226911\n",
      "Recall:\t\t0.21755214971865577\n",
      "F1 Score:\t0.31713949061905194\n",
      "\n",
      "{'criterion': ['entropy'], 'max_depth': [10, 30], 'min_samples_split': [100]}\n",
      "Running:  DecisionTreeClassifier(ccp_alpha=0.0, class_weight=None, criterion='gini',\n",
      "                       max_depth=None, max_features=None, max_leaf_nodes=None,\n",
      "                       min_impurity_decrease=0.0, min_impurity_split=None,\n",
      "                       min_samples_leaf=1, min_samples_split=2,\n",
      "                       min_weight_fraction_leaf=0.0, presort='deprecated',\n",
      "                       random_state=1234, splitter='best')\n",
      "{'criterion': 'entropy', 'max_depth': 30, 'min_samples_split': 100}\n",
      "DecisionTreeClassifier(ccp_alpha=0.0, class_weight=None, criterion='entropy',\n",
      "                       max_depth=30, max_features=None, max_leaf_nodes=None,\n",
      "                       min_impurity_decrease=0.0, min_impurity_split=None,\n",
      "                       min_samples_leaf=1, min_samples_split=100,\n",
      "                       min_weight_fraction_leaf=0.0, presort='deprecated',\n",
      "                       random_state=1234, splitter='best')\n",
      "Recidivate_Risk_Level\n",
      "Fitting best model\n",
      "Feature Importance\n"
     ]
    },
    {
     "data": {
      "image/png": "[encoded data removed]",
      "text/plain": [
       "<Figure size 432x288 with 2 Axes>"
      ]
     },
     "metadata": {
      "needs_background": "light"
     },
     "output_type": "display_data"
    },
    {
     "data": {
      "image/png": "[encoded data removed]",
      "text/plain": [
       "<Figure size 432x288 with 1 Axes>"
      ]
     },
     "metadata": {
      "needs_background": "light"
     },
     "output_type": "display_data"
    },
    {
     "data": {
      "image/png": "[encoded data removed]",
      "text/plain": [
       "<Figure size 432x288 with 1 Axes>"
      ]
     },
     "metadata": {
      "needs_background": "light"
     },
     "output_type": "display_data"
    },
    {
     "name": "stdout",
     "output_type": "stream",
     "text": [
      "Confusion Matrix\n",
      "DecisionTreeClassifier(ccp_alpha=0.0, class_weight=None, criterion='entropy',\n",
      "                       max_depth=30, max_features=None, max_leaf_nodes=None,\n",
      "                       min_impurity_decrease=0.0, min_impurity_split=None,\n",
      "                       min_samples_leaf=1, min_samples_split=100,\n",
      "                       min_weight_fraction_leaf=0.0, presort='deprecated',\n",
      "                       random_state=1234, splitter='best')\n",
      "[[64903  8553]\n",
      " [23255  8912]]\n",
      "Accuracy:\t0.6988534694148055\n",
      "Precision:\t0.5102776982536501\n",
      "Recall:\t\t0.2770541237914633\n",
      "F1 Score:\t0.3591231463571889\n",
      "\n",
      "Time Elapsed: 0:07:51.180058\n"
     ]
    },
    {
     "data": {
      "image/png": "[encoded data removed]",
      "text/plain": [
       "<Figure size 432x288 with 2 Axes>"
      ]
     },
     "metadata": {
      "needs_background": "light"
     },
     "output_type": "display_data"
    }
   ],
   "source": [
    "results, best_models = classification.run_classifier(train_data,validate_data,test_data,target_type)\n",
    "\n",
    "best_models.to_csv('../results/best_models_'+target_type+'_'+features+'.csv', index=False)\n",
    "results.to_csv('../results/results'+target_type+'_'+features+'.csv', index=False)"
   ]
  },
  {
   "cell_type": "code",
   "execution_count": 25,
   "metadata": {},
   "outputs": [
    {
     "data": {
      "text/html": [
       "<div>\n",
       "<style scoped>\n",
       "    .dataframe tbody tr th:only-of-type {\n",
       "        vertical-align: middle;\n",
       "    }\n",
       "\n",
       "    .dataframe tbody tr th {\n",
       "        vertical-align: top;\n",
       "    }\n",
       "\n",
       "    .dataframe thead th {\n",
       "        text-align: right;\n",
       "    }\n",
       "</style>\n",
       "<table border=\"1\" class=\"dataframe\">\n",
       "  <thead>\n",
       "    <tr style=\"text-align: right;\">\n",
       "      <th></th>\n",
       "      <th>classifier</th>\n",
       "      <th>params</th>\n",
       "      <th>rank_test_precision</th>\n",
       "      <th>rank_test_recall</th>\n",
       "      <th>rank_test_accuracy</th>\n",
       "      <th>rank_test_f1</th>\n",
       "      <th>mean_test_accuracy</th>\n",
       "      <th>mean_test_recall</th>\n",
       "      <th>mean_test_precision</th>\n",
       "      <th>mean_test_f1</th>\n",
       "    </tr>\n",
       "  </thead>\n",
       "  <tbody>\n",
       "    <tr>\n",
       "      <th>1</th>\n",
       "      <td>LogisticRegression(C=0.01, class_weight=None, ...</td>\n",
       "      <td>{'C': 0.01, 'max_iter': 1000, 'penalty': 'none'}</td>\n",
       "      <td>2</td>\n",
       "      <td>1</td>\n",
       "      <td>1</td>\n",
       "      <td>1</td>\n",
       "      <td>0.680379</td>\n",
       "      <td>0.275266</td>\n",
       "      <td>0.587182</td>\n",
       "      <td>0.374743</td>\n",
       "    </tr>\n",
       "    <tr>\n",
       "      <th>0</th>\n",
       "      <td>LogisticRegression(C=0.01, class_weight=None, ...</td>\n",
       "      <td>{'C': 0.01, 'max_iter': 1000, 'penalty': 'l2'}</td>\n",
       "      <td>1</td>\n",
       "      <td>2</td>\n",
       "      <td>2</td>\n",
       "      <td>2</td>\n",
       "      <td>0.676688</td>\n",
       "      <td>0.198873</td>\n",
       "      <td>0.608442</td>\n",
       "      <td>0.299619</td>\n",
       "    </tr>\n",
       "    <tr>\n",
       "      <th>1</th>\n",
       "      <td>DecisionTreeClassifier(ccp_alpha=0.0, class_we...</td>\n",
       "      <td>{'criterion': 'entropy', 'max_depth': 30, 'min...</td>\n",
       "      <td>2</td>\n",
       "      <td>1</td>\n",
       "      <td>2</td>\n",
       "      <td>1</td>\n",
       "      <td>0.653577</td>\n",
       "      <td>0.309961</td>\n",
       "      <td>0.503609</td>\n",
       "      <td>0.383733</td>\n",
       "    </tr>\n",
       "    <tr>\n",
       "      <th>0</th>\n",
       "      <td>DecisionTreeClassifier(ccp_alpha=0.0, class_we...</td>\n",
       "      <td>{'criterion': 'entropy', 'max_depth': 10, 'min...</td>\n",
       "      <td>1</td>\n",
       "      <td>2</td>\n",
       "      <td>1</td>\n",
       "      <td>2</td>\n",
       "      <td>0.671241</td>\n",
       "      <td>0.272547</td>\n",
       "      <td>0.558011</td>\n",
       "      <td>0.365648</td>\n",
       "    </tr>\n",
       "  </tbody>\n",
       "</table>\n",
       "</div>"
      ],
      "text/plain": [
       "                                          classifier  \\\n",
       "1  LogisticRegression(C=0.01, class_weight=None, ...   \n",
       "0  LogisticRegression(C=0.01, class_weight=None, ...   \n",
       "1  DecisionTreeClassifier(ccp_alpha=0.0, class_we...   \n",
       "0  DecisionTreeClassifier(ccp_alpha=0.0, class_we...   \n",
       "\n",
       "                                              params rank_test_precision  \\\n",
       "1   {'C': 0.01, 'max_iter': 1000, 'penalty': 'none'}                   2   \n",
       "0     {'C': 0.01, 'max_iter': 1000, 'penalty': 'l2'}                   1   \n",
       "1  {'criterion': 'entropy', 'max_depth': 30, 'min...                   2   \n",
       "0  {'criterion': 'entropy', 'max_depth': 10, 'min...                   1   \n",
       "\n",
       "  rank_test_recall rank_test_accuracy rank_test_f1  mean_test_accuracy  \\\n",
       "1                1                  1            1            0.680379   \n",
       "0                2                  2            2            0.676688   \n",
       "1                1                  2            1            0.653577   \n",
       "0                2                  1            2            0.671241   \n",
       "\n",
       "   mean_test_recall  mean_test_precision  mean_test_f1  \n",
       "1          0.275266             0.587182      0.374743  \n",
       "0          0.198873             0.608442      0.299619  \n",
       "1          0.309961             0.503609      0.383733  \n",
       "0          0.272547             0.558011      0.365648  "
      ]
     },
     "execution_count": 25,
     "metadata": {},
     "output_type": "execute_result"
    }
   ],
   "source": [
    "results"
   ]
  },
  {
   "cell_type": "code",
   "execution_count": 26,
   "metadata": {},
   "outputs": [
    {
     "data": {
      "text/html": [
       "<div>\n",
       "<style scoped>\n",
       "    .dataframe tbody tr th:only-of-type {\n",
       "        vertical-align: middle;\n",
       "    }\n",
       "\n",
       "    .dataframe tbody tr th {\n",
       "        vertical-align: top;\n",
       "    }\n",
       "\n",
       "    .dataframe thead th {\n",
       "        text-align: right;\n",
       "    }\n",
       "</style>\n",
       "<table border=\"1\" class=\"dataframe\">\n",
       "  <thead>\n",
       "    <tr style=\"text-align: right;\">\n",
       "      <th></th>\n",
       "      <th>classifier</th>\n",
       "      <th>test_accuracy</th>\n",
       "      <th>test_precision</th>\n",
       "      <th>test_recall</th>\n",
       "      <th>test_f1</th>\n",
       "    </tr>\n",
       "  </thead>\n",
       "  <tbody>\n",
       "    <tr>\n",
       "      <th>0</th>\n",
       "      <td>LogisticRegression(C=0.01, class_weight=None, ...</td>\n",
       "      <td>0.714683</td>\n",
       "      <td>0.584873</td>\n",
       "      <td>0.217552</td>\n",
       "      <td>0.317139</td>\n",
       "    </tr>\n",
       "    <tr>\n",
       "      <th>1</th>\n",
       "      <td>DecisionTreeClassifier(ccp_alpha=0.0, class_we...</td>\n",
       "      <td>0.698853</td>\n",
       "      <td>0.510278</td>\n",
       "      <td>0.277054</td>\n",
       "      <td>0.359123</td>\n",
       "    </tr>\n",
       "  </tbody>\n",
       "</table>\n",
       "</div>"
      ],
      "text/plain": [
       "                                          classifier  test_accuracy  \\\n",
       "0  LogisticRegression(C=0.01, class_weight=None, ...       0.714683   \n",
       "1  DecisionTreeClassifier(ccp_alpha=0.0, class_we...       0.698853   \n",
       "\n",
       "   test_precision  test_recall   test_f1  \n",
       "0        0.584873     0.217552  0.317139  \n",
       "1        0.510278     0.277054  0.359123  "
      ]
     },
     "execution_count": 26,
     "metadata": {},
     "output_type": "execute_result"
    }
   ],
   "source": [
    "best_models"
   ]
  },
  {
   "cell_type": "code",
   "execution_count": 27,
   "metadata": {},
   "outputs": [
    {
     "name": "stdout",
     "output_type": "stream",
     "text": [
      "248\n",
      "Size of active sentences dataset:  31360\n",
      "Dataset size:  527096\n"
     ]
    },
    {
     "name": "stderr",
     "output_type": "stream",
     "text": [
      "//anaconda3/lib/python3.7/site-packages/pandas/core/indexing.py:845: SettingWithCopyWarning: \n",
      "A value is trying to be set on a copy of a slice from a DataFrame.\n",
      "Try using .loc[row_indexer,col_indexer] = value instead\n",
      "\n",
      "See the caveats in the documentation: https://pandas.pydata.org/pandas-docs/stable/user_guide/indexing.html#returning-a-view-versus-a-copy\n",
      "  self.obj[key] = _infer_fill_value(value)\n",
      "//anaconda3/lib/python3.7/site-packages/pandas/core/indexing.py:966: SettingWithCopyWarning: \n",
      "A value is trying to be set on a copy of a slice from a DataFrame.\n",
      "Try using .loc[row_indexer,col_indexer] = value instead\n",
      "\n",
      "See the caveats in the documentation: https://pandas.pydata.org/pandas-docs/stable/user_guide/indexing.html#returning-a-view-versus-a-copy\n",
      "  self.obj[item] = s\n",
      "//anaconda3/lib/python3.7/site-packages/pandas/core/frame.py:3997: SettingWithCopyWarning: \n",
      "A value is trying to be set on a copy of a slice from a DataFrame\n",
      "\n",
      "See the caveats in the documentation: https://pandas.pydata.org/pandas-docs/stable/user_guide/indexing.html#returning-a-view-versus-a-copy\n",
      "  errors=errors,\n",
      "/Users/charmainerunes/git/covid_decarceration/files/build_dataset.py:608: SettingWithCopyWarning: \n",
      "A value is trying to be set on a copy of a slice from a DataFrame.\n",
      "Try using .loc[row_indexer,col_indexer] = value instead\n",
      "\n",
      "See the caveats in the documentation: https://pandas.pydata.org/pandas-docs/stable/user_guide/indexing.html#returning-a-view-versus-a-copy\n",
      "  dataset_no_active[target_label] = dataset_no_active['label']\n"
     ]
    },
    {
     "name": "stdout",
     "output_type": "stream",
     "text": [
      "Total Number of Unique IDs: 304786\n",
      "Total Number of IDs in Test Data: 60957\n",
      "Total Number of IDs in Train Data: 195063\n",
      "Total Number of IDs in Validate Data: 48766\n",
      "Do the IDs add up? True\n",
      "Does Test Represent 20% of the data? False\n",
      "Test Represents X% of the data: 0.19999934380188067\n",
      "Does Train+Validate Represent 80% of the data? False\n",
      "Train+Validate Represents X% of the data: 0.8000006561981193\n",
      "Does Validate Represent 20% of the Train+Validate Data?: 0.20000082024697635\n",
      "Does Train Represent 80% of the Train+Validate Data?: 0.7999991797530236\n"
     ]
    },
    {
     "name": "stderr",
     "output_type": "stream",
     "text": [
      "/Users/charmainerunes/git/covid_decarceration/files/build_dataset.py:693: SettingWithCopyWarning: \n",
      "A value is trying to be set on a copy of a slice from a DataFrame\n",
      "\n",
      "See the caveats in the documentation: https://pandas.pydata.org/pandas-docs/stable/user_guide/indexing.html#returning-a-view-versus-a-copy\n",
      "  age_first_offense.drop_duplicates(inplace=True)\n",
      "/Users/charmainerunes/git/covid_decarceration/files/build_dataset.py:693: SettingWithCopyWarning: \n",
      "A value is trying to be set on a copy of a slice from a DataFrame\n",
      "\n",
      "See the caveats in the documentation: https://pandas.pydata.org/pandas-docs/stable/user_guide/indexing.html#returning-a-view-versus-a-copy\n",
      "  age_first_offense.drop_duplicates(inplace=True)\n",
      "/Users/charmainerunes/git/covid_decarceration/files/build_dataset.py:693: SettingWithCopyWarning: \n",
      "A value is trying to be set on a copy of a slice from a DataFrame\n",
      "\n",
      "See the caveats in the documentation: https://pandas.pydata.org/pandas-docs/stable/user_guide/indexing.html#returning-a-view-versus-a-copy\n",
      "  age_first_offense.drop_duplicates(inplace=True)\n"
     ]
    },
    {
     "name": "stdout",
     "output_type": "stream",
     "text": [
      "Index(['RACE', 'GENDER', 'ETHNICITY', 'CONTROL_STATUS', 'OFFENSE_CLEAN',\n",
      "       'Current_Offense_Risk_Level', 'year_month', 'INFRACTION_PER_SENT',\n",
      "       'misd_count', 'felon_count', 'sentence_count', 'age_at_sentence',\n",
      "       'unemp_rate', 'ID', 'COMMITMENT_PREFIX', 'BIRTH_DATE',\n",
      "       'EARLIEST_SENTENCE_EFFECTIVE_DT', 'END_DATE',\n",
      "       'INMATE_ADMIN_STATUS_CODE', 'NextPrefix', 'Recidivate_Risk_Level',\n",
      "       'age_cat', 'age_first_offense', 'juv_first_offense',\n",
      "       'current_crime_violent'],\n",
      "      dtype='object')\n"
     ]
    },
    {
     "name": "stderr",
     "output_type": "stream",
     "text": [
      "//anaconda3/lib/python3.7/site-packages/pandas/core/frame.py:3997: SettingWithCopyWarning: \n",
      "A value is trying to be set on a copy of a slice from a DataFrame\n",
      "\n",
      "See the caveats in the documentation: https://pandas.pydata.org/pandas-docs/stable/user_guide/indexing.html#returning-a-view-versus-a-copy\n",
      "  errors=errors,\n"
     ]
    },
    {
     "name": "stdout",
     "output_type": "stream",
     "text": [
      "Train and Test Check:\n",
      "Success: Features match\n",
      "Success: No NAs remain\n",
      "Train and Validate Check:\n",
      "Success: Features match\n",
      "Success: No NAs remain\n",
      "Train and Active Check:\n",
      "Success: Features match\n",
      "Train and Active Almost Complete Check:\n",
      "Success: Features match\n"
     ]
    }
   ],
   "source": [
    "# Step 2\n",
    "target_type = \"binary\"\n",
    "features = \"Demographics\"\n",
    "\n",
    "#print(features)\n",
    "#train_data, test_data, validate_data, active_sentences = build.split_and_process(dataset_1,config,grouping_target)\n",
    "train_data, test_data, validate_data, active_sentences, active_almost_complete = build.split_and_process(dataset_3,config,target_type,features)\n",
    "\n",
    "# Sanity Check\n",
    "print('Train and Test Check:')\n",
    "build.sanity_check(train_data,test_data)\n",
    "\n",
    "print('Train and Validate Check:')\n",
    "build.sanity_check(train_data,validate_data)\n",
    "\n",
    "print('Train and Active Check:')\n",
    "build.sanity_check(train_data,active_sentences)\n",
    "\n",
    "print('Train and Active Almost Complete Check:')\n",
    "build.sanity_check(train_data,active_almost_complete)\n",
    "\n"
   ]
  },
  {
   "cell_type": "code",
   "execution_count": 28,
   "metadata": {},
   "outputs": [
    {
     "data": {
      "text/html": [
       "<div>\n",
       "<style scoped>\n",
       "    .dataframe tbody tr th:only-of-type {\n",
       "        vertical-align: middle;\n",
       "    }\n",
       "\n",
       "    .dataframe tbody tr th {\n",
       "        vertical-align: top;\n",
       "    }\n",
       "\n",
       "    .dataframe thead th {\n",
       "        text-align: right;\n",
       "    }\n",
       "</style>\n",
       "<table border=\"1\" class=\"dataframe\">\n",
       "  <thead>\n",
       "    <tr style=\"text-align: right;\">\n",
       "      <th></th>\n",
       "      <th>INFRACTION_PER_SENT</th>\n",
       "      <th>misd_count</th>\n",
       "      <th>felon_count</th>\n",
       "      <th>sentence_count</th>\n",
       "      <th>age_at_sentence</th>\n",
       "      <th>unemp_rate</th>\n",
       "      <th>age_first_offense</th>\n",
       "      <th>juv_first_offense</th>\n",
       "      <th>current_crime_violent</th>\n",
       "      <th>RACE_ASIAN/ORTL</th>\n",
       "      <th>...</th>\n",
       "      <th>age_cat_25-29</th>\n",
       "      <th>age_cat_30-34</th>\n",
       "      <th>age_cat_35-39</th>\n",
       "      <th>age_cat_40-44</th>\n",
       "      <th>age_cat_45-49</th>\n",
       "      <th>age_cat_50-54</th>\n",
       "      <th>age_cat_55-59</th>\n",
       "      <th>age_cat_60-64</th>\n",
       "      <th>age_cat_65 and older</th>\n",
       "      <th>CONTROL_STATUS_OUT OF CELL RESTRICTION   OUTC</th>\n",
       "    </tr>\n",
       "    <tr>\n",
       "      <th>Recidivate_Risk_Level</th>\n",
       "      <th></th>\n",
       "      <th></th>\n",
       "      <th></th>\n",
       "      <th></th>\n",
       "      <th></th>\n",
       "      <th></th>\n",
       "      <th></th>\n",
       "      <th></th>\n",
       "      <th></th>\n",
       "      <th></th>\n",
       "      <th></th>\n",
       "      <th></th>\n",
       "      <th></th>\n",
       "      <th></th>\n",
       "      <th></th>\n",
       "      <th></th>\n",
       "      <th></th>\n",
       "      <th></th>\n",
       "      <th></th>\n",
       "      <th></th>\n",
       "      <th></th>\n",
       "    </tr>\n",
       "  </thead>\n",
       "  <tbody>\n",
       "    <tr>\n",
       "      <th>0.0</th>\n",
       "      <td>58575</td>\n",
       "      <td>58575</td>\n",
       "      <td>58575</td>\n",
       "      <td>58575</td>\n",
       "      <td>58575</td>\n",
       "      <td>58575</td>\n",
       "      <td>58575</td>\n",
       "      <td>58575</td>\n",
       "      <td>58575</td>\n",
       "      <td>58575</td>\n",
       "      <td>...</td>\n",
       "      <td>58575</td>\n",
       "      <td>58575</td>\n",
       "      <td>58575</td>\n",
       "      <td>58575</td>\n",
       "      <td>58575</td>\n",
       "      <td>58575</td>\n",
       "      <td>58575</td>\n",
       "      <td>58575</td>\n",
       "      <td>58575</td>\n",
       "      <td>58575</td>\n",
       "    </tr>\n",
       "    <tr>\n",
       "      <th>1.0</th>\n",
       "      <td>25542</td>\n",
       "      <td>25542</td>\n",
       "      <td>25542</td>\n",
       "      <td>25542</td>\n",
       "      <td>25542</td>\n",
       "      <td>25542</td>\n",
       "      <td>25542</td>\n",
       "      <td>25542</td>\n",
       "      <td>25542</td>\n",
       "      <td>25542</td>\n",
       "      <td>...</td>\n",
       "      <td>25542</td>\n",
       "      <td>25542</td>\n",
       "      <td>25542</td>\n",
       "      <td>25542</td>\n",
       "      <td>25542</td>\n",
       "      <td>25542</td>\n",
       "      <td>25542</td>\n",
       "      <td>25542</td>\n",
       "      <td>25542</td>\n",
       "      <td>25542</td>\n",
       "    </tr>\n",
       "  </tbody>\n",
       "</table>\n",
       "<p>2 rows × 453 columns</p>\n",
       "</div>"
      ],
      "text/plain": [
       "                       INFRACTION_PER_SENT  misd_count  felon_count  \\\n",
       "Recidivate_Risk_Level                                                 \n",
       "0.0                                  58575       58575        58575   \n",
       "1.0                                  25542       25542        25542   \n",
       "\n",
       "                       sentence_count  age_at_sentence  unemp_rate  \\\n",
       "Recidivate_Risk_Level                                                \n",
       "0.0                             58575            58575       58575   \n",
       "1.0                             25542            25542       25542   \n",
       "\n",
       "                       age_first_offense  juv_first_offense  \\\n",
       "Recidivate_Risk_Level                                         \n",
       "0.0                                58575              58575   \n",
       "1.0                                25542              25542   \n",
       "\n",
       "                       current_crime_violent  RACE_ASIAN/ORTL  ...  \\\n",
       "Recidivate_Risk_Level                                          ...   \n",
       "0.0                                    58575            58575  ...   \n",
       "1.0                                    25542            25542  ...   \n",
       "\n",
       "                       age_cat_25-29  age_cat_30-34  age_cat_35-39  \\\n",
       "Recidivate_Risk_Level                                                \n",
       "0.0                            58575          58575          58575   \n",
       "1.0                            25542          25542          25542   \n",
       "\n",
       "                       age_cat_40-44  age_cat_45-49  age_cat_50-54  \\\n",
       "Recidivate_Risk_Level                                                \n",
       "0.0                            58575          58575          58575   \n",
       "1.0                            25542          25542          25542   \n",
       "\n",
       "                       age_cat_55-59  age_cat_60-64  age_cat_65 and older  \\\n",
       "Recidivate_Risk_Level                                                       \n",
       "0.0                            58575          58575                 58575   \n",
       "1.0                            25542          25542                 25542   \n",
       "\n",
       "                       CONTROL_STATUS_OUT OF CELL RESTRICTION   OUTC  \n",
       "Recidivate_Risk_Level                                                 \n",
       "0.0                                                            58575  \n",
       "1.0                                                            25542  \n",
       "\n",
       "[2 rows x 453 columns]"
      ]
     },
     "execution_count": 28,
     "metadata": {},
     "output_type": "execute_result"
    }
   ],
   "source": [
    "validate_data.groupby(target).count()\n"
   ]
  },
  {
   "cell_type": "code",
   "execution_count": 29,
   "metadata": {},
   "outputs": [
    {
     "name": "stdout",
     "output_type": "stream",
     "text": [
      "Recidivate_Risk_Level\n",
      "{'penalty': ['l2', 'none'], 'C': [0.01], 'max_iter': [1000]}\n",
      "Running:  LogisticRegression(C=0.01, class_weight=None, dual=False, fit_intercept=True,\n",
      "                   intercept_scaling=1, l1_ratio=None, max_iter=1000,\n",
      "                   multi_class='auto', n_jobs=None, penalty='none',\n",
      "                   random_state=1234, solver='lbfgs', tol=0.0001, verbose=0,\n",
      "                   warm_start=False)\n"
     ]
    },
    {
     "name": "stderr",
     "output_type": "stream",
     "text": [
      "//anaconda3/lib/python3.7/site-packages/sklearn/linear_model/_logistic.py:1505: UserWarning: Setting penalty='none' will ignore the C and l1_ratio parameters\n",
      "  \"Setting penalty='none' will ignore the C and l1_ratio \"\n",
      "//anaconda3/lib/python3.7/site-packages/sklearn/linear_model/_logistic.py:940: ConvergenceWarning: lbfgs failed to converge (status=1):\n",
      "STOP: TOTAL NO. of ITERATIONS REACHED LIMIT.\n",
      "\n",
      "Increase the number of iterations (max_iter) or scale the data as shown in:\n",
      "    https://scikit-learn.org/stable/modules/preprocessing.html\n",
      "Please also refer to the documentation for alternative solver options:\n",
      "    https://scikit-learn.org/stable/modules/linear_model.html#logistic-regression\n",
      "  extra_warning_msg=_LOGISTIC_SOLVER_CONVERGENCE_MSG)\n",
      "//anaconda3/lib/python3.7/site-packages/sklearn/linear_model/_logistic.py:1505: UserWarning: Setting penalty='none' will ignore the C and l1_ratio parameters\n",
      "  \"Setting penalty='none' will ignore the C and l1_ratio \"\n",
      "//anaconda3/lib/python3.7/site-packages/sklearn/linear_model/_logistic.py:940: ConvergenceWarning: lbfgs failed to converge (status=1):\n",
      "STOP: TOTAL NO. of ITERATIONS REACHED LIMIT.\n",
      "\n",
      "Increase the number of iterations (max_iter) or scale the data as shown in:\n",
      "    https://scikit-learn.org/stable/modules/preprocessing.html\n",
      "Please also refer to the documentation for alternative solver options:\n",
      "    https://scikit-learn.org/stable/modules/linear_model.html#logistic-regression\n",
      "  extra_warning_msg=_LOGISTIC_SOLVER_CONVERGENCE_MSG)\n"
     ]
    },
    {
     "name": "stdout",
     "output_type": "stream",
     "text": [
      "{'C': 0.01, 'max_iter': 1000, 'penalty': 'none'}\n",
      "LogisticRegression(C=0.01, class_weight=None, dual=False, fit_intercept=True,\n",
      "                   intercept_scaling=1, l1_ratio=None, max_iter=1000,\n",
      "                   multi_class='auto', n_jobs=None, penalty='none',\n",
      "                   random_state=1234, solver='lbfgs', tol=0.0001, verbose=0,\n",
      "                   warm_start=False)\n",
      "Recidivate_Risk_Level\n",
      "Fitting best model\n"
     ]
    },
    {
     "name": "stderr",
     "output_type": "stream",
     "text": [
      "//anaconda3/lib/python3.7/site-packages/sklearn/linear_model/_logistic.py:1505: UserWarning: Setting penalty='none' will ignore the C and l1_ratio parameters\n",
      "  \"Setting penalty='none' will ignore the C and l1_ratio \"\n",
      "//anaconda3/lib/python3.7/site-packages/sklearn/linear_model/_logistic.py:940: ConvergenceWarning: lbfgs failed to converge (status=1):\n",
      "STOP: TOTAL NO. of ITERATIONS REACHED LIMIT.\n",
      "\n",
      "Increase the number of iterations (max_iter) or scale the data as shown in:\n",
      "    https://scikit-learn.org/stable/modules/preprocessing.html\n",
      "Please also refer to the documentation for alternative solver options:\n",
      "    https://scikit-learn.org/stable/modules/linear_model.html#logistic-regression\n",
      "  extra_warning_msg=_LOGISTIC_SOLVER_CONVERGENCE_MSG)\n"
     ]
    },
    {
     "name": "stdout",
     "output_type": "stream",
     "text": [
      "Feature Importance\n"
     ]
    },
    {
     "data": {
      "image/png": "[encoded data removed]",
      "text/plain": [
       "<Figure size 432x288 with 1 Axes>"
      ]
     },
     "metadata": {
      "needs_background": "light"
     },
     "output_type": "display_data"
    },
    {
     "name": "stdout",
     "output_type": "stream",
     "text": [
      "Confusion Matrix\n",
      "LogisticRegression(C=0.01, class_weight=None, dual=False, fit_intercept=True,\n",
      "                   intercept_scaling=1, l1_ratio=None, max_iter=1000,\n",
      "                   multi_class='auto', n_jobs=None, penalty='none',\n",
      "                   random_state=1234, solver='lbfgs', tol=0.0001, verbose=0,\n",
      "                   warm_start=False)\n",
      "[[67658  5798]\n",
      " [23951  8216]]\n",
      "Accuracy:\t0.7183473296535793\n",
      "Precision:\t0.5862708719851577\n",
      "Recall:\t\t0.2554170423104424\n",
      "F1 Score:\t0.3558173274723371\n",
      "\n",
      "{'criterion': ['entropy'], 'max_depth': [10, 30], 'min_samples_split': [100]}\n",
      "Running:  DecisionTreeClassifier(ccp_alpha=0.0, class_weight=None, criterion='entropy',\n",
      "                       max_depth=30, max_features=None, max_leaf_nodes=None,\n",
      "                       min_impurity_decrease=0.0, min_impurity_split=None,\n",
      "                       min_samples_leaf=1, min_samples_split=100,\n",
      "                       min_weight_fraction_leaf=0.0, presort='deprecated',\n",
      "                       random_state=1234, splitter='best')\n",
      "{'criterion': 'entropy', 'max_depth': 30, 'min_samples_split': 100}\n",
      "DecisionTreeClassifier(ccp_alpha=0.0, class_weight=None, criterion='entropy',\n",
      "                       max_depth=30, max_features=None, max_leaf_nodes=None,\n",
      "                       min_impurity_decrease=0.0, min_impurity_split=None,\n",
      "                       min_samples_leaf=1, min_samples_split=100,\n",
      "                       min_weight_fraction_leaf=0.0, presort='deprecated',\n",
      "                       random_state=1234, splitter='best')\n",
      "Recidivate_Risk_Level\n",
      "Fitting best model\n",
      "Feature Importance\n"
     ]
    },
    {
     "data": {
      "image/png": "[encoded data removed]",
      "text/plain": [
       "<Figure size 432x288 with 2 Axes>"
      ]
     },
     "metadata": {
      "needs_background": "light"
     },
     "output_type": "display_data"
    },
    {
     "data": {
      "image/png": "[encoded data removed]",
      "text/plain": [
       "<Figure size 432x288 with 1 Axes>"
      ]
     },
     "metadata": {
      "needs_background": "light"
     },
     "output_type": "display_data"
    },
    {
     "data": {
      "image/png": "[encoded data removed]",
      "text/plain": [
       "<Figure size 432x288 with 1 Axes>"
      ]
     },
     "metadata": {
      "needs_background": "light"
     },
     "output_type": "display_data"
    },
    {
     "name": "stdout",
     "output_type": "stream",
     "text": [
      "Confusion Matrix\n",
      "DecisionTreeClassifier(ccp_alpha=0.0, class_weight=None, criterion='entropy',\n",
      "                       max_depth=30, max_features=None, max_leaf_nodes=None,\n",
      "                       min_impurity_decrease=0.0, min_impurity_split=None,\n",
      "                       min_samples_leaf=1, min_samples_split=100,\n",
      "                       min_weight_fraction_leaf=0.0, presort='deprecated',\n",
      "                       random_state=1234, splitter='best')\n",
      "[[63868  9588]\n",
      " [22116 10051]]\n",
      "Accuracy:\t0.6998381034433788\n",
      "Precision:\t0.511787769234686\n",
      "Recall:\t\t0.31246308328411104\n",
      "F1 Score:\t0.3880245531405629\n",
      "\n",
      "Time Elapsed: 0:09:11.810535\n"
     ]
    },
    {
     "data": {
      "image/png": "[encoded data removed]",
      "text/plain": [
       "<Figure size 432x288 with 2 Axes>"
      ]
     },
     "metadata": {
      "needs_background": "light"
     },
     "output_type": "display_data"
    }
   ],
   "source": [
    "results, best_models = classification.run_classifier(train_data,validate_data,test_data,target_type)\n",
    "\n",
    "best_models.to_csv('../results/best_models_'+target_type+'_'+features+'.csv', index=False)\n",
    "results.to_csv('../results/results'+target_type+'_'+features+'.csv', index=False)\n"
   ]
  },
  {
   "cell_type": "code",
   "execution_count": 30,
   "metadata": {},
   "outputs": [
    {
     "data": {
      "text/html": [
       "<div>\n",
       "<style scoped>\n",
       "    .dataframe tbody tr th:only-of-type {\n",
       "        vertical-align: middle;\n",
       "    }\n",
       "\n",
       "    .dataframe tbody tr th {\n",
       "        vertical-align: top;\n",
       "    }\n",
       "\n",
       "    .dataframe thead th {\n",
       "        text-align: right;\n",
       "    }\n",
       "</style>\n",
       "<table border=\"1\" class=\"dataframe\">\n",
       "  <thead>\n",
       "    <tr style=\"text-align: right;\">\n",
       "      <th></th>\n",
       "      <th>classifier</th>\n",
       "      <th>params</th>\n",
       "      <th>rank_test_precision</th>\n",
       "      <th>rank_test_recall</th>\n",
       "      <th>rank_test_accuracy</th>\n",
       "      <th>rank_test_f1</th>\n",
       "      <th>mean_test_accuracy</th>\n",
       "      <th>mean_test_recall</th>\n",
       "      <th>mean_test_precision</th>\n",
       "      <th>mean_test_f1</th>\n",
       "    </tr>\n",
       "  </thead>\n",
       "  <tbody>\n",
       "    <tr>\n",
       "      <th>1</th>\n",
       "      <td>LogisticRegression(C=0.01, class_weight=None, ...</td>\n",
       "      <td>{'C': 0.01, 'max_iter': 1000, 'penalty': 'none'}</td>\n",
       "      <td>2</td>\n",
       "      <td>1</td>\n",
       "      <td>1</td>\n",
       "      <td>1</td>\n",
       "      <td>0.686494</td>\n",
       "      <td>0.340492</td>\n",
       "      <td>0.585806</td>\n",
       "      <td>0.430425</td>\n",
       "    </tr>\n",
       "    <tr>\n",
       "      <th>0</th>\n",
       "      <td>LogisticRegression(C=0.01, class_weight=None, ...</td>\n",
       "      <td>{'C': 0.01, 'max_iter': 1000, 'penalty': 'l2'}</td>\n",
       "      <td>1</td>\n",
       "      <td>2</td>\n",
       "      <td>2</td>\n",
       "      <td>2</td>\n",
       "      <td>0.683429</td>\n",
       "      <td>0.257180</td>\n",
       "      <td>0.606659</td>\n",
       "      <td>0.361127</td>\n",
       "    </tr>\n",
       "    <tr>\n",
       "      <th>1</th>\n",
       "      <td>DecisionTreeClassifier(ccp_alpha=0.0, class_we...</td>\n",
       "      <td>{'criterion': 'entropy', 'max_depth': 30, 'min...</td>\n",
       "      <td>2</td>\n",
       "      <td>1</td>\n",
       "      <td>2</td>\n",
       "      <td>1</td>\n",
       "      <td>0.657405</td>\n",
       "      <td>0.375206</td>\n",
       "      <td>0.510713</td>\n",
       "      <td>0.432556</td>\n",
       "    </tr>\n",
       "    <tr>\n",
       "      <th>0</th>\n",
       "      <td>DecisionTreeClassifier(ccp_alpha=0.0, class_we...</td>\n",
       "      <td>{'criterion': 'entropy', 'max_depth': 10, 'min...</td>\n",
       "      <td>1</td>\n",
       "      <td>2</td>\n",
       "      <td>1</td>\n",
       "      <td>2</td>\n",
       "      <td>0.673376</td>\n",
       "      <td>0.318098</td>\n",
       "      <td>0.554486</td>\n",
       "      <td>0.403419</td>\n",
       "    </tr>\n",
       "  </tbody>\n",
       "</table>\n",
       "</div>"
      ],
      "text/plain": [
       "                                          classifier  \\\n",
       "1  LogisticRegression(C=0.01, class_weight=None, ...   \n",
       "0  LogisticRegression(C=0.01, class_weight=None, ...   \n",
       "1  DecisionTreeClassifier(ccp_alpha=0.0, class_we...   \n",
       "0  DecisionTreeClassifier(ccp_alpha=0.0, class_we...   \n",
       "\n",
       "                                              params rank_test_precision  \\\n",
       "1   {'C': 0.01, 'max_iter': 1000, 'penalty': 'none'}                   2   \n",
       "0     {'C': 0.01, 'max_iter': 1000, 'penalty': 'l2'}                   1   \n",
       "1  {'criterion': 'entropy', 'max_depth': 30, 'min...                   2   \n",
       "0  {'criterion': 'entropy', 'max_depth': 10, 'min...                   1   \n",
       "\n",
       "  rank_test_recall rank_test_accuracy rank_test_f1  mean_test_accuracy  \\\n",
       "1                1                  1            1            0.686494   \n",
       "0                2                  2            2            0.683429   \n",
       "1                1                  2            1            0.657405   \n",
       "0                2                  1            2            0.673376   \n",
       "\n",
       "   mean_test_recall  mean_test_precision  mean_test_f1  \n",
       "1          0.340492             0.585806      0.430425  \n",
       "0          0.257180             0.606659      0.361127  \n",
       "1          0.375206             0.510713      0.432556  \n",
       "0          0.318098             0.554486      0.403419  "
      ]
     },
     "execution_count": 30,
     "metadata": {},
     "output_type": "execute_result"
    }
   ],
   "source": [
    "results"
   ]
  },
  {
   "cell_type": "code",
   "execution_count": 31,
   "metadata": {},
   "outputs": [
    {
     "data": {
      "text/html": [
       "<div>\n",
       "<style scoped>\n",
       "    .dataframe tbody tr th:only-of-type {\n",
       "        vertical-align: middle;\n",
       "    }\n",
       "\n",
       "    .dataframe tbody tr th {\n",
       "        vertical-align: top;\n",
       "    }\n",
       "\n",
       "    .dataframe thead th {\n",
       "        text-align: right;\n",
       "    }\n",
       "</style>\n",
       "<table border=\"1\" class=\"dataframe\">\n",
       "  <thead>\n",
       "    <tr style=\"text-align: right;\">\n",
       "      <th></th>\n",
       "      <th>classifier</th>\n",
       "      <th>test_accuracy</th>\n",
       "      <th>test_precision</th>\n",
       "      <th>test_recall</th>\n",
       "      <th>test_f1</th>\n",
       "    </tr>\n",
       "  </thead>\n",
       "  <tbody>\n",
       "    <tr>\n",
       "      <th>0</th>\n",
       "      <td>LogisticRegression(C=0.01, class_weight=None, ...</td>\n",
       "      <td>0.718347</td>\n",
       "      <td>0.586271</td>\n",
       "      <td>0.255417</td>\n",
       "      <td>0.355817</td>\n",
       "    </tr>\n",
       "    <tr>\n",
       "      <th>1</th>\n",
       "      <td>DecisionTreeClassifier(ccp_alpha=0.0, class_we...</td>\n",
       "      <td>0.699838</td>\n",
       "      <td>0.511788</td>\n",
       "      <td>0.312463</td>\n",
       "      <td>0.388025</td>\n",
       "    </tr>\n",
       "  </tbody>\n",
       "</table>\n",
       "</div>"
      ],
      "text/plain": [
       "                                          classifier  test_accuracy  \\\n",
       "0  LogisticRegression(C=0.01, class_weight=None, ...       0.718347   \n",
       "1  DecisionTreeClassifier(ccp_alpha=0.0, class_we...       0.699838   \n",
       "\n",
       "   test_precision  test_recall   test_f1  \n",
       "0        0.586271     0.255417  0.355817  \n",
       "1        0.511788     0.312463  0.388025  "
      ]
     },
     "execution_count": 31,
     "metadata": {},
     "output_type": "execute_result"
    }
   ],
   "source": [
    "best_models"
   ]
  },
  {
   "cell_type": "code",
   "execution_count": null,
   "metadata": {},
   "outputs": [],
   "source": []
  },
  {
   "cell_type": "code",
   "execution_count": null,
   "metadata": {},
   "outputs": [],
   "source": [
    "# Step 3\n",
    "target_type = \"three_class\"\n",
    "features = \"Demographics\"\n",
    "\n",
    "#print(features)\n",
    "#train_data, test_data, validate_data, active_sentences = build.split_and_process(dataset_1,config,grouping_target)\n",
    "train_data, test_data, validate_data, active_sentences, active_almost_complete = build.split_and_process(dataset_3,config,target_type,features)\n",
    "\n",
    "# Sanity Check\n",
    "print('Train and Test Check:')\n",
    "build.sanity_check(train_data,test_data)\n",
    "\n",
    "print('Train and Validate Check:')\n",
    "build.sanity_check(train_data,validate_data)\n",
    "\n",
    "print('Train and Active Check:')\n",
    "build.sanity_check(train_data,active_sentences)\n",
    "\n",
    "print('Train and Active Almost Complete Check:')\n",
    "build.sanity_check(train_data,active_almost_complete)"
   ]
  },
  {
   "cell_type": "code",
   "execution_count": null,
   "metadata": {},
   "outputs": [],
   "source": [
    "validate_data.groupby(target).count()\n"
   ]
  },
  {
   "cell_type": "code",
   "execution_count": null,
   "metadata": {},
   "outputs": [],
   "source": [
    "# train_data = train_data.sample(10000)\n",
    "# validate_data = validate_data.sample(5000)\n",
    "# test_data = test_data.sample(3000)"
   ]
  },
  {
   "cell_type": "code",
   "execution_count": null,
   "metadata": {},
   "outputs": [],
   "source": [
    "results, best_models = classification.run_classifier(train_data,validate_data,test_data,target_type)\n",
    "best_models.to_csv('../results/best_models_'+target_type+'_'+features+'.csv', index=False)\n",
    "results.to_csv('../results/results'+target_type+'_'+features+'.csv', index=False)\n"
   ]
  },
  {
   "cell_type": "code",
   "execution_count": null,
   "metadata": {},
   "outputs": [],
   "source": [
    "results"
   ]
  },
  {
   "cell_type": "code",
   "execution_count": null,
   "metadata": {},
   "outputs": [],
   "source": [
    "best_models"
   ]
  },
  {
   "cell_type": "code",
   "execution_count": null,
   "metadata": {},
   "outputs": [],
   "source": [
    "# Step 3\n",
    "target_type = \"three_class\"\n",
    "features = \"No Demographics\"\n",
    "\n",
    "#print(features)\n",
    "#train_data, test_data, validate_data, active_sentences = build.split_and_process(dataset_1,config,grouping_target)\n",
    "train_data, test_data, validate_data, active_sentences, active_almost_complete = build.split_and_process(dataset_3,config,target_type,features)\n",
    "\n",
    "# Sanity Check\n",
    "print('Train and Test Check:')\n",
    "build.sanity_check(train_data,test_data)\n",
    "\n",
    "print('Train and Validate Check:')\n",
    "build.sanity_check(train_data,validate_data)\n",
    "\n",
    "print('Train and Active Check:')\n",
    "build.sanity_check(train_data,active_sentences)\n",
    "\n",
    "print('Train and Active Almost Complete Check:')\n",
    "build.sanity_check(train_data,active_almost_complete)"
   ]
  },
  {
   "cell_type": "code",
   "execution_count": null,
   "metadata": {},
   "outputs": [],
   "source": [
    "validate_data.groupby(target).count()\n"
   ]
  },
  {
   "cell_type": "code",
   "execution_count": null,
   "metadata": {},
   "outputs": [],
   "source": [
    "results, best_models = classification.run_classifier(train_data,validate_data,test_data,target_type)\n",
    "best_models.to_csv('../results/best_models_'+target_type+'_'+features+'.csv', index=False)\n",
    "results.to_csv('../results/results'+target_type+'_'+features+'.csv', index=False)\n"
   ]
  },
  {
   "cell_type": "code",
   "execution_count": null,
   "metadata": {},
   "outputs": [],
   "source": [
    "results"
   ]
  },
  {
   "cell_type": "code",
   "execution_count": null,
   "metadata": {},
   "outputs": [],
   "source": [
    "best_models"
   ]
  },
  {
   "cell_type": "code",
   "execution_count": null,
   "metadata": {},
   "outputs": [],
   "source": [
    "# Step 4\n",
    "target_type = \"all\"\n",
    "features = \"Demographics\"\n",
    "\n",
    "#print(features)\n",
    "#train_data, test_data, validate_data, active_sentences = build.split_and_process(dataset_1,config,grouping_target)\n",
    "train_data, test_data, validate_data, active_sentences, active_almost_complete = build.split_and_process(dataset_3,config,target_type,features)\n",
    "\n",
    "# Sanity Check\n",
    "print('Train and Test Check:')\n",
    "build.sanity_check(train_data,test_data)\n",
    "\n",
    "print('Train and Validate Check:')\n",
    "build.sanity_check(train_data,validate_data)\n",
    "\n",
    "print('Train and Active Check:')\n",
    "build.sanity_check(train_data,active_sentences)\n",
    "\n",
    "print('Train and Active Almost Complete Check:')\n",
    "build.sanity_check(train_data,active_almost_complete)"
   ]
  },
  {
   "cell_type": "code",
   "execution_count": null,
   "metadata": {},
   "outputs": [],
   "source": [
    "validate_data.groupby(target).count()\n"
   ]
  },
  {
   "cell_type": "code",
   "execution_count": null,
   "metadata": {},
   "outputs": [],
   "source": [
    "results, best_models = classification.run_classifier(train_data,validate_data,test_data,target_type)\n",
    "best_models.to_csv('../results/best_models_'+target_type+'_'+features+'.csv', index=False)\n",
    "results.to_csv('../results/results'+target_type+'_'+features+'.csv', index=False)\n"
   ]
  },
  {
   "cell_type": "code",
   "execution_count": null,
   "metadata": {},
   "outputs": [],
   "source": [
    "results"
   ]
  },
  {
   "cell_type": "code",
   "execution_count": null,
   "metadata": {},
   "outputs": [],
   "source": [
    "best_models"
   ]
  },
  {
   "cell_type": "code",
   "execution_count": null,
   "metadata": {},
   "outputs": [],
   "source": [
    "# Step 4\n",
    "target_type = \"all\"\n",
    "features = \"No Demographics\"\n",
    "\n",
    "#print(features)\n",
    "#train_data, test_data, validate_data, active_sentences = build.split_and_process(dataset_1,config,grouping_target)\n",
    "train_data, test_data, validate_data, active_sentences, active_almost_complete = build.split_and_process(dataset_3,config,target_type,features)\n",
    "\n",
    "# Sanity Check\n",
    "print('Train and Test Check:')\n",
    "build.sanity_check(train_data,test_data)\n",
    "\n",
    "print('Train and Validate Check:')\n",
    "build.sanity_check(train_data,validate_data)\n",
    "\n",
    "print('Train and Active Check:')\n",
    "build.sanity_check(train_data,active_sentences)\n",
    "\n",
    "print('Train and Active Almost Complete Check:')\n",
    "build.sanity_check(train_data,active_almost_complete)"
   ]
  },
  {
   "cell_type": "code",
   "execution_count": null,
   "metadata": {},
   "outputs": [],
   "source": [
    "validate_data.groupby(target).count()\n"
   ]
  },
  {
   "cell_type": "code",
   "execution_count": null,
   "metadata": {},
   "outputs": [],
   "source": [
    "results, best_models = classification.run_classifier(train_data,validate_data,test_data,target_type)\n",
    "best_models.to_csv('../results/best_models_'+target_type+'_'+features+'.csv', index=False)\n",
    "results.to_csv('../results/results'+target_type+'_'+features+'.csv', index=False)\n"
   ]
  },
  {
   "cell_type": "code",
   "execution_count": null,
   "metadata": {},
   "outputs": [],
   "source": [
    "results"
   ]
  },
  {
   "cell_type": "code",
   "execution_count": null,
   "metadata": {},
   "outputs": [],
   "source": [
    "best_models"
   ]
  },
  {
   "cell_type": "code",
   "execution_count": null,
   "metadata": {},
   "outputs": [],
   "source": []
  }
 ],
 "metadata": {
  "kernelspec": {
   "display_name": "Python 3",
   "language": "python",
   "name": "python3"
  },
  "language_info": {
   "codemirror_mode": {
    "name": "ipython",
    "version": 3
   },
   "file_extension": ".py",
   "mimetype": "text/x-python",
   "name": "python",
   "nbconvert_exporter": "python",
   "pygments_lexer": "ipython3",
   "version": "3.7.3"
  }
 },
 "nbformat": 4,
 "nbformat_minor": 4
}
