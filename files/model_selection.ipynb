{
 "cells": [
  {
   "cell_type": "code",
   "execution_count": 2,
   "metadata": {},
   "outputs": [
    {
     "name": "stderr",
     "output_type": "stream",
     "text": [
      "\n",
      "Bad key \"text.kerning_factor\" on line 4 in\n",
      "/Users/daminisharma/miniconda3/lib/python3.7/site-packages/matplotlib/mpl-data/stylelib/_classic_test_patch.mplstyle.\n",
      "You probably need to get an updated matplotlibrc file from\n",
      "https://github.com/matplotlib/matplotlib/blob/v3.1.3/matplotlibrc.template\n",
      "or from the matplotlib source distribution\n"
     ]
    }
   ],
   "source": [
    "import sqlite3\n",
    "from sqlite3 import Error\n",
    "import os.path\n",
    "from os import path\n",
    "\n",
    "from create_db import create_connection, create_table, clean_column_names\n",
    "from populate_db import extract_data, insert_records\n",
    "import query_db as qd\n",
    "import config\n",
    "import build_dataset as build\n",
    "import pipeline\n",
    "import classification\n",
    "\n",
    "import importlib\n",
    "import datetime\n",
    "import re\n",
    "import numpy as np\n",
    "import pandas as pd\n",
    "\n",
    "from sklearn.preprocessing import StandardScaler\n",
    "from sklearn.preprocessing import PolynomialFeatures\n",
    "from sklearn.linear_model import Ridge\n",
    "from sklearn.model_selection import KFold, cross_val_score, PredefinedSplit\n",
    "from sklearn.pipeline import Pipeline\n",
    "from sklearn.model_selection import GridSearchCV\n",
    "from sklearn.metrics import make_scorer\n",
    "from sklearn.metrics import accuracy_score\n",
    "from sklearn.metrics import accuracy_score\n",
    "from sklearn.metrics import plot_confusion_matrix, classification_report, plot_roc_curve, plot_precision_recall_curve \n",
    "\n",
    "# Decision Tree\n",
    "from sklearn.tree import DecisionTreeClassifier\n",
    "\n",
    "from sklearn.model_selection import ParameterGrid\n",
    "from sklearn.linear_model import LogisticRegression\n",
    "from sklearn.svm import LinearSVC\n",
    "from sklearn.naive_bayes import GaussianNB\n",
    "from sklearn.metrics import accuracy_score, precision_score, recall_score, f1_score\n",
    "from sklearn.model_selection import ParameterGrid\n",
    "from sklearn.tree import DecisionTreeClassifier\n",
    "from sklearn.ensemble import RandomForestClassifier\n",
    "\n",
    "import matplotlib.pyplot as plt\n",
    "import seaborn as sns\n",
    "import numpy as np\n",
    "import re\n",
    "%matplotlib inline"
   ]
  },
  {
   "cell_type": "markdown",
   "metadata": {},
   "source": [
    "# Notebook table of contents:\n",
    "1. Run all models for binary outcome variable. Run the best model according to F1 score and precision, predict on test data, calculate evaluation metrics\n",
    "2. Repeat 1 without using demographic features\n",
    "3. Repeat 1-2 on three-class outcome variable\n",
    "4. Repeat 1-2 on 6-class outcome variable"
   ]
  },
  {
   "cell_type": "code",
   "execution_count": 3,
   "metadata": {},
   "outputs": [
    {
     "name": "stderr",
     "output_type": "stream",
     "text": [
      "/Users/daminisharma/miniconda3/lib/python3.7/site-packages/IPython/core/interactiveshell.py:3063: DtypeWarning: Columns (21,22,29,30,32) have mixed types.Specify dtype option on import or set low_memory=False.\n",
      "  interactivity=interactivity, compiler=compiler, result=result)\n"
     ]
    }
   ],
   "source": [
    "# Import data\n",
    "dataset_3 = pd.read_csv('../data/dataset_main_active3.csv')"
   ]
  },
  {
   "cell_type": "code",
   "execution_count": 51,
   "metadata": {},
   "outputs": [
    {
     "name": "stdout",
     "output_type": "stream",
     "text": [
      "248\n",
      "Size of active sentences dataset:  32711\n",
      "Dataset size:  773724\n"
     ]
    },
    {
     "name": "stderr",
     "output_type": "stream",
     "text": [
      "/Users/daminisharma/miniconda3/lib/python3.7/site-packages/pandas/core/indexing.py:845: SettingWithCopyWarning: \n",
      "A value is trying to be set on a copy of a slice from a DataFrame.\n",
      "Try using .loc[row_indexer,col_indexer] = value instead\n",
      "\n",
      "See the caveats in the documentation: https://pandas.pydata.org/pandas-docs/stable/user_guide/indexing.html#returning-a-view-versus-a-copy\n",
      "  self.obj[key] = _infer_fill_value(value)\n",
      "/Users/daminisharma/miniconda3/lib/python3.7/site-packages/pandas/core/indexing.py:966: SettingWithCopyWarning: \n",
      "A value is trying to be set on a copy of a slice from a DataFrame.\n",
      "Try using .loc[row_indexer,col_indexer] = value instead\n",
      "\n",
      "See the caveats in the documentation: https://pandas.pydata.org/pandas-docs/stable/user_guide/indexing.html#returning-a-view-versus-a-copy\n",
      "  self.obj[item] = s\n",
      "/Users/daminisharma/miniconda3/lib/python3.7/site-packages/pandas/core/frame.py:3997: SettingWithCopyWarning: \n",
      "A value is trying to be set on a copy of a slice from a DataFrame\n",
      "\n",
      "See the caveats in the documentation: https://pandas.pydata.org/pandas-docs/stable/user_guide/indexing.html#returning-a-view-versus-a-copy\n",
      "  errors=errors,\n",
      "/Users/daminisharma/Dropbox/Harris MSCAPP/2019-20_Q3_Spring/Machine Learning/covid_decarceration/files/build_dataset.py:601: SettingWithCopyWarning: \n",
      "A value is trying to be set on a copy of a slice from a DataFrame.\n",
      "Try using .loc[row_indexer,col_indexer] = value instead\n",
      "\n",
      "See the caveats in the documentation: https://pandas.pydata.org/pandas-docs/stable/user_guide/indexing.html#returning-a-view-versus-a-copy\n",
      "  dataset_no_active[target_label] = dataset_no_active['label']\n"
     ]
    },
    {
     "name": "stdout",
     "output_type": "stream",
     "text": [
      "Total Number of Unique IDs: 418845\n",
      "Total Number of IDs in Test Data: 83769\n",
      "Total Number of IDs in Train Data: 268061\n",
      "Total Number of IDs in Validate Data: 67015\n",
      "Do the IDs add up? True\n",
      "Does Test Represent 20% of the data? True\n",
      "Test Represents X% of the data: 0.2\n",
      "Does Train+Validate Represent 80% of the data? False\n",
      "Train+Validate Represents X% of the data: 0.8\n",
      "Does Validate Represent 20% of the Train+Validate Data?: 0.19999940312048609\n",
      "Does Train Represent 80% of the Train+Validate Data?: 0.8000005968795139\n"
     ]
    },
    {
     "name": "stderr",
     "output_type": "stream",
     "text": [
      "/Users/daminisharma/Dropbox/Harris MSCAPP/2019-20_Q3_Spring/Machine Learning/covid_decarceration/files/build_dataset.py:686: SettingWithCopyWarning: \n",
      "A value is trying to be set on a copy of a slice from a DataFrame\n",
      "\n",
      "See the caveats in the documentation: https://pandas.pydata.org/pandas-docs/stable/user_guide/indexing.html#returning-a-view-versus-a-copy\n",
      "  age_first_offense.drop_duplicates(inplace=True)\n"
     ]
    },
    {
     "name": "stdout",
     "output_type": "stream",
     "text": [
      "Index(['RACE', 'GENDER', 'ETHNICITY', 'CONTROL_STATUS', 'OFFENSE_CLEAN',\n",
      "       'Current_Offense_Risk_Level', 'year_month', 'INFRACTION_PER_SENT',\n",
      "       'misd_count', 'felon_count', 'sentence_count', 'age_at_sentence',\n",
      "       'unemp_rate', 'ID', 'COMMITMENT_PREFIX', 'BIRTH_DATE',\n",
      "       'EARLIEST_SENTENCE_EFFECTIVE_DT', 'END_DATE',\n",
      "       'INMATE_ADMIN_STATUS_CODE', 'NextPrefix', 'Recidivate_Risk_Level',\n",
      "       'age_cat', 'age_first_offense', 'juv_first_offense',\n",
      "       'current_crime_violent'],\n",
      "      dtype='object')\n",
      "Train and Test Check:\n",
      "Success: Features match\n",
      "Success: No NAs remain\n",
      "Train and Validate Check:\n",
      "Success: Features match\n",
      "Success: No NAs remain\n",
      "Train and Active Check:\n",
      "Success: Features match\n",
      "Train and Active Almost Complete Check:\n",
      "Success: Features match\n"
     ]
    }
   ],
   "source": [
    "# Step 1\n",
    "target_type = \"binary\"\n",
    "features = \"Demographics\"\n",
    "\n",
    "#print(features)\n",
    "#train_data, test_data, validate_data, active_sentences = build.split_and_process(dataset_1,config,grouping_target)\n",
    "train_data, test_data, validate_data, active_sentences, active_almost_complete = build.split_and_process(dataset_3,config,target_type,features)\n",
    "\n",
    "\n",
    "# Sanity Check\n",
    "print('Train and Test Check:')\n",
    "build.sanity_check(train_data,test_data)\n",
    "\n",
    "print('Train and Validate Check:')\n",
    "build.sanity_check(train_data,validate_data)\n",
    "\n",
    "print('Train and Active Check:')\n",
    "build.sanity_check(train_data,active_sentences)\n",
    "\n",
    "print('Train and Active Almost Complete Check:')\n",
    "build.sanity_check(train_data,active_almost_complete)\n",
    "\n"
   ]
  },
  {
   "cell_type": "code",
   "execution_count": 52,
   "metadata": {},
   "outputs": [
    {
     "data": {
      "text/html": [
       "<div>\n",
       "<style scoped>\n",
       "    .dataframe tbody tr th:only-of-type {\n",
       "        vertical-align: middle;\n",
       "    }\n",
       "\n",
       "    .dataframe tbody tr th {\n",
       "        vertical-align: top;\n",
       "    }\n",
       "\n",
       "    .dataframe thead th {\n",
       "        text-align: right;\n",
       "    }\n",
       "</style>\n",
       "<table border=\"1\" class=\"dataframe\">\n",
       "  <thead>\n",
       "    <tr style=\"text-align: right;\">\n",
       "      <th></th>\n",
       "      <th>INFRACTION_PER_SENT</th>\n",
       "      <th>misd_count</th>\n",
       "      <th>felon_count</th>\n",
       "      <th>sentence_count</th>\n",
       "      <th>age_at_sentence</th>\n",
       "      <th>unemp_rate</th>\n",
       "      <th>age_first_offense</th>\n",
       "      <th>juv_first_offense</th>\n",
       "      <th>current_crime_violent</th>\n",
       "      <th>RACE_ASIAN/ORTL</th>\n",
       "      <th>...</th>\n",
       "      <th>age_cat_22-24</th>\n",
       "      <th>age_cat_25-29</th>\n",
       "      <th>age_cat_30-34</th>\n",
       "      <th>age_cat_35-39</th>\n",
       "      <th>age_cat_40-44</th>\n",
       "      <th>age_cat_45-49</th>\n",
       "      <th>age_cat_50-54</th>\n",
       "      <th>age_cat_55-59</th>\n",
       "      <th>age_cat_60-64</th>\n",
       "      <th>age_cat_65 and older</th>\n",
       "    </tr>\n",
       "    <tr>\n",
       "      <th>Recidivate_Risk_Level</th>\n",
       "      <th></th>\n",
       "      <th></th>\n",
       "      <th></th>\n",
       "      <th></th>\n",
       "      <th></th>\n",
       "      <th></th>\n",
       "      <th></th>\n",
       "      <th></th>\n",
       "      <th></th>\n",
       "      <th></th>\n",
       "      <th></th>\n",
       "      <th></th>\n",
       "      <th></th>\n",
       "      <th></th>\n",
       "      <th></th>\n",
       "      <th></th>\n",
       "      <th></th>\n",
       "      <th></th>\n",
       "      <th></th>\n",
       "      <th></th>\n",
       "      <th></th>\n",
       "    </tr>\n",
       "  </thead>\n",
       "  <tbody>\n",
       "    <tr>\n",
       "      <th>0.0</th>\n",
       "      <td>84922</td>\n",
       "      <td>84922</td>\n",
       "      <td>84922</td>\n",
       "      <td>84922</td>\n",
       "      <td>84922</td>\n",
       "      <td>84922</td>\n",
       "      <td>84922</td>\n",
       "      <td>84922</td>\n",
       "      <td>84922</td>\n",
       "      <td>84922</td>\n",
       "      <td>...</td>\n",
       "      <td>84922</td>\n",
       "      <td>84922</td>\n",
       "      <td>84922</td>\n",
       "      <td>84922</td>\n",
       "      <td>84922</td>\n",
       "      <td>84922</td>\n",
       "      <td>84922</td>\n",
       "      <td>84922</td>\n",
       "      <td>84922</td>\n",
       "      <td>84922</td>\n",
       "    </tr>\n",
       "    <tr>\n",
       "      <th>1.0</th>\n",
       "      <td>39206</td>\n",
       "      <td>39206</td>\n",
       "      <td>39206</td>\n",
       "      <td>39206</td>\n",
       "      <td>39206</td>\n",
       "      <td>39206</td>\n",
       "      <td>39206</td>\n",
       "      <td>39206</td>\n",
       "      <td>39206</td>\n",
       "      <td>39206</td>\n",
       "      <td>...</td>\n",
       "      <td>39206</td>\n",
       "      <td>39206</td>\n",
       "      <td>39206</td>\n",
       "      <td>39206</td>\n",
       "      <td>39206</td>\n",
       "      <td>39206</td>\n",
       "      <td>39206</td>\n",
       "      <td>39206</td>\n",
       "      <td>39206</td>\n",
       "      <td>39206</td>\n",
       "    </tr>\n",
       "  </tbody>\n",
       "</table>\n",
       "<p>2 rows × 677 columns</p>\n",
       "</div>"
      ],
      "text/plain": [
       "                       INFRACTION_PER_SENT  misd_count  felon_count  \\\n",
       "Recidivate_Risk_Level                                                 \n",
       "0.0                                  84922       84922        84922   \n",
       "1.0                                  39206       39206        39206   \n",
       "\n",
       "                       sentence_count  age_at_sentence  unemp_rate  \\\n",
       "Recidivate_Risk_Level                                                \n",
       "0.0                             84922            84922       84922   \n",
       "1.0                             39206            39206       39206   \n",
       "\n",
       "                       age_first_offense  juv_first_offense  \\\n",
       "Recidivate_Risk_Level                                         \n",
       "0.0                                84922              84922   \n",
       "1.0                                39206              39206   \n",
       "\n",
       "                       current_crime_violent  RACE_ASIAN/ORTL  ...  \\\n",
       "Recidivate_Risk_Level                                          ...   \n",
       "0.0                                    84922            84922  ...   \n",
       "1.0                                    39206            39206  ...   \n",
       "\n",
       "                       age_cat_22-24  age_cat_25-29  age_cat_30-34  \\\n",
       "Recidivate_Risk_Level                                                \n",
       "0.0                            84922          84922          84922   \n",
       "1.0                            39206          39206          39206   \n",
       "\n",
       "                       age_cat_35-39  age_cat_40-44  age_cat_45-49  \\\n",
       "Recidivate_Risk_Level                                                \n",
       "0.0                            84922          84922          84922   \n",
       "1.0                            39206          39206          39206   \n",
       "\n",
       "                       age_cat_50-54  age_cat_55-59  age_cat_60-64  \\\n",
       "Recidivate_Risk_Level                                                \n",
       "0.0                            84922          84922          84922   \n",
       "1.0                            39206          39206          39206   \n",
       "\n",
       "                       age_cat_65 and older  \n",
       "Recidivate_Risk_Level                        \n",
       "0.0                                   84922  \n",
       "1.0                                   39206  \n",
       "\n",
       "[2 rows x 677 columns]"
      ]
     },
     "execution_count": 52,
     "metadata": {},
     "output_type": "execute_result"
    }
   ],
   "source": [
    "target = config.target_vars[0]\n",
    "validate_data.groupby(target).count()\n"
   ]
  },
  {
   "cell_type": "code",
   "execution_count": 53,
   "metadata": {},
   "outputs": [],
   "source": [
    "# train_backup = train_data.copy()\n",
    "# validate_backup = validate_data.copy()\n",
    "# test_backup = test_data.copy()\n"
   ]
  },
  {
   "cell_type": "code",
   "execution_count": 54,
   "metadata": {},
   "outputs": [],
   "source": [
    "# train_data = train_data.sample(10000)\n",
    "# validate_data = validate_data.sample(5000)\n",
    "# test_data = test_data.sample(3000)"
   ]
  },
  {
   "cell_type": "code",
   "execution_count": 57,
   "metadata": {},
   "outputs": [
    {
     "data": {
      "text/plain": [
       "<module 'classification' from '/Users/daminisharma/Dropbox/Harris MSCAPP/2019-20_Q3_Spring/Machine Learning/covid_decarceration/files/classification.py'>"
      ]
     },
     "execution_count": 57,
     "metadata": {},
     "output_type": "execute_result"
    }
   ],
   "source": [
    "importlib.reload(build)\n",
    "importlib.reload(config)\n",
    "importlib.reload(pipeline)\n",
    "importlib.reload(classification)"
   ]
  },
  {
   "cell_type": "code",
   "execution_count": null,
   "metadata": {},
   "outputs": [
    {
     "name": "stdout",
     "output_type": "stream",
     "text": [
      "Recidivate_Risk_Level\n",
      "{'penalty': ['l2', 'none'], 'C': [0.01], 'max_iter': [1000]}\n",
      "Running:  LogisticRegression(C=1.0, class_weight=None, dual=False, fit_intercept=True,\n",
      "                   intercept_scaling=1, l1_ratio=None, max_iter=100,\n",
      "                   multi_class='auto', n_jobs=None, penalty='l2',\n",
      "                   random_state=1234, solver='lbfgs', tol=0.0001, verbose=0,\n",
      "                   warm_start=False)\n"
     ]
    },
    {
     "name": "stderr",
     "output_type": "stream",
     "text": [
      "/Users/daminisharma/miniconda3/lib/python3.7/site-packages/sklearn/linear_model/_logistic.py:1505: UserWarning: Setting penalty='none' will ignore the C and l1_ratio parameters\n",
      "  \"Setting penalty='none' will ignore the C and l1_ratio \"\n",
      "/Users/daminisharma/miniconda3/lib/python3.7/site-packages/sklearn/linear_model/_logistic.py:940: ConvergenceWarning: lbfgs failed to converge (status=1):\n",
      "STOP: TOTAL NO. of ITERATIONS REACHED LIMIT.\n",
      "\n",
      "Increase the number of iterations (max_iter) or scale the data as shown in:\n",
      "    https://scikit-learn.org/stable/modules/preprocessing.html\n",
      "Please also refer to the documentation for alternative solver options:\n",
      "    https://scikit-learn.org/stable/modules/linear_model.html#logistic-regression\n",
      "  extra_warning_msg=_LOGISTIC_SOLVER_CONVERGENCE_MSG)\n",
      "/Users/daminisharma/miniconda3/lib/python3.7/site-packages/sklearn/linear_model/_logistic.py:1505: UserWarning: Setting penalty='none' will ignore the C and l1_ratio parameters\n",
      "  \"Setting penalty='none' will ignore the C and l1_ratio \"\n",
      "/Users/daminisharma/miniconda3/lib/python3.7/site-packages/sklearn/linear_model/_logistic.py:940: ConvergenceWarning: lbfgs failed to converge (status=1):\n",
      "STOP: TOTAL NO. of ITERATIONS REACHED LIMIT.\n",
      "\n",
      "Increase the number of iterations (max_iter) or scale the data as shown in:\n",
      "    https://scikit-learn.org/stable/modules/preprocessing.html\n",
      "Please also refer to the documentation for alternative solver options:\n",
      "    https://scikit-learn.org/stable/modules/linear_model.html#logistic-regression\n",
      "  extra_warning_msg=_LOGISTIC_SOLVER_CONVERGENCE_MSG)\n"
     ]
    },
    {
     "name": "stdout",
     "output_type": "stream",
     "text": [
      "{'C': 0.01, 'max_iter': 1000, 'penalty': 'none'}\n",
      "LogisticRegression(C=0.01, class_weight=None, dual=False, fit_intercept=True,\n",
      "                   intercept_scaling=1, l1_ratio=None, max_iter=1000,\n",
      "                   multi_class='auto', n_jobs=None, penalty='none',\n",
      "                   random_state=1234, solver='lbfgs', tol=0.0001, verbose=0,\n",
      "                   warm_start=False)\n",
      "Recidivate_Risk_Level\n",
      "Fitting best model\n"
     ]
    },
    {
     "name": "stderr",
     "output_type": "stream",
     "text": [
      "/Users/daminisharma/miniconda3/lib/python3.7/site-packages/sklearn/linear_model/_logistic.py:1505: UserWarning: Setting penalty='none' will ignore the C and l1_ratio parameters\n",
      "  \"Setting penalty='none' will ignore the C and l1_ratio \"\n",
      "/Users/daminisharma/miniconda3/lib/python3.7/site-packages/sklearn/linear_model/_logistic.py:940: ConvergenceWarning: lbfgs failed to converge (status=1):\n",
      "STOP: TOTAL NO. of ITERATIONS REACHED LIMIT.\n",
      "\n",
      "Increase the number of iterations (max_iter) or scale the data as shown in:\n",
      "    https://scikit-learn.org/stable/modules/preprocessing.html\n",
      "Please also refer to the documentation for alternative solver options:\n",
      "    https://scikit-learn.org/stable/modules/linear_model.html#logistic-regression\n",
      "  extra_warning_msg=_LOGISTIC_SOLVER_CONVERGENCE_MSG)\n"
     ]
    },
    {
     "name": "stdout",
     "output_type": "stream",
     "text": [
      "Feature Importance\n"
     ]
    },
    {
     "data": {
      "image/png": "[encoded data removed]",
      "text/plain": [
       "<Figure size 432x288 with 1 Axes>"
      ]
     },
     "metadata": {
      "needs_background": "light"
     },
     "output_type": "display_data"
    },
    {
     "name": "stdout",
     "output_type": "stream",
     "text": [
      "Confusion Matrix\n",
      "LogisticRegression(C=0.01, class_weight=None, dual=False, fit_intercept=True,\n",
      "                   intercept_scaling=1, l1_ratio=None, max_iter=1000,\n",
      "                   multi_class='auto', n_jobs=None, penalty='none',\n",
      "                   random_state=1234, solver='lbfgs', tol=0.0001, verbose=0,\n",
      "                   warm_start=False)\n",
      "[[74609 31467]\n",
      " [22505 26040]]\n",
      "Accuracy:\t0.6509400404860918\n",
      "Precision:\t0.4528144399812197\n",
      "Recall:\t\t0.5364095169430425\n",
      "F1 Score:\t0.49107984762192125\n",
      "\n",
      "{'criterion': ['entropy'], 'max_depth': [10, 30], 'min_samples_split': [100]}\n",
      "Running:  DecisionTreeClassifier(ccp_alpha=0.0, class_weight=None, criterion='gini',\n",
      "                       max_depth=None, max_features=None, max_leaf_nodes=None,\n",
      "                       min_impurity_decrease=0.0, min_impurity_split=None,\n",
      "                       min_samples_leaf=1, min_samples_split=2,\n",
      "                       min_weight_fraction_leaf=0.0, presort='deprecated',\n",
      "                       random_state=1234, splitter='best')\n",
      "{'criterion': 'entropy', 'max_depth': 30, 'min_samples_split': 100}\n",
      "DecisionTreeClassifier(ccp_alpha=0.0, class_weight=None, criterion='entropy',\n",
      "                       max_depth=30, max_features=None, max_leaf_nodes=None,\n",
      "                       min_impurity_decrease=0.0, min_impurity_split=None,\n",
      "                       min_samples_leaf=1, min_samples_split=100,\n",
      "                       min_weight_fraction_leaf=0.0, presort='deprecated',\n",
      "                       random_state=1234, splitter='best')\n",
      "Recidivate_Risk_Level\n",
      "Fitting best model\n",
      "Feature Importance\n"
     ]
    },
    {
     "data": {
      "image/png": "[encoded data removed]",
      "text/plain": [
       "<Figure size 432x288 with 2 Axes>"
      ]
     },
     "metadata": {
      "needs_background": "light"
     },
     "output_type": "display_data"
    },
    {
     "data": {
      "image/png": "[encoded data removed]",
      "text/plain": [
       "<Figure size 432x288 with 1 Axes>"
      ]
     },
     "metadata": {
      "needs_background": "light"
     },
     "output_type": "display_data"
    },
    {
     "data": {
      "image/png": "[encoded data removed]",
      "text/plain": [
       "<Figure size 432x288 with 1 Axes>"
      ]
     },
     "metadata": {
      "needs_background": "light"
     },
     "output_type": "display_data"
    },
    {
     "name": "stdout",
     "output_type": "stream",
     "text": [
      "Confusion Matrix\n",
      "DecisionTreeClassifier(ccp_alpha=0.0, class_weight=None, criterion='entropy',\n",
      "                       max_depth=30, max_features=None, max_leaf_nodes=None,\n",
      "                       min_impurity_decrease=0.0, min_impurity_split=None,\n",
      "                       min_samples_leaf=1, min_samples_split=100,\n",
      "                       min_weight_fraction_leaf=0.0, presort='deprecated',\n",
      "                       random_state=1234, splitter='best')\n",
      "[[79412 26664]\n",
      " [28326 20219]]\n",
      "Accuracy:\t0.6443561999987065\n",
      "Precision:\t0.4312650640957277\n",
      "Recall:\t\t0.4165001544958286\n",
      "F1 Score:\t0.42375403445529614\n",
      "\n",
      "{'criterion': ('gini', 'entropy'), 'n_estimators': (100, 1000, 5000), 'max_depth': (10, 20, 30, None), 'min_samples_split': (5, 50, 100)}\n",
      "Running:  RandomForestClassifier(bootstrap=True, ccp_alpha=0.0, class_weight=None,\n",
      "                       criterion='gini', max_depth=None, max_features='auto',\n",
      "                       max_leaf_nodes=None, max_samples=None,\n",
      "                       min_impurity_decrease=0.0, min_impurity_split=None,\n",
      "                       min_samples_leaf=1, min_samples_split=2,\n",
      "                       min_weight_fraction_leaf=0.0, n_estimators=100,\n",
      "                       n_jobs=None, oob_score=False, random_state=1234,\n",
      "                       verbose=0, warm_start=False)\n"
     ]
    }
   ],
   "source": [
    "results, best_models = classification.run_classifier(train_data,validate_data,test_data,target_type)\n",
    "\n",
    "best_models.to_csv('../results/best_models_'+target_type+'_'+features+'.csv', index=False)\n",
    "results.to_csv('../results/results'+target_type+'_'+features+'.csv', index=False)"
   ]
  },
  {
   "cell_type": "code",
   "execution_count": null,
   "metadata": {},
   "outputs": [],
   "source": [
    "results"
   ]
  },
  {
   "cell_type": "code",
   "execution_count": null,
   "metadata": {},
   "outputs": [],
   "source": [
    "best_models"
   ]
  },
  {
   "cell_type": "code",
   "execution_count": null,
   "metadata": {},
   "outputs": [],
   "source": [
    "# Step 2\n",
    "target_type = \"binary\"\n",
    "features = \"No Demographics\"\n",
    "\n",
    "#print(features)\n",
    "#train_data, test_data, validate_data, active_sentences = build.split_and_process(dataset_1,config,grouping_target)\n",
    "train_data, test_data, validate_data, active_sentences, active_almost_complete = build.split_and_process(dataset_3,config,target_type,features)\n",
    "\n",
    "# Sanity Check\n",
    "print('Train and Test Check:')\n",
    "build.sanity_check(train_data,test_data)\n",
    "\n",
    "print('Train and Validate Check:')\n",
    "build.sanity_check(train_data,validate_data)\n",
    "\n",
    "print('Train and Active Check:')\n",
    "build.sanity_check(train_data,active_sentences)\n",
    "\n",
    "print('Train and Active Almost Complete Check:')\n",
    "build.sanity_check(train_data,active_almost_complete)\n",
    "\n"
   ]
  },
  {
   "cell_type": "code",
   "execution_count": null,
   "metadata": {},
   "outputs": [],
   "source": [
    "validate_data.groupby(target).count()\n"
   ]
  },
  {
   "cell_type": "code",
   "execution_count": null,
   "metadata": {},
   "outputs": [],
   "source": [
    "results, best_models = classification.run_classifier(train_data,validate_data,test_data,target_type)\n",
    "best_models.to_csv('../results/best_models_'+target_type+'_'+features+'.csv', index=False)\n",
    "results.to_csv('../results/results'+target_type+'_'+features+'.csv', index=False)\n"
   ]
  },
  {
   "cell_type": "code",
   "execution_count": null,
   "metadata": {},
   "outputs": [],
   "source": [
    "results"
   ]
  },
  {
   "cell_type": "code",
   "execution_count": null,
   "metadata": {},
   "outputs": [],
   "source": [
    "best_models"
   ]
  },
  {
   "cell_type": "code",
   "execution_count": null,
   "metadata": {},
   "outputs": [],
   "source": [
    "# Step 3\n",
    "target_type = \"three_class\"\n",
    "features = \"Demographics\"\n",
    "\n",
    "#print(features)\n",
    "#train_data, test_data, validate_data, active_sentences = build.split_and_process(dataset_1,config,grouping_target)\n",
    "train_data, test_data, validate_data, active_sentences, active_almost_complete = build.split_and_process(dataset_3,config,target_type,features)\n",
    "\n",
    "# Sanity Check\n",
    "print('Train and Test Check:')\n",
    "build.sanity_check(train_data,test_data)\n",
    "\n",
    "print('Train and Validate Check:')\n",
    "build.sanity_check(train_data,validate_data)\n",
    "\n",
    "print('Train and Active Check:')\n",
    "build.sanity_check(train_data,active_sentences)\n",
    "\n",
    "print('Train and Active Almost Complete Check:')\n",
    "build.sanity_check(train_data,active_almost_complete)"
   ]
  },
  {
   "cell_type": "code",
   "execution_count": null,
   "metadata": {},
   "outputs": [],
   "source": [
    "validate_data.groupby(target).count()\n"
   ]
  },
  {
   "cell_type": "code",
   "execution_count": null,
   "metadata": {},
   "outputs": [],
   "source": [
    "# train_data = train_data.sample(10000)\n",
    "# validate_data = validate_data.sample(5000)\n",
    "# test_data = test_data.sample(3000)"
   ]
  },
  {
   "cell_type": "code",
   "execution_count": null,
   "metadata": {},
   "outputs": [],
   "source": [
    "results, best_models = classification.run_classifier(train_data,validate_data,test_data,target_type)\n",
    "best_models.to_csv('../results/best_models_'+target_type+'_'+features+'.csv', index=False)\n",
    "results.to_csv('../results/results'+target_type+'_'+features+'.csv', index=False)\n"
   ]
  },
  {
   "cell_type": "code",
   "execution_count": null,
   "metadata": {},
   "outputs": [],
   "source": [
    "results"
   ]
  },
  {
   "cell_type": "code",
   "execution_count": null,
   "metadata": {},
   "outputs": [],
   "source": [
    "best_mdodels"
   ]
  },
  {
   "cell_type": "code",
   "execution_count": null,
   "metadata": {},
   "outputs": [],
   "source": [
    "# Step 3\n",
    "target_type = \"three_class\"\n",
    "features = \"No Demographics\"\n",
    "\n",
    "#print(features)\n",
    "#train_data, test_data, validate_data, active_sentences = build.split_and_process(dataset_1,config,grouping_target)\n",
    "train_data, test_data, validate_data, active_sentences, active_almost_complete = build.split_and_process(dataset_3,config,target_type,features)\n",
    "\n",
    "# Sanity Check\n",
    "print('Train and Test Check:')\n",
    "build.sanity_check(train_data,test_data)\n",
    "\n",
    "print('Train and Validate Check:')\n",
    "build.sanity_check(train_data,validate_data)\n",
    "\n",
    "print('Train and Active Check:')\n",
    "build.sanity_check(train_data,active_sentences)\n",
    "\n",
    "print('Train and Active Almost Complete Check:')\n",
    "build.sanity_check(train_data,active_almost_complete)"
   ]
  },
  {
   "cell_type": "code",
   "execution_count": null,
   "metadata": {},
   "outputs": [],
   "source": [
    "validate_data.groupby(target).count()\n"
   ]
  },
  {
   "cell_type": "code",
   "execution_count": null,
   "metadata": {},
   "outputs": [],
   "source": [
    "results, best_models = classification.run_classifier(train_data,validate_data,test_data,target_type)\n",
    "best_models.to_csv('../results/best_models_'+target_type+'_'+features+'.csv', index=False)\n",
    "results.to_csv('../results/results'+target_type+'_'+features+'.csv', index=False)\n"
   ]
  },
  {
   "cell_type": "code",
   "execution_count": null,
   "metadata": {},
   "outputs": [],
   "source": [
    "results"
   ]
  },
  {
   "cell_type": "code",
   "execution_count": null,
   "metadata": {},
   "outputs": [],
   "source": [
    "best_models"
   ]
  },
  {
   "cell_type": "code",
   "execution_count": null,
   "metadata": {},
   "outputs": [],
   "source": [
    "# Step 4\n",
    "target_type = \"all\"\n",
    "features = \"Demographics\"\n",
    "\n",
    "#print(features)\n",
    "#train_data, test_data, validate_data, active_sentences = build.split_and_process(dataset_1,config,grouping_target)\n",
    "train_data, test_data, validate_data, active_sentences, active_almost_complete = build.split_and_process(dataset_3,config,target_type,features)\n",
    "\n",
    "# Sanity Check\n",
    "print('Train and Test Check:')\n",
    "build.sanity_check(train_data,test_data)\n",
    "\n",
    "print('Train and Validate Check:')\n",
    "build.sanity_check(train_data,validate_data)\n",
    "\n",
    "print('Train and Active Check:')\n",
    "build.sanity_check(train_data,active_sentences)\n",
    "\n",
    "print('Train and Active Almost Complete Check:')\n",
    "build.sanity_check(train_data,active_almost_complete)"
   ]
  },
  {
   "cell_type": "code",
   "execution_count": null,
   "metadata": {},
   "outputs": [],
   "source": [
    "validate_data.groupby(target).count()\n"
   ]
  },
  {
   "cell_type": "code",
   "execution_count": null,
   "metadata": {},
   "outputs": [],
   "source": [
    "results, best_models = classification.run_classifier(train_data,validate_data,test_data,target_type)\n",
    "best_models.to_csv('../results/best_models_'+target_type+'_'+features+'.csv', index=False)\n",
    "results.to_csv('../results/results'+target_type+'_'+features+'.csv', index=False)\n"
   ]
  },
  {
   "cell_type": "code",
   "execution_count": null,
   "metadata": {},
   "outputs": [],
   "source": [
    "results"
   ]
  },
  {
   "cell_type": "code",
   "execution_count": null,
   "metadata": {},
   "outputs": [],
   "source": [
    "best_models"
   ]
  },
  {
   "cell_type": "code",
   "execution_count": null,
   "metadata": {},
   "outputs": [],
   "source": [
    "# Step 4\n",
    "target_type = \"all\"\n",
    "features = \"No Demographics\"\n",
    "\n",
    "#print(features)\n",
    "#train_data, test_data, validate_data, active_sentences = build.split_and_process(dataset_1,config,grouping_target)\n",
    "train_data, test_data, validate_data, active_sentences, active_almost_complete = build.split_and_process(dataset_3,config,target_type,features)\n",
    "\n",
    "# Sanity Check\n",
    "print('Train and Test Check:')\n",
    "build.sanity_check(train_data,test_data)\n",
    "\n",
    "print('Train and Validate Check:')\n",
    "build.sanity_check(train_data,validate_data)\n",
    "\n",
    "print('Train and Active Check:')\n",
    "build.sanity_check(train_data,active_sentences)\n",
    "\n",
    "print('Train and Active Almost Complete Check:')\n",
    "build.sanity_check(train_data,active_almost_complete)"
   ]
  },
  {
   "cell_type": "code",
   "execution_count": null,
   "metadata": {},
   "outputs": [],
   "source": [
    "validate_data.groupby(target).count()\n"
   ]
  },
  {
   "cell_type": "code",
   "execution_count": null,
   "metadata": {},
   "outputs": [],
   "source": [
    "results, best_models = classification.run_classifier(train_data,validate_data,test_data,target_type)\n",
    "best_models.to_csv('../results/best_models_'+target_type+'_'+features+'.csv', index=False)\n",
    "results.to_csv('../results/results'+target_type+'_'+features+'.csv', index=False)\n"
   ]
  },
  {
   "cell_type": "code",
   "execution_count": null,
   "metadata": {},
   "outputs": [],
   "source": [
    "results"
   ]
  },
  {
   "cell_type": "code",
   "execution_count": null,
   "metadata": {},
   "outputs": [],
   "source": [
    "best_models"
   ]
  },
  {
   "cell_type": "code",
   "execution_count": null,
   "metadata": {},
   "outputs": [],
   "source": []
  }
 ],
 "metadata": {
  "kernelspec": {
   "display_name": "Python 3",
   "language": "python",
   "name": "python3"
  },
  "language_info": {
   "codemirror_mode": {
    "name": "ipython",
    "version": 3
   },
   "file_extension": ".py",
   "mimetype": "text/x-python",
   "name": "python",
   "nbconvert_exporter": "python",
   "pygments_lexer": "ipython3",
   "version": "3.7.1"
  }
 },
 "nbformat": 4,
 "nbformat_minor": 4
}
