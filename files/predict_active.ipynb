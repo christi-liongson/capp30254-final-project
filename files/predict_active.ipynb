{
 "cells": [
  {
   "cell_type": "code",
   "execution_count": 2,
   "metadata": {},
   "outputs": [],
   "source": [
    "import sqlite3\n",
    "from sqlite3 import Error\n",
    "import os.path\n",
    "from os import path\n",
    "\n",
    "#from create_db import create_connection, create_table, clean_column_names\n",
    "#from populate_db import extract_data, insert_records\n",
    "#import query_db as qd\n",
    "import config\n",
    "import build_dataset as build\n",
    "import pipeline\n",
    "import classification\n",
    "\n",
    "import importlib\n",
    "import datetime\n",
    "import re\n",
    "import numpy as np\n",
    "import pandas as pd\n",
    "\n",
    "from sklearn.preprocessing import StandardScaler\n",
    "from sklearn.preprocessing import PolynomialFeatures\n",
    "from sklearn.linear_model import Ridge\n",
    "from sklearn.model_selection import KFold, cross_val_score, PredefinedSplit\n",
    "from sklearn.pipeline import Pipeline\n",
    "from sklearn.model_selection import GridSearchCV\n",
    "from sklearn.metrics import make_scorer\n",
    "from sklearn.metrics import accuracy_score\n",
    "from sklearn.metrics import accuracy_score\n",
    "from sklearn.metrics import plot_confusion_matrix, classification_report, plot_roc_curve, plot_precision_recall_curve \n",
    "\n",
    "# Decision Tree\n",
    "from sklearn.tree import DecisionTreeClassifier\n",
    "\n",
    "from sklearn.model_selection import ParameterGrid\n",
    "from sklearn.linear_model import LogisticRegression\n",
    "from sklearn.svm import LinearSVC\n",
    "from sklearn.naive_bayes import GaussianNB\n",
    "from sklearn.metrics import accuracy_score, precision_score, recall_score, f1_score\n",
    "from sklearn.model_selection import ParameterGrid\n",
    "from sklearn.tree import DecisionTreeClassifier\n",
    "from sklearn.ensemble import RandomForestClassifier\n",
    "\n",
    "import matplotlib.pyplot as plt\n",
    "import seaborn as sns\n",
    "import numpy as np\n",
    "import re\n",
    "%matplotlib inline"
   ]
  },
  {
   "cell_type": "code",
   "execution_count": 112,
   "metadata": {},
   "outputs": [
    {
     "data": {
      "text/plain": [
       "<module 'classification' from '/Users/charmainerunes/git/covid_decarceration/files/classification.py'>"
      ]
     },
     "execution_count": 112,
     "metadata": {},
     "output_type": "execute_result"
    }
   ],
   "source": [
    "importlib.reload(build)\n",
    "importlib.reload(config)\n",
    "importlib.reload(pipeline)\n",
    "importlib.reload(classification)"
   ]
  },
  {
   "cell_type": "markdown",
   "metadata": {},
   "source": [
    "# Notebook Table of Contents:\n",
    "1. Get and fit the best model\n",
    "3. Import active sentence data\n",
    "2. Predict recidivism levels using active sentences and active (almost complete) sentences\n",
    "4. Store results and graphs"
   ]
  },
  {
   "cell_type": "code",
   "execution_count": 82,
   "metadata": {},
   "outputs": [],
   "source": [
    "# Import best models\n",
    "model = 'DecisionTreeClassifier'\n",
    "best_models = pd.read_csv('../results/1994/best_models_binary_Demographics.csv')"
   ]
  },
  {
   "cell_type": "code",
   "execution_count": 83,
   "metadata": {},
   "outputs": [
    {
     "data": {
      "text/html": [
       "<div>\n",
       "<style scoped>\n",
       "    .dataframe tbody tr th:only-of-type {\n",
       "        vertical-align: middle;\n",
       "    }\n",
       "\n",
       "    .dataframe tbody tr th {\n",
       "        vertical-align: top;\n",
       "    }\n",
       "\n",
       "    .dataframe thead th {\n",
       "        text-align: right;\n",
       "    }\n",
       "</style>\n",
       "<table border=\"1\" class=\"dataframe\">\n",
       "  <thead>\n",
       "    <tr style=\"text-align: right;\">\n",
       "      <th></th>\n",
       "      <th>classifier</th>\n",
       "      <th>test_accuracy</th>\n",
       "      <th>test_precision</th>\n",
       "      <th>test_recall</th>\n",
       "      <th>test_f1</th>\n",
       "    </tr>\n",
       "  </thead>\n",
       "  <tbody>\n",
       "    <tr>\n",
       "      <th>0</th>\n",
       "      <td>LogisticRegression(C=0.01, class_weight=None, ...</td>\n",
       "      <td>0.718347</td>\n",
       "      <td>0.586271</td>\n",
       "      <td>0.255417</td>\n",
       "      <td>0.355817</td>\n",
       "    </tr>\n",
       "    <tr>\n",
       "      <th>1</th>\n",
       "      <td>DecisionTreeClassifier(ccp_alpha=0.0, class_we...</td>\n",
       "      <td>0.699838</td>\n",
       "      <td>0.511788</td>\n",
       "      <td>0.312463</td>\n",
       "      <td>0.388025</td>\n",
       "    </tr>\n",
       "  </tbody>\n",
       "</table>\n",
       "</div>"
      ],
      "text/plain": [
       "                                          classifier  test_accuracy  \\\n",
       "0  LogisticRegression(C=0.01, class_weight=None, ...       0.718347   \n",
       "1  DecisionTreeClassifier(ccp_alpha=0.0, class_we...       0.699838   \n",
       "\n",
       "   test_precision  test_recall   test_f1  \n",
       "0        0.586271     0.255417  0.355817  \n",
       "1        0.511788     0.312463  0.388025  "
      ]
     },
     "execution_count": 83,
     "metadata": {},
     "output_type": "execute_result"
    }
   ],
   "source": [
    "best_models.head()"
   ]
  },
  {
   "cell_type": "code",
   "execution_count": 84,
   "metadata": {},
   "outputs": [
    {
     "name": "stdout",
     "output_type": "stream",
     "text": [
      "Using this model to fit and predict active sentences...\n",
      "\n",
      " DecisionTreeClassifier(ccp_alpha=0.0, class_weight=None, criterion='entropy',\n",
      "                       max_depth=30, max_features=None, max_leaf_nodes=None,\n",
      "                       min_impurity_decrease=0.0, min_impurity_split=None,\n",
      "                       min_samples_leaf=1, min_samples_split=100,\n",
      "                       min_weight_fraction_leaf=0.0, presort='deprecated',\n",
      "                       random_state=1234, splitter='best')\n"
     ]
    }
   ],
   "source": [
    "model_to_predict = best_models[best_models['classifier'].str.contains(classifier)]['classifier'].values[0]\n",
    "print(\"Using this model to fit and predict active sentences...\\n\\n\", model_to_predict)              "
   ]
  },
  {
   "cell_type": "code",
   "execution_count": 85,
   "metadata": {},
   "outputs": [],
   "source": [
    "len('DecisionTreeClassifier(')\n",
    "params_string = model_to_predict[len('DecisionTreeClassifier('):-1]\n",
    "#params_string"
   ]
  },
  {
   "cell_type": "code",
   "execution_count": 86,
   "metadata": {},
   "outputs": [],
   "source": [
    "split_params = params_string.replace('=', ':')\n",
    "split_params = split_params.replace('\\n', '')\n",
    "#split_params"
   ]
  },
  {
   "cell_type": "code",
   "execution_count": 87,
   "metadata": {},
   "outputs": [],
   "source": [
    "clean_split = [param.strip() for param in split_params[1:-1].split(', ')]\n",
    "#clean_split"
   ]
  },
  {
   "cell_type": "code",
   "execution_count": 88,
   "metadata": {},
   "outputs": [],
   "source": [
    "dict_params = {param.split(\":\")[0]: param.split(\":\")[1] for param in clean_split} \n",
    "#dict_params"
   ]
  },
  {
   "cell_type": "code",
   "execution_count": 89,
   "metadata": {},
   "outputs": [
    {
     "data": {
      "text/plain": [
       "{'criterion': 'entropy', 'max_depth': 30, 'min_samples_split': 100}"
      ]
     },
     "execution_count": 89,
     "metadata": {},
     "output_type": "execute_result"
    }
   ],
   "source": [
    "keys = ['criterion', 'max_depth', 'min_samples_split']\n",
    "best_params = {key: dict_params[key] for key in keys}\n",
    "\n",
    "best_params['criterion'] = best_params['criterion'][1:-1]\n",
    "best_params['max_depth'] = int(best_params['max_depth'])\n",
    "best_params['min_samples_split'] = int(best_params['min_samples_split'])\n",
    "\n",
    "best_params"
   ]
  },
  {
   "cell_type": "code",
   "execution_count": 90,
   "metadata": {},
   "outputs": [],
   "source": [
    "# Fit the classifier\n",
    "best_model = DecisionTreeClassifier(criterion=best_params['criterion'], \n",
    "                                    max_depth=best_params['max_depth'],\n",
    "                                    min_samples_split=best_params['min_samples_split'],\n",
    "                                    random_state=config.randomState)"
   ]
  },
  {
   "cell_type": "code",
   "execution_count": 91,
   "metadata": {},
   "outputs": [
    {
     "name": "stderr",
     "output_type": "stream",
     "text": [
      "//anaconda3/lib/python3.7/site-packages/IPython/core/interactiveshell.py:3063: DtypeWarning: Columns (21,22,29,30,32) have mixed types.Specify dtype option on import or set low_memory=False.\n",
      "  interactivity=interactivity, compiler=compiler, result=result)\n"
     ]
    }
   ],
   "source": [
    "# Import data - trimmed to 1994 here\n",
    "dataset_3 = pd.read_csv('../data/dataset_main_active3.csv')"
   ]
  },
  {
   "cell_type": "code",
   "execution_count": 92,
   "metadata": {},
   "outputs": [
    {
     "name": "stdout",
     "output_type": "stream",
     "text": [
      "248\n",
      "Size of active sentences dataset:  31360\n",
      "Dataset size:  527096\n"
     ]
    },
    {
     "name": "stderr",
     "output_type": "stream",
     "text": [
      "//anaconda3/lib/python3.7/site-packages/pandas/core/indexing.py:845: SettingWithCopyWarning: \n",
      "A value is trying to be set on a copy of a slice from a DataFrame.\n",
      "Try using .loc[row_indexer,col_indexer] = value instead\n",
      "\n",
      "See the caveats in the documentation: https://pandas.pydata.org/pandas-docs/stable/user_guide/indexing.html#returning-a-view-versus-a-copy\n",
      "  self.obj[key] = _infer_fill_value(value)\n",
      "//anaconda3/lib/python3.7/site-packages/pandas/core/indexing.py:966: SettingWithCopyWarning: \n",
      "A value is trying to be set on a copy of a slice from a DataFrame.\n",
      "Try using .loc[row_indexer,col_indexer] = value instead\n",
      "\n",
      "See the caveats in the documentation: https://pandas.pydata.org/pandas-docs/stable/user_guide/indexing.html#returning-a-view-versus-a-copy\n",
      "  self.obj[item] = s\n",
      "//anaconda3/lib/python3.7/site-packages/pandas/core/frame.py:3997: SettingWithCopyWarning: \n",
      "A value is trying to be set on a copy of a slice from a DataFrame\n",
      "\n",
      "See the caveats in the documentation: https://pandas.pydata.org/pandas-docs/stable/user_guide/indexing.html#returning-a-view-versus-a-copy\n",
      "  errors=errors,\n",
      "/Users/charmainerunes/git/covid_decarceration/files/build_dataset.py:608: SettingWithCopyWarning: \n",
      "A value is trying to be set on a copy of a slice from a DataFrame.\n",
      "Try using .loc[row_indexer,col_indexer] = value instead\n",
      "\n",
      "See the caveats in the documentation: https://pandas.pydata.org/pandas-docs/stable/user_guide/indexing.html#returning-a-view-versus-a-copy\n",
      "  dataset_no_active[target_label] = dataset_no_active['label']\n"
     ]
    },
    {
     "name": "stdout",
     "output_type": "stream",
     "text": [
      "Total Number of Unique IDs: 304786\n",
      "Total Number of IDs in Test Data: 60957\n",
      "Total Number of IDs in Train Data: 195063\n",
      "Total Number of IDs in Validate Data: 48766\n",
      "Do the IDs add up? True\n",
      "Does Test Represent 20% of the data? False\n",
      "Test Represents X% of the data: 0.19999934380188067\n",
      "Does Train+Validate Represent 80% of the data? False\n",
      "Train+Validate Represents X% of the data: 0.8000006561981193\n",
      "Does Validate Represent 20% of the Train+Validate Data?: 0.20000082024697635\n",
      "Does Train Represent 80% of the Train+Validate Data?: 0.7999991797530236\n"
     ]
    },
    {
     "name": "stderr",
     "output_type": "stream",
     "text": [
      "/Users/charmainerunes/git/covid_decarceration/files/build_dataset.py:693: SettingWithCopyWarning: \n",
      "A value is trying to be set on a copy of a slice from a DataFrame\n",
      "\n",
      "See the caveats in the documentation: https://pandas.pydata.org/pandas-docs/stable/user_guide/indexing.html#returning-a-view-versus-a-copy\n",
      "  age_first_offense.drop_duplicates(inplace=True)\n",
      "/Users/charmainerunes/git/covid_decarceration/files/build_dataset.py:693: SettingWithCopyWarning: \n",
      "A value is trying to be set on a copy of a slice from a DataFrame\n",
      "\n",
      "See the caveats in the documentation: https://pandas.pydata.org/pandas-docs/stable/user_guide/indexing.html#returning-a-view-versus-a-copy\n",
      "  age_first_offense.drop_duplicates(inplace=True)\n",
      "/Users/charmainerunes/git/covid_decarceration/files/build_dataset.py:693: SettingWithCopyWarning: \n",
      "A value is trying to be set on a copy of a slice from a DataFrame\n",
      "\n",
      "See the caveats in the documentation: https://pandas.pydata.org/pandas-docs/stable/user_guide/indexing.html#returning-a-view-versus-a-copy\n",
      "  age_first_offense.drop_duplicates(inplace=True)\n"
     ]
    },
    {
     "name": "stdout",
     "output_type": "stream",
     "text": [
      "Index(['RACE', 'GENDER', 'ETHNICITY', 'CONTROL_STATUS', 'OFFENSE_CLEAN',\n",
      "       'Current_Offense_Risk_Level', 'year_month', 'INFRACTION_PER_SENT',\n",
      "       'misd_count', 'felon_count', 'sentence_count', 'age_at_sentence',\n",
      "       'unemp_rate', 'ID', 'COMMITMENT_PREFIX', 'BIRTH_DATE',\n",
      "       'EARLIEST_SENTENCE_EFFECTIVE_DT', 'END_DATE',\n",
      "       'INMATE_ADMIN_STATUS_CODE', 'NextPrefix', 'Recidivate_Risk_Level',\n",
      "       'age_cat', 'age_first_offense', 'juv_first_offense',\n",
      "       'current_crime_violent'],\n",
      "      dtype='object')\n"
     ]
    },
    {
     "name": "stderr",
     "output_type": "stream",
     "text": [
      "//anaconda3/lib/python3.7/site-packages/pandas/core/frame.py:3997: SettingWithCopyWarning: \n",
      "A value is trying to be set on a copy of a slice from a DataFrame\n",
      "\n",
      "See the caveats in the documentation: https://pandas.pydata.org/pandas-docs/stable/user_guide/indexing.html#returning-a-view-versus-a-copy\n",
      "  errors=errors,\n"
     ]
    },
    {
     "name": "stdout",
     "output_type": "stream",
     "text": [
      "Train and Active Check:\n",
      "Success: Features match\n",
      "Train and Active Almost Complete Check:\n",
      "Success: Features match\n"
     ]
    }
   ],
   "source": [
    "# Final selection\n",
    "target = config.target_vars[0]\n",
    "target_type = \"binary\"\n",
    "features = \"Demographics\"\n",
    "\n",
    "train_data, test_data, validate_data, active_sentences, active_almost_complete = build.split_and_process(dataset_3,\n",
    "                                                                                                         config,\n",
    "                                                                                                         target_type,\n",
    "                                                                                                         features)\n",
    "\n",
    "# Sanity Check\n",
    "print('Train and Active Check:')\n",
    "build.sanity_check(train_data,active_sentences)\n",
    "\n",
    "print('Train and Active Almost Complete Check:')\n",
    "build.sanity_check(train_data,active_almost_complete)"
   ]
  },
  {
   "cell_type": "code",
   "execution_count": 76,
   "metadata": {},
   "outputs": [
    {
     "name": "stdout",
     "output_type": "stream",
     "text": [
      "Running:  DecisionTreeClassifier(ccp_alpha=0.0, class_weight=None, criterion='entropy',\n",
      "                       max_depth=30, max_features=None, max_leaf_nodes=None,\n",
      "                       min_impurity_decrease=0.0, min_impurity_split=None,\n",
      "                       min_samples_leaf=1, min_samples_split=100,\n",
      "                       min_weight_fraction_leaf=0.0, presort='deprecated',\n",
      "                       random_state=1234, splitter='best')\n"
     ]
    }
   ],
   "source": [
    "# Fit and predict for 1994\n",
    "print(\"Running: \", best_model)\n",
    "best_model.fit(train_data.loc[:,train_data.columns!=target], train_data[target])\n",
    "\n",
    "predict_active = best_model.predict(active_sentences.loc[:,active_sentences.columns!=target])\n",
    "predict_almost_complete = best_model.predict(active_almost_complete.loc[:,active_almost_complete.columns!=target])"
   ]
  },
  {
   "cell_type": "code",
   "execution_count": 79,
   "metadata": {},
   "outputs": [
    {
     "data": {
      "text/plain": [
       "0.1564094387755102"
      ]
     },
     "execution_count": 79,
     "metadata": {},
     "output_type": "execute_result"
    }
   ],
   "source": [
    "predict_active.sum() / len (predict_active)"
   ]
  },
  {
   "cell_type": "code",
   "execution_count": 78,
   "metadata": {},
   "outputs": [
    {
     "data": {
      "text/plain": [
       "0.18798882681564247"
      ]
     },
     "execution_count": 78,
     "metadata": {},
     "output_type": "execute_result"
    }
   ],
   "source": [
    "predict_almost_complete.sum() / len(predict_almost_complete)"
   ]
  },
  {
   "cell_type": "code",
   "execution_count": 97,
   "metadata": {},
   "outputs": [
    {
     "name": "stderr",
     "output_type": "stream",
     "text": [
      "//anaconda3/lib/python3.7/site-packages/IPython/core/interactiveshell.py:3063: DtypeWarning: Columns (21,22,29,30,32) have mixed types.Specify dtype option on import or set low_memory=False.\n",
      "  interactivity=interactivity, compiler=compiler, result=result)\n"
     ]
    },
    {
     "name": "stdout",
     "output_type": "stream",
     "text": [
      "248\n",
      "Size of active sentences dataset:  27486\n",
      "Dataset size:  224981\n"
     ]
    },
    {
     "name": "stderr",
     "output_type": "stream",
     "text": [
      "//anaconda3/lib/python3.7/site-packages/pandas/core/indexing.py:845: SettingWithCopyWarning: \n",
      "A value is trying to be set on a copy of a slice from a DataFrame.\n",
      "Try using .loc[row_indexer,col_indexer] = value instead\n",
      "\n",
      "See the caveats in the documentation: https://pandas.pydata.org/pandas-docs/stable/user_guide/indexing.html#returning-a-view-versus-a-copy\n",
      "  self.obj[key] = _infer_fill_value(value)\n",
      "//anaconda3/lib/python3.7/site-packages/pandas/core/indexing.py:966: SettingWithCopyWarning: \n",
      "A value is trying to be set on a copy of a slice from a DataFrame.\n",
      "Try using .loc[row_indexer,col_indexer] = value instead\n",
      "\n",
      "See the caveats in the documentation: https://pandas.pydata.org/pandas-docs/stable/user_guide/indexing.html#returning-a-view-versus-a-copy\n",
      "  self.obj[item] = s\n",
      "//anaconda3/lib/python3.7/site-packages/pandas/core/frame.py:3997: SettingWithCopyWarning: \n",
      "A value is trying to be set on a copy of a slice from a DataFrame\n",
      "\n",
      "See the caveats in the documentation: https://pandas.pydata.org/pandas-docs/stable/user_guide/indexing.html#returning-a-view-versus-a-copy\n",
      "  errors=errors,\n",
      "/Users/charmainerunes/git/covid_decarceration/files/build_dataset.py:608: SettingWithCopyWarning: \n",
      "A value is trying to be set on a copy of a slice from a DataFrame.\n",
      "Try using .loc[row_indexer,col_indexer] = value instead\n",
      "\n",
      "See the caveats in the documentation: https://pandas.pydata.org/pandas-docs/stable/user_guide/indexing.html#returning-a-view-versus-a-copy\n",
      "  dataset_no_active[target_label] = dataset_no_active['label']\n"
     ]
    },
    {
     "name": "stdout",
     "output_type": "stream",
     "text": [
      "Total Number of Unique IDs: 164194\n",
      "Total Number of IDs in Test Data: 32839\n",
      "Total Number of IDs in Train Data: 105084\n",
      "Total Number of IDs in Validate Data: 26271\n",
      "Do the IDs add up? True\n",
      "Does Test Represent 20% of the data? False\n",
      "Test Represents X% of the data: 0.2000012180713059\n",
      "Does Train+Validate Represent 80% of the data? False\n",
      "Train+Validate Represents X% of the data: 0.7999987819286941\n",
      "Does Validate Represent 20% of the Train+Validate Data?: 0.2\n",
      "Does Train Represent 80% of the Train+Validate Data?: 0.8\n"
     ]
    },
    {
     "name": "stderr",
     "output_type": "stream",
     "text": [
      "/Users/charmainerunes/git/covid_decarceration/files/build_dataset.py:693: SettingWithCopyWarning: \n",
      "A value is trying to be set on a copy of a slice from a DataFrame\n",
      "\n",
      "See the caveats in the documentation: https://pandas.pydata.org/pandas-docs/stable/user_guide/indexing.html#returning-a-view-versus-a-copy\n",
      "  age_first_offense.drop_duplicates(inplace=True)\n",
      "/Users/charmainerunes/git/covid_decarceration/files/build_dataset.py:693: SettingWithCopyWarning: \n",
      "A value is trying to be set on a copy of a slice from a DataFrame\n",
      "\n",
      "See the caveats in the documentation: https://pandas.pydata.org/pandas-docs/stable/user_guide/indexing.html#returning-a-view-versus-a-copy\n",
      "  age_first_offense.drop_duplicates(inplace=True)\n",
      "/Users/charmainerunes/git/covid_decarceration/files/build_dataset.py:693: SettingWithCopyWarning: \n",
      "A value is trying to be set on a copy of a slice from a DataFrame\n",
      "\n",
      "See the caveats in the documentation: https://pandas.pydata.org/pandas-docs/stable/user_guide/indexing.html#returning-a-view-versus-a-copy\n",
      "  age_first_offense.drop_duplicates(inplace=True)\n"
     ]
    },
    {
     "name": "stdout",
     "output_type": "stream",
     "text": [
      "Index(['RACE', 'GENDER', 'ETHNICITY', 'CONTROL_STATUS', 'OFFENSE_CLEAN',\n",
      "       'Current_Offense_Risk_Level', 'year_month', 'INFRACTION_PER_SENT',\n",
      "       'misd_count', 'felon_count', 'sentence_count', 'age_at_sentence',\n",
      "       'unemp_rate', 'ID', 'COMMITMENT_PREFIX', 'BIRTH_DATE',\n",
      "       'EARLIEST_SENTENCE_EFFECTIVE_DT', 'END_DATE',\n",
      "       'INMATE_ADMIN_STATUS_CODE', 'NextPrefix', 'Recidivate_Risk_Level',\n",
      "       'age_cat', 'age_first_offense', 'juv_first_offense',\n",
      "       'current_crime_violent'],\n",
      "      dtype='object')\n"
     ]
    },
    {
     "name": "stderr",
     "output_type": "stream",
     "text": [
      "//anaconda3/lib/python3.7/site-packages/pandas/core/frame.py:3997: SettingWithCopyWarning: \n",
      "A value is trying to be set on a copy of a slice from a DataFrame\n",
      "\n",
      "See the caveats in the documentation: https://pandas.pydata.org/pandas-docs/stable/user_guide/indexing.html#returning-a-view-versus-a-copy\n",
      "  errors=errors,\n"
     ]
    },
    {
     "name": "stdout",
     "output_type": "stream",
     "text": [
      "Train and Active Check:\n",
      "Success: Features match\n",
      "Train and Active Almost Complete Check:\n",
      "Success: Features match\n",
      "Running:  DecisionTreeClassifier(ccp_alpha=0.0, class_weight=None, criterion='entropy',\n",
      "                       max_depth=30, max_features=None, max_leaf_nodes=None,\n",
      "                       min_impurity_decrease=0.0, min_impurity_split=None,\n",
      "                       min_samples_leaf=1, min_samples_split=100,\n",
      "                       min_weight_fraction_leaf=0.0, presort='deprecated',\n",
      "                       random_state=1234, splitter='best')\n"
     ]
    }
   ],
   "source": [
    "# Run this for 2008 - make sure to change the value in trim_data()\n",
    "train_data, test_data, validate_data, active_sentences, active_almost_complete = build.split_and_process(dataset_3,\n",
    "                                                                                                         config,\n",
    "                                                                                                         target_type,\n",
    "                                                                                                         features)\n",
    "\n",
    "# Sanity Check\n",
    "print('Train and Active Check:')\n",
    "build.sanity_check(train_data,active_sentences)\n",
    "\n",
    "print('Train and Active Almost Complete Check:')\n",
    "build.sanity_check(train_data,active_almost_complete)\n",
    "\n",
    "print(\"Running: \", best_model)\n",
    "best_model.fit(train_data.loc[:,train_data.columns!=target], train_data[target])\n",
    "\n",
    "predict_active = best_model.predict(active_sentences.loc[:,active_sentences.columns!=target])\n",
    "predict_almost_complete = best_model.predict(active_almost_complete.loc[:,active_almost_complete.columns!=target])"
   ]
  },
  {
   "cell_type": "code",
   "execution_count": 98,
   "metadata": {},
   "outputs": [
    {
     "data": {
      "text/plain": [
       "0.06028523612020665"
      ]
     },
     "execution_count": 98,
     "metadata": {},
     "output_type": "execute_result"
    }
   ],
   "source": [
    "# IGNORE\n",
    "#predict_active.sum() / len (predict_active)"
   ]
  },
  {
   "cell_type": "code",
   "execution_count": 99,
   "metadata": {},
   "outputs": [
    {
     "data": {
      "text/plain": [
       "0.07733107032990347"
      ]
     },
     "execution_count": 99,
     "metadata": {},
     "output_type": "execute_result"
    }
   ],
   "source": [
    "# IGNORE\n",
    "#predict_almost_complete.sum() / len(predict_almost_complete)"
   ]
  },
  {
   "cell_type": "code",
   "execution_count": null,
   "metadata": {},
   "outputs": [
    {
     "name": "stdout",
     "output_type": "stream",
     "text": [
      "248\n",
      "Size of active sentences dataset:  31360\n",
      "Dataset size:  527096\n"
     ]
    },
    {
     "name": "stderr",
     "output_type": "stream",
     "text": [
      "//anaconda3/lib/python3.7/site-packages/pandas/core/indexing.py:845: SettingWithCopyWarning: \n",
      "A value is trying to be set on a copy of a slice from a DataFrame.\n",
      "Try using .loc[row_indexer,col_indexer] = value instead\n",
      "\n",
      "See the caveats in the documentation: https://pandas.pydata.org/pandas-docs/stable/user_guide/indexing.html#returning-a-view-versus-a-copy\n",
      "  self.obj[key] = _infer_fill_value(value)\n",
      "//anaconda3/lib/python3.7/site-packages/pandas/core/indexing.py:966: SettingWithCopyWarning: \n",
      "A value is trying to be set on a copy of a slice from a DataFrame.\n",
      "Try using .loc[row_indexer,col_indexer] = value instead\n",
      "\n",
      "See the caveats in the documentation: https://pandas.pydata.org/pandas-docs/stable/user_guide/indexing.html#returning-a-view-versus-a-copy\n",
      "  self.obj[item] = s\n",
      "//anaconda3/lib/python3.7/site-packages/pandas/core/frame.py:3997: SettingWithCopyWarning: \n",
      "A value is trying to be set on a copy of a slice from a DataFrame\n",
      "\n",
      "See the caveats in the documentation: https://pandas.pydata.org/pandas-docs/stable/user_guide/indexing.html#returning-a-view-versus-a-copy\n",
      "  errors=errors,\n",
      "/Users/charmainerunes/git/covid_decarceration/files/build_dataset.py:608: SettingWithCopyWarning: \n",
      "A value is trying to be set on a copy of a slice from a DataFrame.\n",
      "Try using .loc[row_indexer,col_indexer] = value instead\n",
      "\n",
      "See the caveats in the documentation: https://pandas.pydata.org/pandas-docs/stable/user_guide/indexing.html#returning-a-view-versus-a-copy\n",
      "  dataset_no_active[target_label] = dataset_no_active['label']\n"
     ]
    },
    {
     "name": "stdout",
     "output_type": "stream",
     "text": [
      "Total Number of Unique IDs: 304786\n",
      "Total Number of IDs in Test Data: 60957\n",
      "Total Number of IDs in Train Data: 195063\n",
      "Total Number of IDs in Validate Data: 48766\n",
      "Do the IDs add up? True\n",
      "Does Test Represent 20% of the data? False\n",
      "Test Represents X% of the data: 0.19999934380188067\n",
      "Does Train+Validate Represent 80% of the data? False\n",
      "Train+Validate Represents X% of the data: 0.8000006561981193\n",
      "Does Validate Represent 20% of the Train+Validate Data?: 0.20000082024697635\n",
      "Does Train Represent 80% of the Train+Validate Data?: 0.7999991797530236\n"
     ]
    },
    {
     "name": "stderr",
     "output_type": "stream",
     "text": [
      "/Users/charmainerunes/git/covid_decarceration/files/build_dataset.py:693: SettingWithCopyWarning: \n",
      "A value is trying to be set on a copy of a slice from a DataFrame\n",
      "\n",
      "See the caveats in the documentation: https://pandas.pydata.org/pandas-docs/stable/user_guide/indexing.html#returning-a-view-versus-a-copy\n",
      "  age_first_offense.drop_duplicates(inplace=True)\n",
      "/Users/charmainerunes/git/covid_decarceration/files/pipeline.py:205: SettingWithCopyWarning: \n",
      "A value is trying to be set on a copy of a slice from a DataFrame.\n",
      "Try using .loc[row_indexer,col_indexer] = value instead\n",
      "\n",
      "See the caveats in the documentation: https://pandas.pydata.org/pandas-docs/stable/user_guide/indexing.html#returning-a-view-versus-a-copy\n",
      "  df[col] = df[col].fillna(df[col].mode().values[0])\n",
      "/Users/charmainerunes/git/covid_decarceration/files/pipeline.py:190: SettingWithCopyWarning: \n",
      "A value is trying to be set on a copy of a slice from a DataFrame.\n",
      "Try using .loc[row_indexer,col_indexer] = value instead\n",
      "\n",
      "See the caveats in the documentation: https://pandas.pydata.org/pandas-docs/stable/user_guide/indexing.html#returning-a-view-versus-a-copy\n",
      "  df[col] = df[col].fillna(df[col].median())\n",
      "/Users/charmainerunes/git/covid_decarceration/files/pipeline.py:190: SettingWithCopyWarning: \n",
      "A value is trying to be set on a copy of a slice from a DataFrame.\n",
      "Try using .loc[row_indexer,col_indexer] = value instead\n",
      "\n",
      "See the caveats in the documentation: https://pandas.pydata.org/pandas-docs/stable/user_guide/indexing.html#returning-a-view-versus-a-copy\n",
      "  df[col] = df[col].fillna(df[col].median())\n",
      "/Users/charmainerunes/git/covid_decarceration/files/build_dataset.py:685: SettingWithCopyWarning: \n",
      "A value is trying to be set on a copy of a slice from a DataFrame.\n",
      "Try using .loc[row_indexer,col_indexer] = value instead\n",
      "\n",
      "See the caveats in the documentation: https://pandas.pydata.org/pandas-docs/stable/user_guide/indexing.html#returning-a-view-versus-a-copy\n",
      "  '50-54','55-59','60-64','65 and older',])\n",
      "/Users/charmainerunes/git/covid_decarceration/files/build_dataset.py:693: SettingWithCopyWarning: \n",
      "A value is trying to be set on a copy of a slice from a DataFrame\n",
      "\n",
      "See the caveats in the documentation: https://pandas.pydata.org/pandas-docs/stable/user_guide/indexing.html#returning-a-view-versus-a-copy\n",
      "  age_first_offense.drop_duplicates(inplace=True)\n",
      "/Users/charmainerunes/git/covid_decarceration/files/build_dataset.py:693: SettingWithCopyWarning: \n",
      "A value is trying to be set on a copy of a slice from a DataFrame\n",
      "\n",
      "See the caveats in the documentation: https://pandas.pydata.org/pandas-docs/stable/user_guide/indexing.html#returning-a-view-versus-a-copy\n",
      "  age_first_offense.drop_duplicates(inplace=True)\n",
      "/Users/charmainerunes/git/covid_decarceration/files/build_dataset.py:693: SettingWithCopyWarning: \n",
      "A value is trying to be set on a copy of a slice from a DataFrame\n",
      "\n",
      "See the caveats in the documentation: https://pandas.pydata.org/pandas-docs/stable/user_guide/indexing.html#returning-a-view-versus-a-copy\n",
      "  age_first_offense.drop_duplicates(inplace=True)\n"
     ]
    },
    {
     "name": "stdout",
     "output_type": "stream",
     "text": [
      "Index(['RACE', 'GENDER', 'ETHNICITY', 'CONTROL_STATUS', 'OFFENSE_CLEAN',\n",
      "       'Current_Offense_Risk_Level', 'year_month', 'INFRACTION_PER_SENT',\n",
      "       'misd_count', 'felon_count', 'sentence_count', 'age_at_sentence',\n",
      "       'unemp_rate', 'ID', 'COMMITMENT_PREFIX', 'BIRTH_DATE',\n",
      "       'EARLIEST_SENTENCE_EFFECTIVE_DT', 'END_DATE',\n",
      "       'INMATE_ADMIN_STATUS_CODE', 'NextPrefix', 'Recidivate_Risk_Level',\n",
      "       'age_cat', 'age_first_offense', 'juv_first_offense',\n",
      "       'current_crime_violent'],\n",
      "      dtype='object')\n"
     ]
    }
   ],
   "source": [
    "# Check if function works for 1994\n",
    "classifier = 'DecisionTreeClassifier'\n",
    "results_path = '../results/1994/best_models_binary_Demographics.csv'\n",
    "target = config.target_vars[0]\n",
    "target_type = \"binary\"\n",
    "features = \"Demographics\"\n",
    "year = 1994\n",
    "\n",
    "train_data, test_data, validate_data, active_sentences, active_almost_complete, dataset_no_active_norm = build.split_and_process(dataset_3, config,target_type,features)"
   ]
  },
  {
   "cell_type": "code",
   "execution_count": 111,
   "metadata": {},
   "outputs": [
    {
     "name": "stdout",
     "output_type": "stream",
     "text": [
      "Training... DecisionTreeClassifier(ccp_alpha=0.0, class_weight=None, criterion='entropy',\n",
      "                       max_depth=30, max_features=None, max_leaf_nodes=None,\n",
      "                       min_impurity_decrease=0.0, min_impurity_split=None,\n",
      "                       min_samples_leaf=1, min_samples_split=100,\n",
      "                       min_weight_fraction_leaf=0.0, presort='deprecated',\n",
      "                       random_state=1234, splitter='best')\n",
      "Predicting...\n",
      "Likelihood of recidivism (all active sentences) for 1994 : 0.1564094387755102\n",
      "Likelihood of recidivism (almost complete active sentences) for 1994 : 0.18798882681564247\n"
     ]
    }
   ],
   "source": [
    "active_prob_1994, almost_complete_prob_1994 = classification.predict_using_best(classifier, results_path, dataset_no_active_norm, active_sentences, active_almost_complete, 1994)"
   ]
  },
  {
   "cell_type": "code",
   "execution_count": null,
   "metadata": {},
   "outputs": [],
   "source": []
  }
 ],
 "metadata": {
  "kernelspec": {
   "display_name": "Python 3",
   "language": "python",
   "name": "python3"
  },
  "language_info": {
   "codemirror_mode": {
    "name": "ipython",
    "version": 3
   },
   "file_extension": ".py",
   "mimetype": "text/x-python",
   "name": "python",
   "nbconvert_exporter": "python",
   "pygments_lexer": "ipython3",
   "version": "3.7.3"
  }
 },
 "nbformat": 4,
 "nbformat_minor": 4
}
