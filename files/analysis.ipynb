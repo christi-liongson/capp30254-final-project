{
 "cells": [
  {
   "cell_type": "code",
   "execution_count": 119,
   "metadata": {},
   "outputs": [],
   "source": [
    "import sqlite3\n",
    "from sqlite3 import Error\n",
    "import os.path\n",
    "from os import path\n",
    "\n",
    "from create_db import create_connection, create_table, clean_column_names\n",
    "from populate_db import extract_data, insert_records\n",
    "import query_db as qd\n",
    "import config\n",
    "import build_dataset as build\n",
    "\n",
    "import importlib\n",
    "import datetime\n",
    "import re\n",
    "import numpy as np\n",
    "import pandas as pd\n"
   ]
  },
  {
   "cell_type": "code",
   "execution_count": 120,
   "metadata": {},
   "outputs": [
    {
     "data": {
      "text/plain": [
       "<module 'config' from '/Users/daminisharma/Dropbox/Harris MSCAPP/2019-20_Q3_Spring/Machine Learning/covid_decarceration/files/config.py'>"
      ]
     },
     "execution_count": 120,
     "metadata": {},
     "output_type": "execute_result"
    }
   ],
   "source": [
    "importlib.reload(build)\n",
    "importlib.reload(config)"
   ]
  },
  {
   "cell_type": "code",
   "execution_count": 121,
   "metadata": {},
   "outputs": [
    {
     "name": "stderr",
     "output_type": "stream",
     "text": [
      "/Users/daminisharma/miniconda3/lib/python3.7/site-packages/IPython/core/interactiveshell.py:3063: DtypeWarning: Columns (21,22,29,30,32) have mixed types.Specify dtype option on import or set low_memory=False.\n",
      "  interactivity=interactivity, compiler=compiler, result=result)\n"
     ]
    }
   ],
   "source": [
    "dataset_1 = pd.read_csv('../data/dataset_main_active1.csv')\n",
    "dataset_3 = pd.read_csv('../data/dataset_main_active3.csv')"
   ]
  },
  {
   "cell_type": "code",
   "execution_count": 122,
   "metadata": {},
   "outputs": [],
   "source": [
    "pd.set_option('display.max_columns', None)\n",
    "pd.set_option('display.max_rows', None)"
   ]
  },
  {
   "cell_type": "code",
   "execution_count": 123,
   "metadata": {},
   "outputs": [
    {
     "data": {
      "text/html": [
       "<div>\n",
       "<style scoped>\n",
       "    .dataframe tbody tr th:only-of-type {\n",
       "        vertical-align: middle;\n",
       "    }\n",
       "\n",
       "    .dataframe tbody tr th {\n",
       "        vertical-align: top;\n",
       "    }\n",
       "\n",
       "    .dataframe thead th {\n",
       "        text-align: right;\n",
       "    }\n",
       "</style>\n",
       "<table border=\"1\" class=\"dataframe\">\n",
       "  <thead>\n",
       "    <tr style=\"text-align: right;\">\n",
       "      <th></th>\n",
       "      <th>ID</th>\n",
       "      <th>COMMITMENT_PREFIX</th>\n",
       "      <th>EARLIEST_SENTENCE_EFFECTIVE_DT</th>\n",
       "      <th>MOST_SERIOUS_OFFENSE_CODE</th>\n",
       "      <th>INMATE_COMPUTATION_STATUS_FLAG</th>\n",
       "      <th>END_DATE</th>\n",
       "      <th>PROJ_END_DATE</th>\n",
       "      <th>INMATE_RECORD_STATUS_CODE</th>\n",
       "      <th>INMATE_ADMIN_STATUS_CODE</th>\n",
       "      <th>DATE_OF_LAST_INMATE_MOVEMENT</th>\n",
       "      <th>TYPE_OF_LAST_INMATE_MOVEMENT</th>\n",
       "      <th>CURRENT_COMMITMENT_PREFIX</th>\n",
       "      <th>CONTROL_STATUS</th>\n",
       "      <th>GENDER</th>\n",
       "      <th>RACE</th>\n",
       "      <th>BIRTH_DATE</th>\n",
       "      <th>STATE_BORN</th>\n",
       "      <th>ETHNICITY</th>\n",
       "      <th>CITIZENSHIP</th>\n",
       "      <th>PRIMARY_OFFENSE_CODE</th>\n",
       "      <th>NextPrefix</th>\n",
       "      <th>NextStart</th>\n",
       "      <th>NextOffense</th>\n",
       "      <th>new_col</th>\n",
       "      <th>Time_Diff</th>\n",
       "      <th>Recidivate</th>\n",
       "      <th>INFRACTION_PER_SENT</th>\n",
       "      <th>felon_count</th>\n",
       "      <th>misd_count</th>\n",
       "      <th>Primary offense code_x</th>\n",
       "      <th>Description (if needed)_x</th>\n",
       "      <th>Recidivate_Risk_Level</th>\n",
       "      <th>Needed a check?_x</th>\n",
       "      <th>Recidivate_Risk_Level_Lenient</th>\n",
       "      <th>Recidivate_Risk_Level_Harsh</th>\n",
       "      <th>Primary offense code_y</th>\n",
       "      <th>Description (if needed)_y</th>\n",
       "      <th>Current_Offense_Risk_Level</th>\n",
       "      <th>Needed a check?_y</th>\n",
       "      <th>Current_Offense_Risk_Level_Lenient</th>\n",
       "      <th>Current_Offense_Risk_Level_Harsh</th>\n",
       "    </tr>\n",
       "  </thead>\n",
       "  <tbody>\n",
       "    <tr>\n",
       "      <th>0</th>\n",
       "      <td>4</td>\n",
       "      <td>AA</td>\n",
       "      <td>1983-07-12</td>\n",
       "      <td>SELL SCHEDULE II</td>\n",
       "      <td>EXPIRED</td>\n",
       "      <td>1984-07-11</td>\n",
       "      <td>1984-07-11</td>\n",
       "      <td>INACTIVE</td>\n",
       "      <td>INACTIVE</td>\n",
       "      <td>1984-07-11</td>\n",
       "      <td>TERMINATED PAROLE</td>\n",
       "      <td>NaN</td>\n",
       "      <td>REGULAR POPULATION        RPOP</td>\n",
       "      <td>MALE</td>\n",
       "      <td>WHITE</td>\n",
       "      <td>1961-10-15</td>\n",
       "      <td>ALASKA</td>\n",
       "      <td>UNKNOWN</td>\n",
       "      <td>BORN IN U.S.</td>\n",
       "      <td>SELL SCHEDULE II</td>\n",
       "      <td>NONE</td>\n",
       "      <td>NaN</td>\n",
       "      <td>0</td>\n",
       "      <td>0</td>\n",
       "      <td>NaN</td>\n",
       "      <td>0.0</td>\n",
       "      <td>0.0</td>\n",
       "      <td>2.0</td>\n",
       "      <td>0.0</td>\n",
       "      <td>NaN</td>\n",
       "      <td>NaN</td>\n",
       "      <td>0.0</td>\n",
       "      <td>NaN</td>\n",
       "      <td>0.0</td>\n",
       "      <td>0.0</td>\n",
       "      <td>SELL SCHEDULE II</td>\n",
       "      <td>Selling drugs on Schedule II - high potential ...</td>\n",
       "      <td>3.0</td>\n",
       "      <td>YES</td>\n",
       "      <td>2.0</td>\n",
       "      <td>4.0</td>\n",
       "    </tr>\n",
       "    <tr>\n",
       "      <th>1</th>\n",
       "      <td>6</td>\n",
       "      <td>AA</td>\n",
       "      <td>1973-01-30</td>\n",
       "      <td>WORTHLESS CHECK</td>\n",
       "      <td>EXPIRED</td>\n",
       "      <td>1973-03-28</td>\n",
       "      <td>0001-01-01</td>\n",
       "      <td>INACTIVE</td>\n",
       "      <td>INACTIVE</td>\n",
       "      <td>1975-08-18</td>\n",
       "      <td>TERMINATED PAROLE</td>\n",
       "      <td>NaN</td>\n",
       "      <td>REGULAR POPULATION        RPOP</td>\n",
       "      <td>MALE</td>\n",
       "      <td>WHITE</td>\n",
       "      <td>1951-07-17</td>\n",
       "      <td>NORTH CAROLINA</td>\n",
       "      <td>UNKNOWN</td>\n",
       "      <td>BORN IN U.S.</td>\n",
       "      <td>WORTHLESS CHECK</td>\n",
       "      <td>AB</td>\n",
       "      <td>1973-04-11</td>\n",
       "      <td>WORTHLESS CHECK</td>\n",
       "      <td>1973</td>\n",
       "      <td>0.0</td>\n",
       "      <td>1.0</td>\n",
       "      <td>0.0</td>\n",
       "      <td>0.0</td>\n",
       "      <td>1.0</td>\n",
       "      <td>WORTHLESS CHECK</td>\n",
       "      <td>0</td>\n",
       "      <td>1.0</td>\n",
       "      <td>NO</td>\n",
       "      <td>1.0</td>\n",
       "      <td>1.0</td>\n",
       "      <td>WORTHLESS CHECK</td>\n",
       "      <td>0</td>\n",
       "      <td>1.0</td>\n",
       "      <td>NO</td>\n",
       "      <td>1.0</td>\n",
       "      <td>1.0</td>\n",
       "    </tr>\n",
       "  </tbody>\n",
       "</table>\n",
       "</div>"
      ],
      "text/plain": [
       "   ID COMMITMENT_PREFIX EARLIEST_SENTENCE_EFFECTIVE_DT  \\\n",
       "0   4                AA                     1983-07-12   \n",
       "1   6                AA                     1973-01-30   \n",
       "\n",
       "  MOST_SERIOUS_OFFENSE_CODE INMATE_COMPUTATION_STATUS_FLAG    END_DATE  \\\n",
       "0          SELL SCHEDULE II                        EXPIRED  1984-07-11   \n",
       "1           WORTHLESS CHECK                        EXPIRED  1973-03-28   \n",
       "\n",
       "  PROJ_END_DATE INMATE_RECORD_STATUS_CODE INMATE_ADMIN_STATUS_CODE  \\\n",
       "0    1984-07-11                  INACTIVE                 INACTIVE   \n",
       "1    0001-01-01                  INACTIVE                 INACTIVE   \n",
       "\n",
       "  DATE_OF_LAST_INMATE_MOVEMENT TYPE_OF_LAST_INMATE_MOVEMENT  \\\n",
       "0                   1984-07-11            TERMINATED PAROLE   \n",
       "1                   1975-08-18            TERMINATED PAROLE   \n",
       "\n",
       "  CURRENT_COMMITMENT_PREFIX                  CONTROL_STATUS GENDER   RACE  \\\n",
       "0                       NaN  REGULAR POPULATION        RPOP   MALE  WHITE   \n",
       "1                       NaN  REGULAR POPULATION        RPOP   MALE  WHITE   \n",
       "\n",
       "   BIRTH_DATE      STATE_BORN ETHNICITY   CITIZENSHIP PRIMARY_OFFENSE_CODE  \\\n",
       "0  1961-10-15          ALASKA   UNKNOWN  BORN IN U.S.     SELL SCHEDULE II   \n",
       "1  1951-07-17  NORTH CAROLINA   UNKNOWN  BORN IN U.S.      WORTHLESS CHECK   \n",
       "\n",
       "  NextPrefix   NextStart      NextOffense  new_col  Time_Diff  Recidivate  \\\n",
       "0       NONE         NaN                0        0        NaN         0.0   \n",
       "1         AB  1973-04-11  WORTHLESS CHECK     1973        0.0         1.0   \n",
       "\n",
       "   INFRACTION_PER_SENT  felon_count  misd_count Primary offense code_x  \\\n",
       "0                  0.0          2.0         0.0                    NaN   \n",
       "1                  0.0          0.0         1.0        WORTHLESS CHECK   \n",
       "\n",
       "  Description (if needed)_x  Recidivate_Risk_Level Needed a check?_x  \\\n",
       "0                       NaN                    0.0               NaN   \n",
       "1                         0                    1.0                NO   \n",
       "\n",
       "   Recidivate_Risk_Level_Lenient  Recidivate_Risk_Level_Harsh  \\\n",
       "0                            0.0                          0.0   \n",
       "1                            1.0                          1.0   \n",
       "\n",
       "  Primary offense code_y                          Description (if needed)_y  \\\n",
       "0       SELL SCHEDULE II  Selling drugs on Schedule II - high potential ...   \n",
       "1        WORTHLESS CHECK                                                  0   \n",
       "\n",
       "   Current_Offense_Risk_Level Needed a check?_y  \\\n",
       "0                         3.0               YES   \n",
       "1                         1.0                NO   \n",
       "\n",
       "   Current_Offense_Risk_Level_Lenient  Current_Offense_Risk_Level_Harsh  \n",
       "0                                 2.0                               4.0  \n",
       "1                                 1.0                               1.0  "
      ]
     },
     "execution_count": 123,
     "metadata": {},
     "output_type": "execute_result"
    }
   ],
   "source": [
    "dataset_1.head(2)"
   ]
  },
  {
   "cell_type": "code",
   "execution_count": 124,
   "metadata": {},
   "outputs": [
    {
     "name": "stdout",
     "output_type": "stream",
     "text": [
      "249\n",
      "Size of active sentences dataset:  32711\n",
      "Dataset size:  778681\n",
      "Total Number of Unique IDs: 419118\n",
      "Total Number of IDs in Test Data: 83824\n",
      "Total Number of IDs in Train Data: 268235\n",
      "Total Number of IDs in Validate Data: 67059\n",
      "Do the IDs add up? True\n",
      "Does Test Represent 20% of the data? False\n",
      "Test Represents X% of the data: 0.20000095438516122\n",
      "Does Train+Validate Represent 80% of the data? False\n",
      "Train+Validate Represents X% of the data: 0.7999990456148388\n",
      "Does Validate Represent 20% of the Train+Validate Data?: 0.20000059649143737\n",
      "Does Train Represent 80% of the Train+Validate Data?: 0.7999994035085627\n"
     ]
    },
    {
     "name": "stderr",
     "output_type": "stream",
     "text": [
      "/Users/daminisharma/Dropbox/Harris MSCAPP/2019-20_Q3_Spring/Machine Learning/covid_decarceration/files/build_dataset.py:656: SettingWithCopyWarning: \n",
      "A value is trying to be set on a copy of a slice from a DataFrame\n",
      "\n",
      "See the caveats in the documentation: https://pandas.pydata.org/pandas-docs/stable/user_guide/indexing.html#returning-a-view-versus-a-copy\n",
      "  df['age_first_offense'] = (df['first_incarceration_date'] - df['BIRTH_DATE']).astype('<m8[Y]')\n"
     ]
    },
    {
     "name": "stdout",
     "output_type": "stream",
     "text": [
      "Index(['Recidivate_Risk_Level', 'RACE', 'GENDER', 'ETHNICITY',\n",
      "       'CONTROL_STATUS', 'OFFENSE_CLEAN', 'Current_Offense_Risk_Level',\n",
      "       'year_month', 'INFRACTION_PER_SENT', 'misd_count', 'felon_count',\n",
      "       'sentence_count', 'age_at_sentence', 'unemp_rate', 'ID',\n",
      "       'COMMITMENT_PREFIX', 'BIRTH_DATE', 'EARLIEST_SENTENCE_EFFECTIVE_DT',\n",
      "       'INMATE_ADMIN_STATUS_CODE', 'NextPrefix', 'age_cat',\n",
      "       'first_incarceration_date', 'age_first_offense', 'juv_first_offense',\n",
      "       'current_crime_violent'],\n",
      "      dtype='object')\n"
     ]
    }
   ],
   "source": [
    "train_data, test_data, validate_data, active_sentences = build.split_and_process(dataset_1,config)\n"
   ]
  },
  {
   "cell_type": "code",
   "execution_count": 125,
   "metadata": {},
   "outputs": [
    {
     "name": "stdout",
     "output_type": "stream",
     "text": [
      "Train and Test Check:\n",
      "Success: Features match\n",
      "Success: No NAs remain\n",
      "Train and Validate Check:\n",
      "Success: Features match\n",
      "Success: No NAs remain\n",
      "Train and Active Check:\n",
      "Success: Features match\n"
     ]
    }
   ],
   "source": [
    "# Sanity Check\n",
    "print('Train and Test Check:')\n",
    "build.sanity_check(train_data,test_data)\n",
    "\n",
    "print('Train and Validate Check:')\n",
    "build.sanity_check(train_data,validate_data)\n",
    "\n",
    "print('Train and Active Check:')\n",
    "build.sanity_check(train_data,active_sentences)\n",
    "\n"
   ]
  },
  {
   "cell_type": "markdown",
   "metadata": {},
   "source": [
    "# Analysis"
   ]
  }
 ],
 "metadata": {
  "kernelspec": {
   "display_name": "Python 3",
   "language": "python",
   "name": "python3"
  },
  "language_info": {
   "codemirror_mode": {
    "name": "ipython",
    "version": 3
   },
   "file_extension": ".py",
   "mimetype": "text/x-python",
   "name": "python",
   "nbconvert_exporter": "python",
   "pygments_lexer": "ipython3",
   "version": "3.7.1"
  }
 },
 "nbformat": 4,
 "nbformat_minor": 4
}
