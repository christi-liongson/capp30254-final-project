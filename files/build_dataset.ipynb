{
 "cells": [
  {
   "cell_type": "code",
   "execution_count": 1,
   "metadata": {},
   "outputs": [],
   "source": [
    "import sqlite3\n",
    "from sqlite3 import Error\n",
    "import pandas as pd\n",
    "import config\n",
    "import os.path\n",
    "from os import path\n",
    "\n",
    "from create_db import create_connection, create_table, clean_column_names\n",
    "from populate_db import extract_data, insert_records\n",
    "import query_db as qd\n",
    "\n",
    "import importlib"
   ]
  },
  {
   "cell_type": "code",
   "execution_count": 2,
   "metadata": {},
   "outputs": [
    {
     "data": {
      "text/plain": [
       "<module 'query_db' from '/Users/daminisharma/Dropbox/Harris MSCAPP/2019-20_Q3_Spring/Machine Learning/covid_decarceration/files/query_db.py'>"
      ]
     },
     "execution_count": 2,
     "metadata": {},
     "output_type": "execute_result"
    }
   ],
   "source": [
    "importlib.reload(qd)"
   ]
  },
  {
   "cell_type": "code",
   "execution_count": 33,
   "metadata": {},
   "outputs": [],
   "source": [
    "import datetime"
   ]
  },
  {
   "cell_type": "code",
   "execution_count": 72,
   "metadata": {},
   "outputs": [],
   "source": [
    "pd.set_option('display.max_columns', None)\n",
    "pd.set_option('display.max_rows', None)"
   ]
  },
  {
   "cell_type": "code",
   "execution_count": 93,
   "metadata": {},
   "outputs": [
    {
     "name": "stdout",
     "output_type": "stream",
     "text": [
      "Time Elapsed: 0:00:38.636970\n"
     ]
    }
   ],
   "source": [
    "start = datetime.datetime.now()\n",
    "query_court_commitment = '''\n",
    "                        SELECT A.OFFENDER_NC_DOC_ID_NUMBER as ID, \n",
    "                                A.COMMITMENT_PREFIX, \n",
    "                                A.EARLIEST_SENTENCE_EFFECTIVE_DT, \n",
    "                                A.MOST_SERIOUS_OFFENSE_CODE                              \n",
    "                        FROM OFNT3BB1 A\n",
    "                        WHERE NEW_PERIOD_OF_INCARCERATION_FL = \"Y\";\n",
    "                        '''\n",
    "\n",
    "conn = create_connection(config.database_name)\n",
    "court_small = qd.query_db_notebook(conn,query_court_commitment)\n",
    "\n",
    "\n",
    "query_sentence_comp = '''\n",
    "                            SELECT INMATE_DOC_NUMBER as ID, INMATE_COMMITMENT_PREFIX as COMMITMENT_PREFIX, INMATE_COMPUTATION_STATUS_FLAG, max(ACTUAL_SENTENCE_END_DATE) as END_DATE\n",
    "                            FROM INMT4BB1\n",
    "                            GROUP BY INMATE_DOC_NUMBER, INMATE_COMMITMENT_PREFIX;\n",
    "                        '''\n",
    "\n",
    "sentence_compute_small = qd.query_db_notebook(conn,query_sentence_comp)\n",
    "\n",
    "conn.close\n",
    "\n",
    "data = court_small.merge(sentence_compute_small, on=['ID','COMMITMENT_PREFIX'], how='outer')\n",
    "\n",
    "stop = datetime.datetime.now()\n",
    "print(\"Time Elapsed:\", stop - start) \n"
   ]
  },
  {
   "cell_type": "code",
   "execution_count": 67,
   "metadata": {},
   "outputs": [
    {
     "data": {
      "text/plain": [
       "(903181, 5)"
      ]
     },
     "execution_count": 67,
     "metadata": {},
     "output_type": "execute_result"
    }
   ],
   "source": [
    "data.shape"
   ]
  },
  {
   "cell_type": "code",
   "execution_count": 95,
   "metadata": {},
   "outputs": [
    {
     "data": {
      "text/html": [
       "<div>\n",
       "<style scoped>\n",
       "    .dataframe tbody tr th:only-of-type {\n",
       "        vertical-align: middle;\n",
       "    }\n",
       "\n",
       "    .dataframe tbody tr th {\n",
       "        vertical-align: top;\n",
       "    }\n",
       "\n",
       "    .dataframe thead th {\n",
       "        text-align: right;\n",
       "    }\n",
       "</style>\n",
       "<table border=\"1\" class=\"dataframe\">\n",
       "  <thead>\n",
       "    <tr style=\"text-align: right;\">\n",
       "      <th></th>\n",
       "      <th>ID</th>\n",
       "      <th>COMMITMENT_PREFIX</th>\n",
       "      <th>EARLIEST_SENTENCE_EFFECTIVE_DT</th>\n",
       "      <th>MOST_SERIOUS_OFFENSE_CODE</th>\n",
       "      <th>END_DATE</th>\n",
       "    </tr>\n",
       "    <tr>\n",
       "      <th>INMATE_COMPUTATION_STATUS_FLAG</th>\n",
       "      <th></th>\n",
       "      <th></th>\n",
       "      <th></th>\n",
       "      <th></th>\n",
       "      <th></th>\n",
       "    </tr>\n",
       "  </thead>\n",
       "  <tbody>\n",
       "    <tr>\n",
       "      <th>ACTIVE</th>\n",
       "      <td>27039</td>\n",
       "      <td>27039</td>\n",
       "      <td>27009</td>\n",
       "      <td>27009</td>\n",
       "      <td>27039</td>\n",
       "    </tr>\n",
       "    <tr>\n",
       "      <th>EAR.TERM</th>\n",
       "      <td>2970</td>\n",
       "      <td>2970</td>\n",
       "      <td>2897</td>\n",
       "      <td>2896</td>\n",
       "      <td>2970</td>\n",
       "    </tr>\n",
       "    <tr>\n",
       "      <th>EXPIRED</th>\n",
       "      <td>853716</td>\n",
       "      <td>853716</td>\n",
       "      <td>853022</td>\n",
       "      <td>530070</td>\n",
       "      <td>853716</td>\n",
       "    </tr>\n",
       "    <tr>\n",
       "      <th>FUTURE</th>\n",
       "      <td>6184</td>\n",
       "      <td>6184</td>\n",
       "      <td>6164</td>\n",
       "      <td>6164</td>\n",
       "      <td>6184</td>\n",
       "    </tr>\n",
       "    <tr>\n",
       "      <th>PAROLED</th>\n",
       "      <td>198</td>\n",
       "      <td>198</td>\n",
       "      <td>197</td>\n",
       "      <td>197</td>\n",
       "      <td>198</td>\n",
       "    </tr>\n",
       "    <tr>\n",
       "      <th>POST REL</th>\n",
       "      <td>11797</td>\n",
       "      <td>11797</td>\n",
       "      <td>11777</td>\n",
       "      <td>11777</td>\n",
       "      <td>11797</td>\n",
       "    </tr>\n",
       "    <tr>\n",
       "      <th>UNKNOWN</th>\n",
       "      <td>15</td>\n",
       "      <td>15</td>\n",
       "      <td>15</td>\n",
       "      <td>15</td>\n",
       "      <td>15</td>\n",
       "    </tr>\n",
       "  </tbody>\n",
       "</table>\n",
       "</div>"
      ],
      "text/plain": [
       "                                    ID  COMMITMENT_PREFIX  \\\n",
       "INMATE_COMPUTATION_STATUS_FLAG                              \n",
       "ACTIVE                           27039              27039   \n",
       "EAR.TERM                          2970               2970   \n",
       "EXPIRED                         853716             853716   \n",
       "FUTURE                            6184               6184   \n",
       "PAROLED                            198                198   \n",
       "POST REL                         11797              11797   \n",
       "UNKNOWN                             15                 15   \n",
       "\n",
       "                                EARLIEST_SENTENCE_EFFECTIVE_DT  \\\n",
       "INMATE_COMPUTATION_STATUS_FLAG                                   \n",
       "ACTIVE                                                   27009   \n",
       "EAR.TERM                                                  2897   \n",
       "EXPIRED                                                 853022   \n",
       "FUTURE                                                    6164   \n",
       "PAROLED                                                    197   \n",
       "POST REL                                                 11777   \n",
       "UNKNOWN                                                     15   \n",
       "\n",
       "                                MOST_SERIOUS_OFFENSE_CODE  END_DATE  \n",
       "INMATE_COMPUTATION_STATUS_FLAG                                       \n",
       "ACTIVE                                              27009     27039  \n",
       "EAR.TERM                                             2896      2970  \n",
       "EXPIRED                                            530070    853716  \n",
       "FUTURE                                               6164      6184  \n",
       "PAROLED                                               197       198  \n",
       "POST REL                                            11777     11797  \n",
       "UNKNOWN                                                15        15  "
      ]
     },
     "execution_count": 95,
     "metadata": {},
     "output_type": "execute_result"
    }
   ],
   "source": [
    "data.groupby('INMATE_COMPUTATION_STATUS_FLAG').count()"
   ]
  },
  {
   "cell_type": "code",
   "execution_count": 83,
   "metadata": {},
   "outputs": [
    {
     "data": {
      "text/plain": [
       "324308"
      ]
     },
     "execution_count": 83,
     "metadata": {},
     "output_type": "execute_result"
    }
   ],
   "source": [
    "# Missing most serious offense code  - 324,308 - about a third of the data :(\n",
    "data['MOST_SERIOUS_OFFENSE_CODE'].isnull().sum()"
   ]
  },
  {
   "cell_type": "code",
   "execution_count": 96,
   "metadata": {},
   "outputs": [
    {
     "data": {
      "text/html": [
       "<div>\n",
       "<style scoped>\n",
       "    .dataframe tbody tr th:only-of-type {\n",
       "        vertical-align: middle;\n",
       "    }\n",
       "\n",
       "    .dataframe tbody tr th {\n",
       "        vertical-align: top;\n",
       "    }\n",
       "\n",
       "    .dataframe thead th {\n",
       "        text-align: right;\n",
       "    }\n",
       "</style>\n",
       "<table border=\"1\" class=\"dataframe\">\n",
       "  <thead>\n",
       "    <tr style=\"text-align: right;\">\n",
       "      <th></th>\n",
       "      <th>ID</th>\n",
       "      <th>COMMITMENT_PREFIX</th>\n",
       "      <th>EARLIEST_SENTENCE_EFFECTIVE_DT</th>\n",
       "      <th>MOST_SERIOUS_OFFENSE_CODE</th>\n",
       "      <th>INMATE_COMPUTATION_STATUS_FLAG</th>\n",
       "      <th>END_DATE</th>\n",
       "    </tr>\n",
       "  </thead>\n",
       "  <tbody>\n",
       "    <tr>\n",
       "      <th>114</th>\n",
       "      <td>0000156</td>\n",
       "      <td>02</td>\n",
       "      <td>1995-03-15</td>\n",
       "      <td>RIOT &amp; CIVIL DISORDERS</td>\n",
       "      <td>NaN</td>\n",
       "      <td>NaN</td>\n",
       "    </tr>\n",
       "    <tr>\n",
       "      <th>287</th>\n",
       "      <td>0000327</td>\n",
       "      <td>BA</td>\n",
       "      <td>1991-05-30</td>\n",
       "      <td>None</td>\n",
       "      <td>NaN</td>\n",
       "      <td>NaN</td>\n",
       "    </tr>\n",
       "    <tr>\n",
       "      <th>2867</th>\n",
       "      <td>0002686</td>\n",
       "      <td>BA</td>\n",
       "      <td>1993-12-06</td>\n",
       "      <td>MISD B&amp;E</td>\n",
       "      <td>NaN</td>\n",
       "      <td>NaN</td>\n",
       "    </tr>\n",
       "    <tr>\n",
       "      <th>3418</th>\n",
       "      <td>0003172</td>\n",
       "      <td>BA</td>\n",
       "      <td>1989-03-06</td>\n",
       "      <td>None</td>\n",
       "      <td>NaN</td>\n",
       "      <td>NaN</td>\n",
       "    </tr>\n",
       "    <tr>\n",
       "      <th>4167</th>\n",
       "      <td>0003770</td>\n",
       "      <td>BA</td>\n",
       "      <td>1995-03-25</td>\n",
       "      <td>LARCENY OF MOTOR VEHICLE</td>\n",
       "      <td>NaN</td>\n",
       "      <td>NaN</td>\n",
       "    </tr>\n",
       "  </tbody>\n",
       "</table>\n",
       "</div>"
      ],
      "text/plain": [
       "           ID COMMITMENT_PREFIX EARLIEST_SENTENCE_EFFECTIVE_DT  \\\n",
       "114   0000156                02                     1995-03-15   \n",
       "287   0000327                BA                     1991-05-30   \n",
       "2867  0002686                BA                     1993-12-06   \n",
       "3418  0003172                BA                     1989-03-06   \n",
       "4167  0003770                BA                     1995-03-25   \n",
       "\n",
       "     MOST_SERIOUS_OFFENSE_CODE INMATE_COMPUTATION_STATUS_FLAG END_DATE  \n",
       "114     RIOT & CIVIL DISORDERS                            NaN      NaN  \n",
       "287                       None                            NaN      NaN  \n",
       "2867                  MISD B&E                            NaN      NaN  \n",
       "3418                      None                            NaN      NaN  \n",
       "4167  LARCENY OF MOTOR VEHICLE                            NaN      NaN  "
      ]
     },
     "execution_count": 96,
     "metadata": {},
     "output_type": "execute_result"
    }
   ],
   "source": [
    "# data in court commitment but not sentence computation - ~ 1,200\n",
    "# I spot checked some of these and they are  ACTIVE sentences, whereas others just seem to be weird data quirks..\n",
    "data[data['END_DATE'].isnull()].head()"
   ]
  },
  {
   "cell_type": "code",
   "execution_count": 97,
   "metadata": {},
   "outputs": [
    {
     "data": {
      "text/html": [
       "<div>\n",
       "<style scoped>\n",
       "    .dataframe tbody tr th:only-of-type {\n",
       "        vertical-align: middle;\n",
       "    }\n",
       "\n",
       "    .dataframe tbody tr th {\n",
       "        vertical-align: top;\n",
       "    }\n",
       "\n",
       "    .dataframe thead th {\n",
       "        text-align: right;\n",
       "    }\n",
       "</style>\n",
       "<table border=\"1\" class=\"dataframe\">\n",
       "  <thead>\n",
       "    <tr style=\"text-align: right;\">\n",
       "      <th></th>\n",
       "      <th>ID</th>\n",
       "      <th>COMMITMENT_PREFIX</th>\n",
       "      <th>EARLIEST_SENTENCE_EFFECTIVE_DT</th>\n",
       "      <th>MOST_SERIOUS_OFFENSE_CODE</th>\n",
       "      <th>INMATE_COMPUTATION_STATUS_FLAG</th>\n",
       "      <th>END_DATE</th>\n",
       "    </tr>\n",
       "  </thead>\n",
       "  <tbody>\n",
       "    <tr>\n",
       "      <th>902343</th>\n",
       "      <td>0001133</td>\n",
       "      <td>BA</td>\n",
       "      <td>NaN</td>\n",
       "      <td>NaN</td>\n",
       "      <td>EXPIRED</td>\n",
       "      <td>1996-06-23</td>\n",
       "    </tr>\n",
       "    <tr>\n",
       "      <th>902344</th>\n",
       "      <td>0001166</td>\n",
       "      <td>AI</td>\n",
       "      <td>NaN</td>\n",
       "      <td>NaN</td>\n",
       "      <td>EXPIRED</td>\n",
       "      <td>1990-07-06</td>\n",
       "    </tr>\n",
       "    <tr>\n",
       "      <th>902345</th>\n",
       "      <td>0001407</td>\n",
       "      <td>BE</td>\n",
       "      <td>NaN</td>\n",
       "      <td>NaN</td>\n",
       "      <td>EXPIRED</td>\n",
       "      <td>2011-07-29</td>\n",
       "    </tr>\n",
       "    <tr>\n",
       "      <th>902346</th>\n",
       "      <td>0001640</td>\n",
       "      <td>BA</td>\n",
       "      <td>NaN</td>\n",
       "      <td>NaN</td>\n",
       "      <td>EXPIRED</td>\n",
       "      <td>1998-03-25</td>\n",
       "    </tr>\n",
       "    <tr>\n",
       "      <th>902347</th>\n",
       "      <td>0005195</td>\n",
       "      <td>BF</td>\n",
       "      <td>NaN</td>\n",
       "      <td>NaN</td>\n",
       "      <td>EXPIRED</td>\n",
       "      <td>2006-04-06</td>\n",
       "    </tr>\n",
       "  </tbody>\n",
       "</table>\n",
       "</div>"
      ],
      "text/plain": [
       "             ID COMMITMENT_PREFIX EARLIEST_SENTENCE_EFFECTIVE_DT  \\\n",
       "902343  0001133                BA                            NaN   \n",
       "902344  0001166                AI                            NaN   \n",
       "902345  0001407                BE                            NaN   \n",
       "902346  0001640                BA                            NaN   \n",
       "902347  0005195                BF                            NaN   \n",
       "\n",
       "       MOST_SERIOUS_OFFENSE_CODE INMATE_COMPUTATION_STATUS_FLAG    END_DATE  \n",
       "902343                       NaN                        EXPIRED  1996-06-23  \n",
       "902344                       NaN                        EXPIRED  1990-07-06  \n",
       "902345                       NaN                        EXPIRED  2011-07-29  \n",
       "902346                       NaN                        EXPIRED  1998-03-25  \n",
       "902347                       NaN                        EXPIRED  2006-04-06  "
      ]
     },
     "execution_count": 97,
     "metadata": {},
     "output_type": "execute_result"
    }
   ],
   "source": [
    "data[data['EARLIEST_SENTENCE_EFFECTIVE_DT'].isnull()].head()\n",
    "# 838 observations that appear in sentence computation but not in court commitment\n",
    "# i looked up a few of them and it seemed like their full record was unavailable? might be some very recent cases with a\n",
    "# bit of a time lag. since there are only ~1000 in a dataset of 1 million, i'm not too worried about dropping these"
   ]
  },
  {
   "cell_type": "code",
   "execution_count": 38,
   "metadata": {},
   "outputs": [],
   "source": [
    "# query_court_commitment = '''\n",
    "#                         SELECT NEW_PERIOD_OF_INCARCERATION_FL, COUNT(NEW_PERIOD_OF_INCARCERATION_FL)\n",
    "#                         FROM OFNT3BB1\n",
    "#                         GROUP BY NEW_PERIOD_OF_INCARCERATION_FL;\n",
    "#                         '''"
   ]
  },
  {
   "cell_type": "code",
   "execution_count": 90,
   "metadata": {},
   "outputs": [],
   "source": [
    "# query_sentence_computation = '''\n",
    "#                             SELECT INMATE_DOC_NUMBER as ID, INMATE_COMMITMENT_PREFIX as COMMITMENT_PREFIX, INMATE_SENTENCE_COMPONENT, ACTUAL_SENTENCE_END_DATE\n",
    "#                             FROM INMT4BB1\n",
    "#                             WHERE INMATE_DOC_NUMBER = '0002686';\n",
    "#                             '''\n",
    "\n",
    "# query_sentence_computation = '''\n",
    "#                             SELECT *\n",
    "#                             FROM INMT4BB1\n",
    "#                             WHERE INMATE_COMPUTATION_STATUS_FLAG = \"ACTIVE\"\n",
    "#                             LIMIT 1000;\n",
    "#                             '''\n",
    "\n",
    "\n",
    "# query_sentence_computation = '''\n",
    "#                             SELECT INMATE_COMPUTATION_STATUS_FLAG, COUNT(INMATE_COMPUTATION_STATUS_FLAG) \n",
    "#                             FROM INMT4BB1\n",
    "#                             GROUP BY INMATE_COMPUTATION_STATUS_FLAG;\n",
    "#                             '''\n",
    "\n"
   ]
  },
  {
   "cell_type": "code",
   "execution_count": 91,
   "metadata": {},
   "outputs": [
    {
     "data": {
      "text/plain": [
       "<function Connection.close>"
      ]
     },
     "execution_count": 91,
     "metadata": {},
     "output_type": "execute_result"
    }
   ],
   "source": [
    "# conn = create_connection(config.database_name)\n",
    "# sentence_computation2 = qd.query_db_notebook(conn,query_sentence_computation)\n",
    "# conn.close"
   ]
  },
  {
   "cell_type": "code",
   "execution_count": 28,
   "metadata": {},
   "outputs": [],
   "source": [
    "# # Working query, but takes a LONG time to run. much quick to query data separately then join\n",
    "# query_court_commitment = '''\n",
    "#                         SELECT A.OFFENDER_NC_DOC_ID_NUMBER as ID, \n",
    "#                                 A.COMMITMENT_PREFIX, \n",
    "#                                 A.EARLIEST_SENTENCE_EFFECTIVE_DT, \n",
    "#                                 A.MOST_SERIOUS_OFFENSE_CODE, \n",
    "#                                 (SELECT max(ACTUAL_SENTENCE_END_DATE)\n",
    "#                                     FROM INMT4BB1 B                                    \n",
    "#                                     WHERE A.OFFENDER_NC_DOC_ID_NUMBER = B.INMATE_DOC_NUMBER\n",
    "#                                     AND A.COMMITMENT_PREFIX = B.INMATE_COMMITMENT_PREFIX\n",
    "#                                     GROUP BY INMATE_DOC_NUMBER, INMATE_COMMITMENT_PREFIX) as END_DATE                                \n",
    "#                         FROM OFNT3BB1 A\n",
    "#                         WHERE NEW_PERIOD_OF_INCARCERATION_FL = \"Y\"\n",
    "#                         LIMIT 1000;\n",
    "#                         '''"
   ]
  }
 ],
 "metadata": {
  "kernelspec": {
   "display_name": "Python 3",
   "language": "python",
   "name": "python3"
  },
  "language_info": {
   "codemirror_mode": {
    "name": "ipython",
    "version": 3
   },
   "file_extension": ".py",
   "mimetype": "text/x-python",
   "name": "python",
   "nbconvert_exporter": "python",
   "pygments_lexer": "ipython3",
   "version": "3.7.1"
  }
 },
 "nbformat": 4,
 "nbformat_minor": 4
}
